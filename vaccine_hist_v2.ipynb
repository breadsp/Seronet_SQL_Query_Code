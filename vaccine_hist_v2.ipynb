{
 "cells": [
  {
   "cell_type": "markdown",
   "id": "bdf0f9d0-faaf-4e01-a94f-34babea9286f",
   "metadata": {
    "tags": []
   },
   "source": [
    "#### Objective\n",
    "Gather data and create summary table for Visit History.xlsx"
   ]
  },
  {
   "cell_type": "markdown",
   "id": "397700ba-14b0-4619-85e5-7170372027c8",
   "metadata": {},
   "source": [
    "#### Pre-requisites\n",
    "The following packages need to be installed in your notebook environment:\n",
    "1. <a href = https://dev.mysql.com/doc/connector-python/en/>mysql.connector</a>\n",
    "2. <a href = https://pandas.pydata.org/>pandas</a>\n",
    "3. <a href = https://numpy.org/>numpy</a>\n",
    "4. <a href = https://pypi.org/project/tableone/>tableone</a>\n",
    "5. <a href = https://pypi.org/project/openpyxl/>openpyxl</a>\n",
    "\n",
    "Be sure to install these packages in one of the directories in the system path(`print sys.path`) for the notebook environment.\n",
    "\n",
    "You will need access (username and password) to seronet vaccine response database, `seronetdb-Vaccine_Response`, accessible at the AWS endpoint: `seronet-dev-instance.cwe7vdnqsvxr.us-east-1.rds.amazonaws.com`. <br>\n",
    "**Note:** Store all mysql connector parameters in a `.env` file as shown below. <i>The `.env` needs to be in the same directory as the notebooks</i>.\n",
    "\n",
    "Ensure that the Excel workbook <i>Release_Data_Dictionary.xlsx</i> is in the same folder as this notebook. This workbook is also on versioned on GitHub."
   ]
  },
  {
   "cell_type": "code",
   "execution_count": 1,
   "id": "d3f2d6d8-19d1-4b8d-87a5-3733d65cec3c",
   "metadata": {},
   "outputs": [],
   "source": [
    "import mysql.connector as connection\n",
    "import pandas as pd\n",
    "import numpy as np\n",
    "import os\n",
    "from tableone import TableOne\n",
    "from openpyxl import load_workbook, Workbook\n",
    "from openpyxl.styles import Font\n",
    "import sqlalchemy as sd\n",
    "import datetime"
   ]
  },
  {
   "cell_type": "code",
   "execution_count": 2,
   "id": "233b3cd9",
   "metadata": {},
   "outputs": [],
   "source": [
    "last_edit = '12/13/2024'"
   ]
  },
  {
   "cell_type": "code",
   "execution_count": 3,
   "id": "a51c690e",
   "metadata": {},
   "outputs": [],
   "source": [
    "V4_fitler = False"
   ]
  },
  {
   "cell_type": "code",
   "execution_count": 4,
   "id": "ef99f5b6",
   "metadata": {},
   "outputs": [],
   "source": [
    "pd.options.mode.chained_assignment = None  # default='warn'"
   ]
  },
  {
   "cell_type": "code",
   "execution_count": 5,
   "id": "8a0bee51-1164-4009-b520-ddfcd13cd6c2",
   "metadata": {},
   "outputs": [],
   "source": [
    "'''\n",
    "Create a .env file to store hostname, database, username, and password as environment variables.  \n",
    "The .env file is stored in same folder as notebook.\n",
    "==============\n",
    "Format:\n",
    "HOST=a.b.c.d\n",
    "DB=<my.database>\n",
    "USER=john\n",
    "PWD=abc#123\n",
    "==============\n",
    "Note: no space around the \"=\" sign. Do not put any of the values in quotes.\n",
    "'''\n",
    "\n",
    "env = {}\n",
    "with open(\"test.env\") as f:\n",
    "    for line in f:\n",
    "        (k, v) = line.split(\"=\")\n",
    "        k = k.strip()\n",
    "        env[k] = v.strip()\n",
    "        \n",
    "HOST = env[\"HOST\"]\n",
    "DB = env[\"DB\"]\n",
    "USER = env[\"USER\"]\n",
    "PWD = env[\"PWD\"]"
   ]
  },
  {
   "cell_type": "code",
   "execution_count": 6,
   "id": "354d650b-3065-48a8-8978-36267e783f79",
   "metadata": {},
   "outputs": [],
   "source": [
    "if V4_fitler == True:\n",
    "    version_num = \"4.2.0\"\n",
    "    output_folder = r\"C:\\Users\\breadsp2\\Desktop\\Release_4.2.0\"\n",
    "else: \n",
    "    version_num = \"5.2.0\"\n",
    "    output_folder = r\"C:\\Users\\breadsp2\\Desktop\\Release_5.2.0\"\n",
    "file_sep = os.path.sep\n",
    "sheet_name = \"Vaccination_Data\"\n",
    "release_date = '2024-10-01'"
   ]
  },
  {
   "cell_type": "code",
   "execution_count": 7,
   "id": "7bb0fede-97d0-4e50-ad92-68302c34186e",
   "metadata": {},
   "outputs": [],
   "source": [
    "creds = {'usr': USER, 'pwd': PWD, 'hst': HOST, \"prt\": 3306, 'dbn': DB}\n",
    "connstr = \"mysql+mysqlconnector://{usr}:{pwd}@{hst}:{prt}/{dbn}\"\n",
    "engine = sd.create_engine(connstr.format(**creds))\n",
    "conn = engine.connect()"
   ]
  },
  {
   "cell_type": "code",
   "execution_count": 8,
   "id": "ad286d89",
   "metadata": {},
   "outputs": [],
   "source": [
    "curr_visit_file = output_folder + file_sep + \"Participant_Visit_Info_\" + version_num + \".xlsx\"\n",
    "curr_visit_data = pd.read_excel(curr_visit_file, sheet_name=\"Detailed_Report\")"
   ]
  },
  {
   "cell_type": "code",
   "execution_count": 9,
   "id": "fecb762f",
   "metadata": {},
   "outputs": [],
   "source": [
    "demo_file = output_folder + file_sep + \"Demographics_\" + version_num + \".xlsx\"\n",
    "demo_data = pd.read_excel(demo_file, sheet_name=\"Detailed_Report\")"
   ]
  },
  {
   "cell_type": "code",
   "execution_count": 10,
   "id": "29387ddd",
   "metadata": {},
   "outputs": [],
   "source": [
    "All_Vaccine = pd.read_sql((\"SELECT cv.*,   (cv.`SARS-CoV-2_Vaccination_Date_Duration_From_Index` -  voff.Offset_Value) as 'Vaccine_Duration_From_Visit_1' \" +\n",
    "        \n",
    "                           \"FROM Covid_Vaccination_Status as cv  \" +\n",
    "                           \"left join Visit_One_Offset_Correction as voff on cv.Research_Participant_ID = voff.Research_Participant_ID \"\n",
    "                           \"where cv.Covid_Vaccination_Status_Comments not in ('Record previously submitted in error.', \" +\n",
    "                           \"'Vaccine Status does not exist, input error', 'Record previously submitted: Duplicated.', 'Record occurs after last Visit: Not able to Link') or cv.Covid_Vaccination_Status_Comments is NULL\"), conn)"
   ]
  },
  {
   "cell_type": "code",
   "execution_count": 11,
   "id": "26493f9d",
   "metadata": {},
   "outputs": [],
   "source": [
    "x = All_Vaccine.query(\"Vaccination_Status in ('No vaccination event reported', 'Unvaccinated')\")\n",
    "All_Vaccine.loc[x.index, 'Vaccine_Duration_From_Visit_1'] = np.nan"
   ]
  },
  {
   "cell_type": "code",
   "execution_count": 12,
   "id": "bbe9e89e",
   "metadata": {},
   "outputs": [],
   "source": [
    "visit_data = pd.read_sql((\"SELECT * FROM Normalized_Visit_Info;\"), conn)\n",
    "visit_data.rename(columns={\"Vaccination_Status\": \"Last Vaccine Received\", \"SARS-CoV-2_Vaccine_Type\": \"Last Vaccine_Type Received\"}, inplace=True)"
   ]
  },
  {
   "cell_type": "code",
   "execution_count": 13,
   "id": "84639426",
   "metadata": {},
   "outputs": [],
   "source": [
    "\n",
    "visit_data[\"Last Vaccine Received\"] = visit_data[\"Last Vaccine Received\"].replace(\"Unvaccinated\", \"No vaccination event reported\")\n",
    "visit_data[\"Last Vaccine Received\"] = visit_data[\"Last Vaccine Received\"].replace(\"No Vaccination Data\", \"No vaccination event reported\")\n",
    "visit_data[\"Last Vaccine Received\"] = visit_data[\"Last Vaccine Received\"].replace(\"No Vaccination Data Reported\", \"No vaccination event reported\")\n",
    "\n",
    "x = visit_data.query(\"`Last Vaccine Received` == 'No vaccination event reported'\") \n",
    "visit_data.loc[x.index, \"Last Vaccine_Type Received\"] = \"No vaccination event reported\""
   ]
  },
  {
   "cell_type": "code",
   "execution_count": 14,
   "id": "faca121f",
   "metadata": {},
   "outputs": [],
   "source": [
    "All_Vaccine[\"Vaccination_Status\"] = All_Vaccine[\"Vaccination_Status\"].replace(\"Unvaccinated\", \"No vaccination event reported\")\n",
    "All_Vaccine[\"Vaccination_Status\"] = All_Vaccine[\"Vaccination_Status\"].replace(\"Not reported\", \"No vaccination event reported\")\n",
    "\n",
    "\n",
    "x = All_Vaccine.query(\"Vaccination_Status == 'No vaccination event reported'\") \n",
    "All_Vaccine.loc[x.index, \"SARS-CoV-2_Vaccine_Type\"] = \"No vaccination event reported\""
   ]
  },
  {
   "cell_type": "code",
   "execution_count": 15,
   "id": "2ff2900e",
   "metadata": {},
   "outputs": [],
   "source": [
    "part_table = pd.read_sql((\"SELECT * FROM Participant\"), conn)\n",
    "All_Vaccine = All_Vaccine.merge(part_table[[\"Research_Participant_ID\", \"Seronet_Participant_ID\"]])     #only include particpants with valid start date"
   ]
  },
  {
   "cell_type": "code",
   "execution_count": 16,
   "id": "581961d8",
   "metadata": {},
   "outputs": [],
   "source": [
    "All_Vaccine =  All_Vaccine.merge(visit_data, on=[\"Research_Participant_ID\", \"Visit_Info_ID\"], how=\"outer\")"
   ]
  },
  {
   "cell_type": "code",
   "execution_count": 17,
   "id": "ca8f33d7",
   "metadata": {},
   "outputs": [],
   "source": [
    "All_Vaccine = All_Vaccine.merge(demo_data[\"Seronet_Participant_ID\"])\n",
    "All_Vaccine = All_Vaccine.merge(curr_visit_data[[\"Seronet_Participant_ID\", 'Normalized_Visit_Index']], how=\"right\")"
   ]
  },
  {
   "cell_type": "code",
   "execution_count": 18,
   "id": "043316d8",
   "metadata": {},
   "outputs": [],
   "source": [
    "All_Vaccine.drop_duplicates(inplace=True)\n",
    "All_Vaccine.to_csv(\"all_vaccine.csv\")"
   ]
  },
  {
   "cell_type": "code",
   "execution_count": 19,
   "id": "c3d36610",
   "metadata": {},
   "outputs": [],
   "source": [
    "#All_Vaccine = All_Vaccine.query(\"Seronet_Participant_ID == 'SN615520'\")#"
   ]
  },
  {
   "cell_type": "code",
   "execution_count": 20,
   "id": "688e1b1f",
   "metadata": {},
   "outputs": [],
   "source": [
    "all_data  = []\n",
    "uni_id = list(set(All_Vaccine[\"Research_Participant_ID\"]))\n",
    "#uni_id = uni_id [:50]\n",
    "#uni_id = ['32_221119']\n",
    "\n",
    "for curr_part in uni_id:\n",
    "    \n",
    "    visit_1_info = All_Vaccine.query(f\"Research_Participant_ID == '{curr_part}'\")\n",
    "    \n",
    "    visit_1_info[\"SARS-CoV-2_Vaccination_Date_Duration_From_Index\"].fillna(-1000, inplace=True) #set unvacc / missing to -1000\n",
    "    visit_1_info[\"SARS-CoV-2_Vaccination_Date_Duration_From_Index\"].replace('N/A',-1000, inplace=True) #set unvacc / missing to -1000\n",
    "    visit_1_info[\"SARS-CoV-2_Vaccination_Date_Duration_From_Index\"] = [int(i) for i in visit_1_info[\"SARS-CoV-2_Vaccination_Date_Duration_From_Index\"]]\n",
    "    visit_1_info.sort_values([\"Normalized_Visit_Index\", \"SARS-CoV-2_Vaccination_Date_Duration_From_Index\"], inplace=True)    \n",
    "\n",
    "    #print(f\"{curr_part} has {len(visit_1_info)} visits\")\n",
    "    \n",
    "    for curr_visit in range(int(np.nanmin(visit_1_info[\"Normalized_Visit_Index\"])), int(np.nanmax(visit_1_info[\"Normalized_Visit_Index\"])) + 1):\n",
    "        if curr_visit == 0:\n",
    "            continue\n",
    "        if curr_visit not in list(set(visit_1_info[\"Normalized_Visit_Index\"])):\n",
    "            continue\n",
    "        \n",
    "        samp_visit = visit_1_info[:visit_1_info[\"Normalized_Visit_Index\"].tolist().index(curr_visit)+1]\n",
    "        samp_visit[\"Vaccination_Status\"].fillna('No vaccination event reported', inplace=True)\n",
    "        samp_visit[\"SARS-CoV-2_Vaccine_Type\"].fillna('No vaccination event reported', inplace=True)\n",
    "        \n",
    "        visit_summary= pd.crosstab(samp_visit[\"Research_Participant_ID\"],samp_visit[\"Vaccination_Status\"] + samp_visit[\"SARS-CoV-2_Vaccine_Type\"])\n",
    "\n",
    "        visit_summary[\"Normalized_Visit\"] = curr_visit\n",
    "        visit_summary[\"Visit_Vaccine_History\"] = \"Missing Vaccination Data\"\n",
    "        \n",
    "        if \"No vaccination event reportedNo vaccination event reported\" in visit_summary.columns:\n",
    "            x = visit_summary.query(\"`No vaccination event reportedNo vaccination event reported` >= 1\")\n",
    "            visit_summary[\"Visit_Vaccine_History\"][x.index] = \"No Vacccine_History\"\n",
    "\n",
    "        if \"UnvaccinatedN/A\" in visit_summary.columns:\n",
    "            x = visit_summary.query(\"`UnvaccinatedN/A` >= 1\")\n",
    "            visit_summary[\"Visit_Vaccine_History\"][x.index] = \"No Vacccine_History\"\n",
    "\n",
    "        if \"Dose 1 of 1Johnson & Johnson\" in visit_summary.columns:\n",
    "            x = visit_summary.query(\"`Dose 1 of 1Johnson & Johnson` >= 1\")\n",
    "            visit_summary[\"Visit_Vaccine_History\"][x.index] = \"Primary Series: Johnson & Johnson (1 Dose)\"\n",
    "\n",
    "        if \"Dose 1 of 2Pfizer\" in visit_summary.columns and \"Dose 2 of 2Pfizer\" in visit_summary.columns:\n",
    "            x = visit_summary.query(\"`Dose 1 of 2Pfizer` >= 1 and `Dose 2 of 2Pfizer` >= 1\")\n",
    "            visit_summary[\"Visit_Vaccine_History\"][x.index] = \"Primary Series: Pfizer (2 Doses)\"\n",
    "\n",
    "        if \"Dose 1 of 2Moderna\" in visit_summary.columns and \"Dose 2 of 2Moderna\" in visit_summary.columns:\n",
    "            x = visit_summary.query(\"`Dose 1 of 2Moderna` >= 1 and `Dose 2 of 2Moderna` >= 1\")\n",
    "            visit_summary[\"Visit_Vaccine_History\"][x.index] = \"Primary Series: Moderna (2 Doses)\"            \n",
    "            \n",
    "\n",
    "        visit_summary[\"Dose 1 of 1\"] = visit_summary[[col for col in visit_summary.columns if col.startswith('Dose 1 of 1')]].count(axis=1)\n",
    "        visit_summary[\"Dose 1 of 2\"] = visit_summary[[col for col in visit_summary.columns if col.startswith('Dose 1 of 2')]].count(axis=1)\n",
    "        visit_summary[\"Dose 2 of 2\"] = visit_summary[[col for col in visit_summary.columns if col.startswith('Dose 2 of 2')]].count(axis=1)\n",
    "        \n",
    "        visit_summary[\"Extra Dose 2\"] = visit_summary[[col for col in visit_summary.columns \n",
    "                                                       if col.startswith('Dose 2') and not(col.startswith('Dose 2 of 2'))]].count(axis=1)\n",
    "        visit_summary[\"Extra Dose 3\"] = visit_summary[[col for col in visit_summary.columns if col.startswith('Dose 3')]].count(axis=1)\n",
    "        \n",
    "        x = visit_summary.query(\"Visit_Vaccine_History == 'Primary Series: Johnson & Johnson (1 Dose)' and `Dose 2 of 2` > 0\")\n",
    "        visit_summary.loc[x.index, \"Dose 2 of 2\"] = 0\n",
    "        visit_summary.loc[x.index, \"Extra Dose 2\"] = 1\n",
    "        \n",
    "        \n",
    "        #visit_summary[\"Extra Dose 2_a\"] = (visit_summary[\"Extra Dose 2\"] - visit_summary[\"Dose 2 of 2\"])\n",
    "        \n",
    "        \n",
    "        visit_summary[\"Booster Count\"] = visit_summary[[col for col in visit_summary.columns if col.startswith('Booster')]].count(axis=1)\n",
    "        visit_summary[\"Bivalent Boosters\"] = visit_summary[[col for col in visit_summary.columns if col.startswith('Booster') and (\"Bivalent\" in col)]].count(axis=1)\n",
    "        visit_summary[\"XBB1.5 Booosters\"] = visit_summary[[col for col in visit_summary.columns if col.startswith('Booster') and (\"XBB.1.5\" in col)]].count(axis=1)\n",
    "        \n",
    "        #print(visit_summary)\n",
    "        \n",
    "        visit_summary[\"Extra Doses\"] = visit_summary[\"Extra Dose 2\"] + visit_summary[\"Extra Dose 3\"]\n",
    "        \n",
    "        if \"Dose 1 of 2Moderna\" in visit_summary.columns:\n",
    "            x = visit_summary.query(\"`Dose 1 of 2` == 1 and `Dose 2 of 2` == 0 and `Dose 1 of 2Moderna` >= 1\")\n",
    "            visit_summary[\"Visit_Vaccine_History\"][x.index] = \"Primary Series: Moderna (1 Dose)\" #\"Moderna: Dose 1 of 2 only\"\n",
    "\n",
    "        if \"Dose 1 of 2Pfizer\" in visit_summary.columns:\n",
    "            x = visit_summary.query(\"`Dose 1 of 2` == 1 and `Dose 2 of 2` == 0 and `Dose 1 of 2Pfizer` >= 1\")\n",
    "            visit_summary[\"Visit_Vaccine_History\"][x.index] = \"Primary Series: Pfizer (1 Dose)\" #Pfizer: Dose 1 of 2 only\"\n",
    "            \n",
    "        if \"Dose 1 of 2Unknown\" in visit_summary.columns:\n",
    "            x = visit_summary.query(\"`Dose 1 of 2` == 1 and `Dose 2 of 2` == 0 and `Dose 1 of 2Unknown` >= 1\")\n",
    "            visit_summary[\"Visit_Vaccine_History\"][x.index] = \"Primary Series: Unknown / Other (1 Dose)\" #\"Unknown: Dose 1 of 2 only\"\n",
    "\n",
    "            \n",
    "        if \"Dose 1 of 2Sinovac\" in visit_summary.columns:\n",
    "            x = visit_summary.query(\"`Dose 1 of 2` >= 1 and `Dose 2 of 2` == 0\")\n",
    "            visit_summary[\"Visit_Vaccine_History\"][x.index] = \"Primary Series: Unknown / Other (1 Dose)\"\n",
    "        if \"Dose 1 of 2Novavax\" in visit_summary.columns:\n",
    "            x = visit_summary.query(\"`Dose 1 of 2` >= 1 and `Dose 2 of 2` == 0\")\n",
    "            visit_summary[\"Visit_Vaccine_History\"][x.index] = \"Primary Series: Unknown / Other (1 Dose)\"\n",
    "        if \"Dose 1 of 2Sputnik V\" in visit_summary.columns:\n",
    "            x = visit_summary.query(\"`Dose 1 of 2` >= 1 and `Dose 2 of 2` == 0\")\n",
    "            visit_summary[\"Visit_Vaccine_History\"][x.index] = \"Primary Series: Unknown / Other (1 Dose)\"\n",
    "            \n",
    "            \n",
    "            \n",
    "        x = visit_summary.query(\"`Dose 1 of 2` == 1 and `Dose 2 of 2` == 1 and `Visit_Vaccine_History` in ['Missing Vaccination Data', 'No Vacccine_History']\")\n",
    "        visit_summary[\"Visit_Vaccine_History\"][x.index] = \"Primary Series: Mixed/Unknown/Other (2 Doses)\"\n",
    "        \n",
    "        visit_summary[\"Primary Series\"] = visit_summary[\"Visit_Vaccine_History\"]\n",
    "\n",
    "        x = visit_summary.query(\"`Extra Doses` == 0\")\n",
    "        visit_summary.loc[x.index, \"Visit_Vaccine_History\"] = (visit_summary[\"Visit_Vaccine_History\"] + \" and \" +\n",
    "                                                              visit_summary[\"Booster Count\"].astype(str) + \" Boosters\")\n",
    "        \n",
    "        x = visit_summary.query(\"`Extra Doses` == 1 and Visit_Vaccine_History == 'Primary Series: Johnson & Johnson (1 Dose)'\")\n",
    "        visit_summary.loc[x.index, \"Visit_Vaccine_History\"] = (\"Primary Series: Johnson & Johnson (2 Dose)* and \" +\n",
    "                                                              visit_summary[\"Booster Count\"].astype(str) + \" Boosters\")\n",
    "        \n",
    "        x = visit_summary.query(\"`Extra Doses` == 1 and Visit_Vaccine_History == 'Primary Series: Moderna (2 Doses)'\")\n",
    "        visit_summary.loc[x.index, \"Visit_Vaccine_History\"] = (\"Primary Series: Moderna (3 Doses)* and \" +\n",
    "                                                              visit_summary[\"Booster Count\"].astype(str) + \" Boosters\")\n",
    "        \n",
    "        x = visit_summary.query(\"`Extra Doses` == 1 and Visit_Vaccine_History == 'Primary Series: Pfizer (2 Doses)'\")\n",
    "        visit_summary.loc[x.index, \"Visit_Vaccine_History\"] = (\"Primary Series: Pfizer (3 Doses)* and \" +\n",
    "                                                              visit_summary[\"Booster Count\"].astype(str) + \" Boosters\")\n",
    "        \n",
    "        x = visit_summary.query(\"`Extra Doses` == 1 and Visit_Vaccine_History == 'Mixed/Unknown/Other (2 Doses)'\")\n",
    "        visit_summary.loc[x.index, \"Visit_Vaccine_History\"] = (\"Primary Series: Mixed/Unknown/Other (3 Doses)* and \" +\n",
    "                                                              visit_summary[\"Booster Count\"].astype(str) + \" Boosters\")\n",
    "        \n",
    "        \n",
    "        #visit_summary[\"Visit_Vaccine_History\"] =  [i.replace('1 Extra Doses', '1 Extra Dose') for i in visit_summary[\"Visit_Vaccine_History\"]]\n",
    "        visit_summary[\"Visit_Vaccine_History\"] =  [i.replace(' and 0.0 Boosters', '') for i in visit_summary[\"Visit_Vaccine_History\"]]\n",
    "        visit_summary[\"Visit_Vaccine_History\"] =  [i.replace(' and 0 Boosters', '') for i in visit_summary[\"Visit_Vaccine_History\"]]\n",
    "       \n",
    "        #visit_summary[\"Visit_Vaccine_History\"] =  [i.replace(\"with 0.0 Extra Doses and\", 'with') for i in visit_summary[\"Visit_Vaccine_History\"]]\n",
    "        #visit_summary[\"Visit_Vaccine_History\"] =  [i.replace(\"with 0 Extra Doses and\", 'with') for i in visit_summary[\"Visit_Vaccine_History\"]]\n",
    "      \n",
    "        visit_summary[\"Visit_Vaccine_History\"] =  [i.replace('1 Boosters', '1 Booster') for i in visit_summary[\"Visit_Vaccine_History\"]]\n",
    "        #visit_summary[\"Visit_Vaccine_History\"].replace('Missing Vaccination Data', 'Unable to Resolve Vaccination History', inplace=True)\n",
    "        \n",
    "        \n",
    "        \n",
    "           \n",
    "        moderna_list = [\"Dose 1 of 2Moderna\", \"Dose 2 of 2Moderna\", \"Dose 2Moderna\", \"Dose 3Moderna\",\n",
    "                       \"Dose 2:Monovalent XBB.1.5Moderna\",\"Dose 3:BivalentModerna\",\"Dose 3:Monovalent XBB.1.5Moderna\"]\n",
    "        pfizer_list  = [\"Dose 1 of 2Pfizer\", \"Dose 2 of 2Pfizer\", \"Dose 2Pfizer\", \"Dose 3Pfizer\",\n",
    "                        \"Dose 2:Monovalent XBB.1.5Pfizer\",\"Dose 3:BivalentPfizer\",\"Dose 3:Monovalent XBB.1.5Pfizer\"]\n",
    "        JandJ_list   = [\"Dose 1 of 1Johnson & Johnson\", \"Dose 1 of 2Johnson & Johnson\", \"Dose 2Johnson & Johnson\", \n",
    "                        \"Dose 2 of 2Johnson & Johnson\"]\n",
    "\n",
    "        Sinovac_list = [\"Dose 1 of 2Sinovac\", \"Dose 2 of 2Sinovac\"]\n",
    "        Other_list = [\"Dose 1 of 2Unknown\",\"Dose 2 of 2Unknown\"]\n",
    "        Novavax_list = [\"Dose 1 of 2Novavax\",\"Dose 2 of 2Novavax\"]\n",
    "        Sputnik_list = [\"Dose 1 of 2Sputnik V\",\"Dose 2 of 2Sputnik V\"]\n",
    "        \n",
    "        visit_summary[\"Dose 1\"] = \"\"\n",
    "        visit_summary[\"Dose 2\"] = \"\"\n",
    "        visit_summary[\"Dose 3\"] = \"\"\n",
    "        \n",
    "        for curr_vacc in pfizer_list:\n",
    "            if curr_vacc in visit_summary.columns:\n",
    "                if len(visit_summary[visit_summary[curr_vacc] >= 1]) == 1:\n",
    "                    visit_summary[curr_vacc[:6]] = \"Pfizer\"\n",
    "        for curr_vacc in moderna_list:\n",
    "            if curr_vacc in visit_summary.columns:\n",
    "                if len(visit_summary[visit_summary[curr_vacc] >= 1]) == 1:\n",
    "                    visit_summary[curr_vacc[:6]] = \"Moderna\"\n",
    "        for curr_vacc in JandJ_list:\n",
    "            if curr_vacc in visit_summary.columns:\n",
    "                if len(visit_summary[visit_summary[curr_vacc] >= 1]) == 1:\n",
    "                    visit_summary[curr_vacc[:6]] = \"Johnson & Johnson\"\n",
    "                    \n",
    "        for curr_vacc in Sinovac_list:\n",
    "            if curr_vacc in visit_summary.columns:\n",
    "                if len(visit_summary[visit_summary[curr_vacc] >= 1]) == 1:\n",
    "                    visit_summary[curr_vacc[:6]] = \"Sinovac\"\n",
    "        for curr_vacc in Novavax_list:\n",
    "            if curr_vacc in visit_summary.columns:\n",
    "                if len(visit_summary[visit_summary[curr_vacc] >= 1]) == 1:\n",
    "                    visit_summary[curr_vacc[:6]] = \"Novavax\"\n",
    "        for curr_vacc in Sputnik_list:\n",
    "            if curr_vacc in visit_summary.columns:\n",
    "                if len(visit_summary[visit_summary[curr_vacc] >= 1]) == 1:\n",
    "                    visit_summary[curr_vacc[:6]] = \"Sputnik V\"\n",
    "        for curr_vacc in Other_list:\n",
    "            if curr_vacc in visit_summary.columns:\n",
    "                if len(visit_summary[visit_summary[curr_vacc] >= 1]) == 1:\n",
    "                    visit_summary[curr_vacc[:6]] = \"Unknown\"\n",
    "                    \n",
    "                    \n",
    "        if len(visit_summary.query(\"`Dose 1 of 2` == 0 and `Dose 1 of 1` == 0\")) == 1: \n",
    "           visit_summary[\"Dose 1\"] = \"Not Received\"\n",
    "        \n",
    "        if len(visit_summary.query(\"`Dose 2 of 2` == 0 and `Extra Dose 2` == 0\")) == 1:\n",
    "            visit_summary[\"Dose 2\"] = \"Not Received\"\n",
    "        if len(visit_summary.query(\"`Extra Dose 3` == 0\")) == 1:\n",
    "            visit_summary[\"Dose 3\"] = \"Not Received\"\n",
    "        \n",
    "        x = visit_summary.query(\"`Dose 1 of 2` == 0 and `Dose 1 of 1` == 0 and `Dose 2 of 2` > 0\")  #has does 2 but missing does 1\n",
    "        visit_summary.loc[x.index, \"Visit_Vaccine_History\"] = 'Unable to Resolve Vaccination History'\n",
    "        \n",
    "        x = visit_summary.query(\"`Dose 1 of 2` == 0 and `Dose 1 of 1` == 0 and `Extra Doses` > 0\")  #has does 3 but missing does 1\n",
    "        visit_summary.loc[x.index, \"Visit_Vaccine_History\"] = 'Unable to Resolve Vaccination History'\n",
    "        \n",
    "        x = visit_summary.query(\"`Dose 1 of 1` == 0 and `Dose 2 of 2` == 0 and `Extra Doses` > 0\")  #has does 3 but missing does 2\n",
    "        visit_summary.loc[x.index, \"Visit_Vaccine_History\"] = 'Unable to Resolve Vaccination History'\n",
    "        \n",
    "        x = visit_summary.query(\"`Dose 1 of 2` > 0 and `Dose 2 of 2` == 0 and `Booster Count` > 0\")  #has does 3 but missing does 2\n",
    "        visit_summary.loc[x.index, \"Visit_Vaccine_History\"] = 'Unable to Resolve Vaccination History'\n",
    "        \n",
    "        x = visit_summary.query(\"`Dose 1 of 1` == 0 and `Dose 1 of 2` == 0 and `Dose 2 of 2` == 0 and `Booster Count` > 0\")  #has does 3 but missing does 2\n",
    "        visit_summary.loc[x.index, \"Visit_Vaccine_History\"] = 'Unable to Resolve Vaccination History'\n",
    "        \n",
    "        visit_summary = visit_summary.reset_index( drop=False)\n",
    "        visit_summary = pd.DataFrame(visit_summary.values, columns=visit_summary.columns.tolist())\n",
    "        \n",
    "        if len(all_data) == 0:\n",
    "            all_data = visit_summary\n",
    "        else:\n",
    "            all_data = pd.concat([all_data, visit_summary])\n",
    "            \n"
   ]
  },
  {
   "cell_type": "code",
   "execution_count": 21,
   "id": "b642e061",
   "metadata": {},
   "outputs": [],
   "source": [
    "#if V4_fitler == True:\n",
    "#    all_data = all_data.merge(v4_visits[['Research_Participant_ID', 'Visit_Info_ID', 'Normalized_Visit_Index']], \n",
    "#                              left_on = [\"Research_Participant_ID\", \"Normalized_Visit\"], right_on=['Research_Participant_ID', 'Normalized_Visit_Index'], how=\"left\")\n",
    "\n",
    "all_data = all_data.merge(part_table[[\"Research_Participant_ID\", \"Seronet_Participant_ID\"]])     #only include particpants with valid start date\n",
    "  \n",
    "all_data.drop_duplicates(inplace=True)"
   ]
  },
  {
   "cell_type": "code",
   "execution_count": 22,
   "id": "2dc5805d",
   "metadata": {},
   "outputs": [],
   "source": [
    "'''\n",
    "This block adds a CBC column to dataframe based on the Research_Participant_ID.\n",
    "'''\n",
    "all_data['CBC'] = \"Not Reported\"\n",
    "\n",
    "conditions = [\n",
    "    all_data['Research_Participant_ID'].str.startswith('14'),\n",
    "    all_data['Research_Participant_ID'].str.startswith('27'),\n",
    "    all_data['Research_Participant_ID'].str.startswith('41'),\n",
    "    all_data['Research_Participant_ID'].str.startswith('32_22'),  #ASU_Midwestern\n",
    "    all_data['Research_Participant_ID'].str.startswith('32_33'),  #ASU_Dignity Health\n",
    "    all_data['Research_Participant_ID'].str.startswith('32_44'),  #ASU_ValleyWise\n",
    "    all_data['Research_Participant_ID'].str.startswith('32_77'),  #ASU_Phoenix Childrens Hospital\n",
    "    all_data['Research_Participant_ID'].str.startswith('32_55'),  #ASU_Columbia\n",
    "]\n",
    "\n",
    "values = [\"Mount_Sinai\", \"University of Minnesota\", \"Feinstein_Northwell\", \"ASU: Midwestern\", \"ASU: Dignity Health\",\n",
    "          \"ASU: ValleyWise\", \"ASU: Phoenix Childrens Hospital\", \"Columbia University\"]\n",
    "\n",
    "all_data['CBC'] = np.select(conditions, values)"
   ]
  },
  {
   "cell_type": "code",
   "execution_count": 23,
   "id": "222ed0e5",
   "metadata": {},
   "outputs": [],
   "source": [
    "all_data.reset_index(inplace=True)\n",
    "\n",
    "all_data.rename(columns={\"Booster Count\": \"Original Boosters\"}, inplace=True)\n",
    "all_data[\"Original Boosters\"] = all_data[\"Original Boosters\"]  - (all_data[\"Bivalent Boosters\"] + all_data[\"XBB1.5 Booosters\"])\n",
    "\n",
    "#all_data.to_csv(\"all_data_1.csv\")\n"
   ]
  },
  {
   "cell_type": "code",
   "execution_count": 24,
   "id": "c7e19259",
   "metadata": {},
   "outputs": [],
   "source": [
    "all_data.reset_index(drop = True, inplace=True)\n",
    "uni_id = list(set(all_data[\"Research_Participant_ID\"]))\n",
    "\n",
    "for curr_part in uni_id:\n",
    "    visit_1_info = all_data.query(f\"Research_Participant_ID == '{curr_part}'\")\n",
    "    x = visit_1_info.query(\"Visit_Vaccine_History =='Unable to Resolve Vaccination History'\")\n",
    "    if len(x) >= 1:\n",
    "        all_data.loc[visit_1_info.index, \"Visit_Vaccine_History\"] = 'Unable to Resolve Vaccination History'"
   ]
  },
  {
   "cell_type": "code",
   "execution_count": 25,
   "id": "3f810a40",
   "metadata": {},
   "outputs": [],
   "source": [
    "all_data = all_data.merge(visit_data, left_on=[\"Research_Participant_ID\",'Normalized_Visit'], \n",
    "               right_on = [\"Research_Participant_ID\",'Normalized_Visit_Index'], how=\"left\")"
   ]
  },
  {
   "cell_type": "code",
   "execution_count": 26,
   "id": "c3bc2ba1",
   "metadata": {},
   "outputs": [],
   "source": [
    "#if V4_fitler == True:\n",
    "#    all_data = all_data.merge(v4_visits[['Research_Participant_ID', 'Visit_Info_ID']])\n",
    "#    All_Vaccine = All_Vaccine.merge(v4_visits[['Research_Participant_ID', 'Visit_Info_ID']])"
   ]
  },
  {
   "cell_type": "code",
   "execution_count": 27,
   "id": "025db092",
   "metadata": {},
   "outputs": [],
   "source": [
    "#col_list = [\"CBC\", \"Research_Participant_ID\" , \"SeroNet_Cohort\", \"Normalized_Visit\", 'Visit_Info_ID', \"Visit_Vaccine_History\", \n",
    " #           \"Primary Series\", \"Dose 1\", \"Dose 2\", \"Dose 3\",  \"Original Boosters\", \"Bivalent Boosters\", \"XBB1.5 Booosters\"]\n",
    "\n",
    "col_list = [\"Seronet_Participant_ID\" , \"SeroNet_Cohort\", \"Normalized_Visit\", \"Visit_Vaccine_History\", \n",
    "            \"Primary Series\", \"Dose 1\", \"Dose 2\", \"Dose 3\",  \"Original Boosters\", \"Bivalent Boosters\", \"XBB1.5 Booosters\"]\n",
    "\n",
    "all_data = all_data[col_list]"
   ]
  },
  {
   "cell_type": "code",
   "execution_count": 28,
   "id": "5b43b656",
   "metadata": {},
   "outputs": [],
   "source": [
    "All_Vaccine['Vaccine_Window_Cat'] = \"\""
   ]
  },
  {
   "cell_type": "code",
   "execution_count": 29,
   "id": "afe79db4",
   "metadata": {},
   "outputs": [],
   "source": [
    "x = All_Vaccine.query(\"Vaccination_Status in ['Unvaccinated', 'No Vaccination Data']\")\n",
    "All_Vaccine.loc[x.index, 'Vaccine_Window_Cat'] = np.nan  #no vaccination event\n",
    "\n",
    "x = All_Vaccine.query(\"Vaccination_Status not in ['Unvaccinated', 'No Vaccination Data'] and Duration_Between_Vaccine_and_Visit == 0\")\n",
    "All_Vaccine.loc[x.index, 'Vaccine_Window_Cat'] = \"Same Day\"\n",
    "\n",
    "x = All_Vaccine.query(\"Vaccination_Status not in ['Unvaccinated', 'No Vaccination Data'] and Duration_Between_Vaccine_and_Visit > 0 and Duration_Between_Vaccine_and_Visit < 15\")\n",
    "All_Vaccine.loc[x.index, 'Vaccine_Window_Cat'] = \"1 to 14 days\"\n",
    "\n",
    "x = All_Vaccine.query(\"Vaccination_Status not in ['Unvaccinated', 'No Vaccination Data'] and Duration_Between_Vaccine_and_Visit >= 15 and Duration_Between_Vaccine_and_Visit <= 45\")\n",
    "All_Vaccine.loc[x.index, 'Vaccine_Window_Cat'] = \"15 to 45 days (1 month)\"\n",
    "\n",
    "x = All_Vaccine.query(\"Vaccination_Status not in ['Unvaccinated', 'No Vaccination Data'] and Duration_Between_Vaccine_and_Visit >= 46 and Duration_Between_Vaccine_and_Visit <= 74\")\n",
    "All_Vaccine.loc[x.index, 'Vaccine_Window_Cat'] = \"46 to 74 days\"\n",
    "\n",
    "x = All_Vaccine.query(\"Vaccination_Status not in ['Unvaccinated', 'No Vaccination Data'] and Duration_Between_Vaccine_and_Visit >= 75 and Duration_Between_Vaccine_and_Visit <= 105\")\n",
    "All_Vaccine.loc[x.index, 'Vaccine_Window_Cat'] = \"75 to 105 days (3 month)\"\n",
    "\n",
    "x = All_Vaccine.query(\"Vaccination_Status not in ['Unvaccinated', 'No Vaccination Data'] and Duration_Between_Vaccine_and_Visit >= 106 and Duration_Between_Vaccine_and_Visit <= 164\")\n",
    "All_Vaccine.loc[x.index, 'Vaccine_Window_Cat'] = \"106 to 164 days\"\n",
    "\n",
    "x = All_Vaccine.query(\"Vaccination_Status not in ['Unvaccinated', 'No Vaccination Data'] and Duration_Between_Vaccine_and_Visit >= 165 and Duration_Between_Vaccine_and_Visit <= 195\")\n",
    "All_Vaccine.loc[x.index, 'Vaccine_Window_Cat'] = \"165 to 195 days (6 month)\"\n",
    "\n",
    "x = All_Vaccine.query(\"Vaccination_Status not in ['Unvaccinated', 'No Vaccination Data'] and Duration_Between_Vaccine_and_Visit >= 196 and Duration_Between_Vaccine_and_Visit <= 344\")\n",
    "All_Vaccine.loc[x.index, 'Vaccine_Window_Cat'] = \"196 to 344 days\"\n",
    "\n",
    "x = All_Vaccine.query(\"Vaccination_Status not in ['Unvaccinated', 'No Vaccination Data'] and Duration_Between_Vaccine_and_Visit >= 345 and Duration_Between_Vaccine_and_Visit <= 375\")\n",
    "All_Vaccine.loc[x.index, 'Vaccine_Window_Cat'] = \"345 to 375 days (12 month)\"\n",
    "\n",
    "\n",
    "x = All_Vaccine.query(\"Vaccination_Status not in ['Unvaccinated', 'No Vaccination Data'] and Duration_Between_Vaccine_and_Visit >= 376 and Duration_Between_Vaccine_and_Visit <= 524\")\n",
    "All_Vaccine.loc[x.index, 'Vaccine_Window_Cat'] = \"376 to 524 days\"\n",
    "\n",
    "x = All_Vaccine.query(\"Vaccination_Status not in ['Unvaccinated', 'No Vaccination Data'] and Duration_Between_Vaccine_and_Visit >= 525 and Duration_Between_Vaccine_and_Visit <= 555\")\n",
    "All_Vaccine.loc[x.index, 'Vaccine_Window_Cat'] = \"525 to 555 days (18 month)\"\n",
    "\n",
    "x = All_Vaccine.query(\"Vaccination_Status not in ['Unvaccinated', 'No Vaccination Data'] and Duration_Between_Vaccine_and_Visit >= 556 and Duration_Between_Vaccine_and_Visit <= 704\")\n",
    "All_Vaccine.loc[x.index, 'Vaccine_Window_Cat'] = \"556 to 704 days\"\n",
    "\n",
    "x = All_Vaccine.query(\"Vaccination_Status not in ['Unvaccinated', 'No Vaccination Data'] and Duration_Between_Vaccine_and_Visit >= 705 and Duration_Between_Vaccine_and_Visit <= 735\")\n",
    "All_Vaccine.loc[x.index, 'Vaccine_Window_Cat'] = \"705 to 735 days (24 month)\"\n",
    "\n",
    "x = All_Vaccine.query(\"Vaccination_Status not in ['Unvaccinated', 'No Vaccination Data'] and Duration_Between_Vaccine_and_Visit >= 736\")\n",
    "All_Vaccine.loc[x.index, 'Vaccine_Window_Cat'] = \"736 days or more\"\n",
    "\n",
    "x = All_Vaccine.query(\"Vaccination_Status not in ['Unvaccinated', 'No Vaccination Data'] and Duration_Between_Vaccine_and_Visit >= 5000\")\n",
    "All_Vaccine.loc[x.index, 'Vaccine_Window_Cat'] = \"Unable to determine (Vaccine Date not provided)\""
   ]
  },
  {
   "cell_type": "code",
   "execution_count": 30,
   "id": "50a92e63",
   "metadata": {},
   "outputs": [],
   "source": [
    "all_data = all_data.sort_values([\"Seronet_Participant_ID\", \"Normalized_Visit\"])\n",
    "All_Vaccine = All_Vaccine.sort_values([\"Seronet_Participant_ID\", \"Normalized_Visit_Index\", 'Vaccine_Duration_From_Baseline'])"
   ]
  },
  {
   "cell_type": "code",
   "execution_count": 31,
   "id": "7d516887",
   "metadata": {},
   "outputs": [],
   "source": [
    "#All_Vaccine.query(\"Research_Participant_ID == '32_221297'\")"
   ]
  },
  {
   "cell_type": "code",
   "execution_count": 32,
   "id": "77241457",
   "metadata": {},
   "outputs": [],
   "source": [
    "x = All_Vaccine.query(\"Vaccine_Window_Cat == 'Unable to determine (Vaccine Date not provided)'\")\n",
    "All_Vaccine.loc[x.index, \"Duration_Between_Vaccine_and_Visit\"] = np.nan\n",
    "All_Vaccine.loc[x.index, \"Vaccine_Duration_From_Baseline\"] = np.nan\n"
   ]
  },
  {
   "cell_type": "code",
   "execution_count": 33,
   "id": "81ec2b52",
   "metadata": {},
   "outputs": [],
   "source": [
    "#All_Vaccine = All_Vaccine.query(\"Vaccination_Status not in ['No vaccination event reported', 'Unvaccinated']\")"
   ]
  },
  {
   "cell_type": "code",
   "execution_count": 34,
   "id": "7e693da1",
   "metadata": {},
   "outputs": [],
   "source": [
    "All_Vaccine[\"Vaccination_Status\"] = All_Vaccine[\"Vaccination_Status\"].replace(\"Unvaccinated\", \"No vaccination event reported\")\n",
    "\n",
    "All_Vaccine[\"Last Vaccine Received\"] = All_Vaccine[\"Last Vaccine Received\"].replace(\"Unvaccinated\", \"No vaccination event reported\")\n",
    "All_Vaccine[\"Last Vaccine Received\"] = All_Vaccine[\"Last Vaccine Received\"].replace(\"No Vaccination Data\", \"No vaccination event reported\")\n",
    "All_Vaccine[\"Last Vaccine Received\"] = All_Vaccine[\"Last Vaccine Received\"].replace(\"No Vaccination Data Reported\", \"No vaccination event reported\")"
   ]
  },
  {
   "cell_type": "code",
   "execution_count": 35,
   "id": "3674b4f7",
   "metadata": {},
   "outputs": [],
   "source": [
    "x = All_Vaccine.query(\"`Last Vaccine Received` == 'No vaccination event reported'\")\n",
    "All_Vaccine.loc[x.index, \"Last Vaccine_Type Received\"] = 'No vaccination event reported'\n",
    "All_Vaccine.loc[x.index, \"Vaccine_Duration_From_Baseline\"] = np.nan\n",
    "All_Vaccine.loc[x.index, \"Duration_Between_Vaccine_and_Visit\"] = np.nan\n",
    "\n",
    "All_Vaccine.loc[x.index, 'Vaccine_Window_Cat'] = \"No Vaccination Event\""
   ]
  },
  {
   "cell_type": "code",
   "execution_count": 36,
   "id": "3ae7fa9c",
   "metadata": {},
   "outputs": [],
   "source": [
    "x = All_Vaccine.query(\"Vaccination_Status == 'No vaccination event reported'\") \n",
    "All_Vaccine.loc[x.index, \"Vaccination_Status\"] = x[\"Last Vaccine Received\"]"
   ]
  },
  {
   "cell_type": "code",
   "execution_count": 37,
   "id": "abaa8a3f",
   "metadata": {},
   "outputs": [],
   "source": [
    "#All_Vaccine = All_Vaccine.query(\"Vaccination_Status == `Last Vaccine Received`\")\n",
    "All_Vaccine = All_Vaccine.query(\"Normalized_Visit_Index == Normalized_Visit_Index\")"
   ]
  },
  {
   "cell_type": "code",
   "execution_count": 38,
   "id": "c07bfd39",
   "metadata": {
    "scrolled": true
   },
   "outputs": [
    {
     "data": {
      "text/plain": [
       "15518"
      ]
     },
     "execution_count": 38,
     "metadata": {},
     "output_type": "execute_result"
    }
   ],
   "source": [
    "len(all_data)"
   ]
  },
  {
   "cell_type": "code",
   "execution_count": 39,
   "id": "4f62c633",
   "metadata": {},
   "outputs": [],
   "source": [
    "All_Vaccine[\"Last Booster Type\"]  = \"\"\n",
    "\n",
    "x = [i.split(\":\") for i in All_Vaccine[\"Last Vaccine Received\"]]\n",
    "All_Vaccine[\"Last Vaccine Received\"]  = [i[0].strip() if len(i) == 1 else i[0].strip() for i in x]\n",
    "All_Vaccine[\"Last Booster Type Received\"]  = [\"N/A\" if len(i) == 1 else i[1].strip() for i in x]\n",
    "\n",
    "x = All_Vaccine.query(\"`Last Vaccine Received` == 'No vaccination event reported'\")\n",
    "All_Vaccine.loc[x.index, \"Last Booster Type Received\"] = 'N/A'\n",
    "All_Vaccine.loc[x.index, \"Last Vaccine_Type Received\"] = 'N/A'"
   ]
  },
  {
   "cell_type": "code",
   "execution_count": 40,
   "id": "7dfbf3b7",
   "metadata": {},
   "outputs": [],
   "source": [
    "new_cols = [\"Seronet_Participant_ID\", \"SeroNet_Cohort\", \"Normalized_Visit_Index\",\n",
    "            \"Last Vaccine Received\", \"Last Vaccine_Type Received\", \"Last Booster Type Received\", \"Vaccine_Duration_From_Baseline\", \"Duration_Between_Vaccine_and_Visit\", \n",
    "            \"Vaccine_Window_Cat\",  \"SARS-CoV-2_Vaccination_Side_Effects\", \"Other_SARS-CoV-2_Vaccination_Side_Effects\", \"Covid_Vaccination_Status_Comments\"]\n",
    "\n",
    "All_Vaccine = All_Vaccine[new_cols]"
   ]
  },
  {
   "cell_type": "code",
   "execution_count": 41,
   "id": "0ff2e45c",
   "metadata": {},
   "outputs": [
    {
     "data": {
      "text/plain": [
       "Index(['Seronet_Participant_ID', 'SeroNet_Cohort', 'Normalized_Visit',\n",
       "       'Visit_Vaccine_History', 'Primary Series', 'Dose 1', 'Dose 2', 'Dose 3',\n",
       "       'Original Boosters', 'Bivalent Boosters', 'XBB1.5 Booosters'],\n",
       "      dtype='object')"
      ]
     },
     "execution_count": 41,
     "metadata": {},
     "output_type": "execute_result"
    }
   ],
   "source": [
    "all_data.columns"
   ]
  },
  {
   "cell_type": "code",
   "execution_count": 42,
   "id": "c2aea7e6",
   "metadata": {},
   "outputs": [],
   "source": [
    "all_data.drop_duplicates(['Seronet_Participant_ID', \"Normalized_Visit\"], inplace=True)\n",
    "All_Vaccine.drop_duplicates(['Seronet_Participant_ID', \"Normalized_Visit_Index\", \"Last Vaccine Received\"], inplace=True)"
   ]
  },
  {
   "cell_type": "code",
   "execution_count": 43,
   "id": "edd793b3",
   "metadata": {},
   "outputs": [],
   "source": [
    "all_data[\"Visit_Vaccine_History\"] = [i.strip() for i in all_data[\"Visit_Vaccine_History\"]]"
   ]
  },
  {
   "cell_type": "code",
   "execution_count": 44,
   "id": "e4fe9ad1",
   "metadata": {},
   "outputs": [],
   "source": [
    "all_data.replace('Missing Vaccination Data', 'Unable to Resolve Vaccination History', inplace=True)\n",
    "all_data.replace('No Vacccine_History with 1 Booster', 'Unable to Resolve Vaccination History', inplace=True)\n",
    "all_data.replace('No Vacccine_History with 2 Boosters', 'Unable to Resolve Vaccination History', inplace=True)"
   ]
  },
  {
   "cell_type": "code",
   "execution_count": 45,
   "id": "4c5a08d3",
   "metadata": {},
   "outputs": [],
   "source": [
    "visit_1_data = all_data.query(\"Normalized_Visit == 1\")"
   ]
  },
  {
   "cell_type": "code",
   "execution_count": 46,
   "id": "cb21d299",
   "metadata": {},
   "outputs": [],
   "source": [
    "order_dict_1 = {}\n",
    "order_dict_a = {}\n",
    "\n",
    "\n",
    "order_list = [ \n",
    "    \n",
    "'No Vacccine_History',\n",
    "\n",
    "'Primary Series: Johnson & Johnson (1 Dose)',\n",
    "'Primary Series: Johnson & Johnson (1 Dose) and 1 Booster',\n",
    "'Primary Series: Johnson & Johnson (1 Dose) and 2 Boosters',\n",
    "'Primary Series: Johnson & Johnson (1 Dose) and 3 Boosters',\n",
    "'Primary Series: Johnson & Johnson (1 Dose) and 4 Boosters',\n",
    "'Primary Series: Johnson & Johnson (1 Dose) and 5 Boosters',\n",
    "    \n",
    "'Primary Series: Johnson & Johnson (2 Dose)*',\n",
    "'Primary Series: Johnson & Johnson (2 Dose)* and 1 Booster',\n",
    "'Primary Series: Johnson & Johnson (2 Dose)* and 2 Boosters',\n",
    "'Primary Series: Johnson & Johnson (2 Dose)* and 3 Boosters',\n",
    "\n",
    "'Primary Series: Moderna (1 Dose)',\n",
    "'Primary Series: Moderna (2 Doses)',\n",
    "'Primary Series: Moderna (2 Doses) and 1 Booster',\n",
    "'Primary Series: Moderna (2 Doses) and 2 Boosters',\n",
    "'Primary Series: Moderna (2 Doses) and 3 Boosters',\n",
    "'Primary Series: Moderna (2 Doses) and 4 Boosters',\n",
    "'Primary Series: Moderna (2 Doses) and 5 Boosters', \n",
    "    \n",
    "'Primary Series: Moderna (3 Doses)*',\n",
    "'Primary Series: Moderna (3 Doses)* and 1 Booster',\n",
    "'Primary Series: Moderna (3 Doses)* and 2 Boosters',\n",
    "'Primary Series: Moderna (3 Doses)* and 3 Boosters',\n",
    "'Primary Series: Moderna (3 Doses)* and 4 Boosters',\n",
    "'Primary Series: Moderna (3 Doses)* and 5 Boosters', \n",
    "    \n",
    "'Primary Series: Pfizer (1 Dose)',    \n",
    "'Primary Series: Pfizer (2 Doses)',\n",
    "'Primary Series: Pfizer (2 Doses) and 1 Booster',\n",
    "'Primary Series: Pfizer (2 Doses) and 2 Boosters',\n",
    "'Primary Series: Pfizer (2 Doses) and 3 Boosters',\n",
    "'Primary Series: Pfizer (2 Doses) and 4 Boosters',\n",
    "'Primary Series: Pfizer (2 Doses) and 5 Boosters',\n",
    "'Primary Series: Pfizer (2 Doses) and 6 Boosters',\n",
    "'Primary Series: Pfizer (2 Doses) and 7 Boosters',\n",
    "\n",
    "'Primary Series: Pfizer (3 Doses)*',\n",
    "'Primary Series: Pfizer (3 Doses)* and 1 Booster',\n",
    "'Primary Series: Pfizer (3 Doses)* and 2 Boosters',\n",
    "'Primary Series: Pfizer (3 Doses)* and 3 Boosters',\n",
    "'Primary Series: Pfizer (3 Doses)* and 4 Boosters',\n",
    "'Primary Series: Pfizer (3 Doses)* and 5 Boosters',\n",
    "    \n",
    "'Primary Series: Unknown / Other (1 Dose)',\n",
    "'Primary Series: Mixed/Unknown/Other (2 Doses)',\n",
    "'Primary Series: Mixed/Unknown/Other (2 Doses) and 1 Booster',\n",
    "'Primary Series: Mixed/Unknown/Other (2 Doses) and 2 Boosters',\n",
    "'Primary Series: Mixed/Unknown/Other (2 Doses) and 3 Boosters',\n",
    "\n",
    "'Unable to Resolve Vaccination History']\n",
    "\n",
    "has_value_1 = list(set(visit_1_data['Visit_Vaccine_History']))\n",
    "has_value_A = list(set(all_data['Visit_Vaccine_History']))\n",
    "\n",
    "order_dict_1['Original Boosters'] = list(set(visit_1_data['Original Boosters']))\n",
    "order_dict_1['Original Boosters'].sort()\n",
    "\n",
    "order_dict_a['Original Boosters'] = list(set(all_data['Original Boosters']))\n",
    "order_dict_a['Original Boosters'].sort()\n",
    "\n",
    "order_dict_1[\"Visit_Vaccine_History\"] = [i for (i, v) in zip(order_list, [i in has_value_1 for i in order_list]) if v]\n",
    "order_dict_a[\"Visit_Vaccine_History\"] = [i for (i, v) in zip(order_list, [i in has_value_A for i in order_list]) if v]"
   ]
  },
  {
   "cell_type": "code",
   "execution_count": 47,
   "id": "4f5eabe4",
   "metadata": {},
   "outputs": [
    {
     "data": {
      "text/plain": [
       "[0, 1]"
      ]
     },
     "execution_count": 47,
     "metadata": {},
     "output_type": "execute_result"
    }
   ],
   "source": [
    "list(set(visit_1_data['Original Boosters']))"
   ]
  },
  {
   "cell_type": "code",
   "execution_count": 48,
   "id": "b391eca5",
   "metadata": {},
   "outputs": [],
   "source": [
    "columns = ['Visit_Vaccine_History', 'Original Boosters', 'Bivalent Boosters', 'XBB1.5 Booosters']\n",
    "categorical = ['Visit_Vaccine_History', 'Original Boosters', 'Bivalent Boosters', 'XBB1.5 Booosters']\n",
    "groupby = ['SeroNet_Cohort']\n",
    "\n",
    "\n",
    "visit_1_summary_table1 = TableOne(visit_1_data, columns, categorical, groupby , order=order_dict_1)\n",
    "all_visit_summary_table1 = TableOne(all_data, columns, categorical, groupby, order=order_dict_a)"
   ]
  },
  {
   "cell_type": "code",
   "execution_count": 49,
   "id": "fe54dd9d",
   "metadata": {},
   "outputs": [
    {
     "data": {
      "text/plain": [
       "Index(['Seronet_Participant_ID', 'SeroNet_Cohort', 'Normalized_Visit_Index',\n",
       "       'Last Vaccine Received', 'Last Vaccine_Type Received',\n",
       "       'Last Booster Type Received', 'Vaccine_Duration_From_Baseline',\n",
       "       'Duration_Between_Vaccine_and_Visit', 'Vaccine_Window_Cat',\n",
       "       'SARS-CoV-2_Vaccination_Side_Effects',\n",
       "       'Other_SARS-CoV-2_Vaccination_Side_Effects',\n",
       "       'Covid_Vaccination_Status_Comments'],\n",
       "      dtype='object')"
      ]
     },
     "execution_count": 49,
     "metadata": {},
     "output_type": "execute_result"
    }
   ],
   "source": [
    "All_Vaccine.columns"
   ]
  },
  {
   "cell_type": "code",
   "execution_count": 50,
   "id": "a0bb4bf5",
   "metadata": {},
   "outputs": [],
   "source": [
    "visit_file = output_folder + file_sep + \"Participant_Visit_Info_\" + version_num + \".xlsx\"\n",
    "all_visit_data = pd.read_excel(visit_file, sheet_name=\"Detailed_Report\")\n",
    "\n",
    "All_Vaccine = All_Vaccine.merge(all_visit_data[[\"Seronet_Participant_ID\", \"SeroNet_Cohort\", \"Normalized_Visit_Index\"]])"
   ]
  },
  {
   "cell_type": "code",
   "execution_count": 51,
   "id": "ab87ac9c",
   "metadata": {},
   "outputs": [],
   "source": [
    "columns =     ['Vaccine_Window_Cat']\n",
    "categorical = ['Vaccine_Window_Cat']\n",
    "groupby = ['SeroNet_Cohort']\n",
    "\n",
    "order_dict = {}\n",
    "\n",
    "order_dict['Vaccine_Window_Cat'] = [\n",
    "'No Vaccination Event', 'Same Day', '1 to 14 days','15 to 45 days (1 month)', '46 to 74 days', '75 to 105 days (3 month)', '106 to 164 days',\n",
    "'165 to 195 days (6 month)','196 to 344 days','345 to 375 days (12 month)', '376 to 524 days','525 to 555 days (18 month)',\n",
    "    '556 to 704 days','705 to 735 days (24 month)', '736 days or more', 'Unable to determine (Vaccine Date not provided)']\n",
    "\n",
    "order_dict[\"SeroNet_Cohort\"] = [\"Healthy Cohort\", \"Comorbidity Cohort\",  \"Cancer\",   \"IBD\",  \"HIV\", \"Transplant\"]\n",
    "\n",
    "all_visit_window_table1 = TableOne(All_Vaccine, columns, categorical, groupby, order=order_dict)"
   ]
  },
  {
   "cell_type": "code",
   "execution_count": 52,
   "id": "62d12eee",
   "metadata": {},
   "outputs": [],
   "source": [
    "vaccine_writer = pd.ExcelWriter(f'{output_folder}{file_sep}{sheet_name}_{version_num}.xlsx')"
   ]
  },
  {
   "cell_type": "code",
   "execution_count": 53,
   "id": "143f528e-f9f4-4be7-bac2-d1f0e6b18acd",
   "metadata": {},
   "outputs": [],
   "source": [
    "visit_1_summary_table1.to_excel(vaccine_writer, 'Baseline_Summary')\n",
    "visit_1_data.to_excel(vaccine_writer, 'Baseline_Vaccination_History', index = False)\n",
    "\n",
    "all_visit_summary_table1.to_excel(vaccine_writer, 'All_Visit_Summary')\n",
    "all_data.to_excel(vaccine_writer, 'All_Vaccination History', index = False)\n",
    "\n",
    "all_visit_window_table1.to_excel(vaccine_writer, 'Visit Window Summary')\n",
    "All_Vaccine.to_excel(vaccine_writer, 'Visit Vacc and Side Effects', index = False) "
   ]
  },
  {
   "cell_type": "code",
   "execution_count": 54,
   "id": "e90be4a2-49e4-41ac-9719-35bf22293b44",
   "metadata": {},
   "outputs": [],
   "source": [
    "'''\n",
    "Ensure that the Release_Data_Dictionary.xlsx workbook is stored in the same folder as this notebook.\n",
    "'''\n",
    "dictionary = pd.read_excel(\"Release_Data_Dictionary_External.xlsx\", sheet_name = \"Vaccine_Status\")\n",
    "dictionary.to_excel(vaccine_writer, 'Data_Dictionary', index = False)"
   ]
  },
  {
   "cell_type": "code",
   "execution_count": 55,
   "id": "b82b9dd7",
   "metadata": {},
   "outputs": [],
   "source": [
    "workbook = vaccine_writer.book\n",
    "worksheet = vaccine_writer.sheets['Baseline_Summary']\n",
    "column_fmt = workbook.add_format({'font_name': 'Arial', 'font_size': 10, 'align': 'center'})\n",
    "worksheet.set_column(0, 0, 30, column_fmt)   #this is column header names\n",
    "worksheet.set_column(1, 1, 65, column_fmt)   #this is sub column header names\n",
    "worksheet.set_column(2, 3, 12, column_fmt)   #all the data\n",
    "worksheet.set_column(4, 10, 20, column_fmt)  #all the data"
   ]
  },
  {
   "cell_type": "code",
   "execution_count": 56,
   "id": "303e3e5f",
   "metadata": {},
   "outputs": [
    {
     "data": {
      "text/plain": [
       "0"
      ]
     },
     "execution_count": 56,
     "metadata": {},
     "output_type": "execute_result"
    }
   ],
   "source": [
    "workbook = vaccine_writer.book\n",
    "worksheet = vaccine_writer.sheets['All_Visit_Summary']\n",
    "column_fmt = workbook.add_format({'font_name': 'Arial', 'font_size': 10, 'align': 'center'})\n",
    "worksheet.set_column(0, 0, 30, column_fmt)   #this is column header names\n",
    "worksheet.set_column(1, 1, 65, column_fmt)   #this is sub column header names\n",
    "worksheet.set_column(2, 3, 12, column_fmt)   #all the data\n",
    "worksheet.set_column(4, 10, 20, column_fmt)  #all the data"
   ]
  },
  {
   "cell_type": "code",
   "execution_count": 57,
   "id": "4f3f3371",
   "metadata": {},
   "outputs": [
    {
     "data": {
      "text/plain": [
       "0"
      ]
     },
     "execution_count": 57,
     "metadata": {},
     "output_type": "execute_result"
    }
   ],
   "source": [
    "workbook = vaccine_writer.book\n",
    "worksheet = vaccine_writer.sheets['Visit Window Summary']\n",
    "column_fmt = workbook.add_format({'font_name': 'Arial', 'font_size': 10, 'align': 'center'})\n",
    "worksheet.set_column(0, 0, 30, column_fmt)   #this is column header names\n",
    "worksheet.set_column(1, 1, 50, column_fmt)   #this is sub column header names\n",
    "worksheet.set_column(2, 3, 12, column_fmt)   #all the data\n",
    "worksheet.set_column(4, 10, 20, column_fmt)  #all the data"
   ]
  },
  {
   "cell_type": "code",
   "execution_count": 58,
   "id": "3ce4d104-b520-41f3-96ec-296363c6d9d9",
   "metadata": {},
   "outputs": [],
   "source": [
    "vaccine_writer.close()"
   ]
  },
  {
   "cell_type": "code",
   "execution_count": 59,
   "id": "a9259998-683a-4a31-a16f-1bdb69c0f0d3",
   "metadata": {},
   "outputs": [
    {
     "data": {
      "text/plain": [
       "\"\\nOpen the workbook to add additional notes to the Summary page.\\nEach note shoud be on a separate line. Add note as a single value array: noteX = ['noteX: This is a sample note.']\\nAppend note to sheet.\\nSave workbook.\\n\""
      ]
     },
     "execution_count": 59,
     "metadata": {},
     "output_type": "execute_result"
    }
   ],
   "source": [
    "'''\n",
    "Open the workbook to add additional notes to the Summary page.\n",
    "Each note shoud be on a separate line. Add note as a single value array: noteX = ['noteX: This is a sample note.']\n",
    "Append note to sheet.\n",
    "Save workbook.\n",
    "'''\n",
    "#wb = load_workbook(f'{output_folder}{file_sep}{sheet_name}_{version_num}.xlsx')\n",
    "#sheet = wb['Baseline_Summary']\n",
    "#note1 = ['Note *:   In addition to receiving the Primary Series, Immunodeficient participants at MSSM received an additional dose. ']\n",
    "#note2 = [\"                For Pfizer and Moderna this is a 3rd Dose, and for Johnson and Johnson this is a 2nd dose as part of the primary series (additional doses received prior to any boosters). \"]\n",
    "#\n",
    "#sheet.append(note1)\n",
    "#sheet.append(note2)\n",
    "#\n",
    "#wb.save(filename = f'{output_folder}{file_sep}{sheet_name}_{version_num}.xlsx')"
   ]
  },
  {
   "cell_type": "code",
   "execution_count": null,
   "id": "65acf640",
   "metadata": {},
   "outputs": [],
   "source": []
  },
  {
   "cell_type": "code",
   "execution_count": 60,
   "id": "378f0dc4",
   "metadata": {},
   "outputs": [],
   "source": [
    "'''\n",
    "Open the workbook to add additional notes to the Summary page.\n",
    "Each note shoud be on a separate line. Add note as a single value array: noteX = ['noteX: This is a sample note.']\n",
    "Append note to sheet.\n",
    "Save workbook.\n",
    "'''\n",
    "wb = load_workbook(f'{output_folder}{file_sep}{sheet_name}_{version_num}.xlsx')\n",
    "sheet = wb['All_Visit_Summary']\n",
    "note1 = ['Note *:   In addition to receiving the Primary Series, Immunodeficient participants at MSSM received an additional dose. ']\n",
    "note2 = [\"                For Pfizer and Moderna this is a 3rd Dose, and for Johnson and Johnson this is a 2nd dose as part of the primary series (additional doses received prior to any boosters). \"]\n",
    "note3 = ['']\n",
    "note4 = [\"Note 1: Unable to Resolve Vaccination History means there is a vaccination event missing or dates are out of order\"]\n",
    "note5 = [\"            For example Participant has Dose 2 but is missing Dose 1 information, or Dose 1 was occurs after Dose 2 was reported\"]\n",
    "\n",
    "sheet.append(note1)\n",
    "sheet.append(note2)\n",
    "sheet.append(note3)\n",
    "sheet.append(note4)\n",
    "sheet.append(note5)\n",
    "wb.save(filename = f'{output_folder}{file_sep}{sheet_name}_{version_num}.xlsx')"
   ]
  },
  {
   "cell_type": "code",
   "execution_count": null,
   "id": "cbba6719",
   "metadata": {},
   "outputs": [],
   "source": []
  },
  {
   "cell_type": "code",
   "execution_count": null,
   "id": "ab5b5c57",
   "metadata": {},
   "outputs": [],
   "source": []
  },
  {
   "cell_type": "code",
   "execution_count": null,
   "id": "00e86558",
   "metadata": {},
   "outputs": [],
   "source": []
  },
  {
   "cell_type": "code",
   "execution_count": null,
   "id": "c3686989",
   "metadata": {},
   "outputs": [],
   "source": []
  },
  {
   "cell_type": "code",
   "execution_count": null,
   "id": "1780263e",
   "metadata": {},
   "outputs": [],
   "source": []
  }
 ],
 "metadata": {
  "kernelspec": {
   "display_name": "Python 3 (ipykernel)",
   "language": "python",
   "name": "python3"
  },
  "language_info": {
   "codemirror_mode": {
    "name": "ipython",
    "version": 3
   },
   "file_extension": ".py",
   "mimetype": "text/x-python",
   "name": "python",
   "nbconvert_exporter": "python",
   "pygments_lexer": "ipython3",
   "version": "3.11.5"
  }
 },
 "nbformat": 4,
 "nbformat_minor": 5
}
