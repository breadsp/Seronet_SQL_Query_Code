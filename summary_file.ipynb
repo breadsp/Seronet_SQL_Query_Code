{
 "cells": [
  {
   "cell_type": "code",
   "execution_count": 1,
   "id": "92f4aeaf",
   "metadata": {},
   "outputs": [],
   "source": [
    "import mysql.connector as connection\n",
    "import pandas as pd\n",
    "import numpy as np\n",
    "import os\n",
    "from tableone import TableOne\n",
    "from openpyxl import load_workbook, Workbook\n",
    "from openpyxl.styles import Font\n",
    "import sqlalchemy as sd\n",
    "import datetime\n",
    "import icd10"
   ]
  },
  {
   "cell_type": "code",
   "execution_count": 2,
   "id": "4d16b1a3",
   "metadata": {},
   "outputs": [],
   "source": [
    "last_edit = '11/20/2024'"
   ]
  },
  {
   "cell_type": "code",
   "execution_count": 3,
   "id": "72b64a35",
   "metadata": {},
   "outputs": [],
   "source": [
    "v4_visits = r\"C:\\Users\\breadsp2\\Documents\\Release_4.0.0\\Participant_Visit_Info_4.0.0.xlsx\"\n",
    "v4_visits = pd.read_excel(v4_visits, sheet_name=\"Detailed_Report\")\n",
    "V4_fitler = False"
   ]
  },
  {
   "cell_type": "code",
   "execution_count": 4,
   "id": "0968ed73",
   "metadata": {},
   "outputs": [],
   "source": [
    "pd.options.mode.chained_assignment = None  # default='warn'"
   ]
  },
  {
   "cell_type": "code",
   "execution_count": 5,
   "id": "c4f4621c",
   "metadata": {},
   "outputs": [],
   "source": [
    "env = {}\n",
    "with open(\"test.env\") as f:\n",
    "    for line in f:\n",
    "        (k, v) = line.split(\"=\")\n",
    "        k = k.strip()\n",
    "        env[k] = v.strip()\n",
    "        \n",
    "HOST = env[\"HOST\"]\n",
    "DB = env[\"DB\"]\n",
    "USER = env[\"USER\"]\n",
    "PWD = env[\"PWD\"]"
   ]
  },
  {
   "cell_type": "code",
   "execution_count": 6,
   "id": "c2956b46",
   "metadata": {},
   "outputs": [],
   "source": [
    "if V4_fitler == True:\n",
    "    version_num = \"4.2.0\"\n",
    "    output_folder = r\"C:\\Users\\breadsp2\\Desktop\\Release_4.2.0\"\n",
    "else: \n",
    "    version_num = \"5.2.0\"\n",
    "    output_folder = r\"C:\\Users\\breadsp2\\Desktop\\Release_5.2.0\"\n",
    "file_sep = os.path.sep\n",
    "release_date = '2024-10-01'"
   ]
  },
  {
   "cell_type": "code",
   "execution_count": 7,
   "id": "ab7c8b09",
   "metadata": {},
   "outputs": [],
   "source": [
    "sheet_name = \"Summary_File\""
   ]
  },
  {
   "cell_type": "code",
   "execution_count": 8,
   "id": "e5922012",
   "metadata": {},
   "outputs": [],
   "source": [
    "creds = {'usr': USER, 'pwd': PWD, 'hst': HOST, \"prt\": 3306, 'dbn': DB}\n",
    "connstr = \"mysql+mysqlconnector://{usr}:{pwd}@{hst}:{prt}/{dbn}\"\n",
    "engine = sd.create_engine(connstr.format(**creds))\n",
    "conn = engine.connect()"
   ]
  },
  {
   "cell_type": "code",
   "execution_count": 9,
   "id": "0c415e0c",
   "metadata": {},
   "outputs": [],
   "source": [
    "demo_file = output_folder + file_sep + \"Demographics_\" + version_num + \".xlsx\"\n",
    "demo_data = pd.read_excel(demo_file, sheet_name=\"Detailed_Report\")"
   ]
  },
  {
   "cell_type": "code",
   "execution_count": 10,
   "id": "e9497e47",
   "metadata": {},
   "outputs": [],
   "source": [
    "demo_data = demo_data[[\"Seronet_Participant_ID\", \"Age\", \"Sex_At_Birth\"]]"
   ]
  },
  {
   "cell_type": "code",
   "execution_count": 11,
   "id": "1aa501f4",
   "metadata": {},
   "outputs": [],
   "source": [
    "curr_visit_file = output_folder + file_sep + \"Participant_Visit_Info_\" + version_num + \".xlsx\"\n",
    "curr_visit_data = pd.read_excel(curr_visit_file, sheet_name=\"Detailed_Report\")"
   ]
  },
  {
   "cell_type": "code",
   "execution_count": 12,
   "id": "b2dffdb9",
   "metadata": {},
   "outputs": [],
   "source": [
    "visit_data = curr_visit_data.groupby(\"Seronet_Participant_ID\").agg({\"Normalized_Visit_Index\":'count'}).reset_index()"
   ]
  },
  {
   "cell_type": "code",
   "execution_count": 13,
   "id": "baa84dae",
   "metadata": {},
   "outputs": [],
   "source": [
    "demo_data = demo_data.merge(visit_data, how=\"left\")"
   ]
  },
  {
   "cell_type": "code",
   "execution_count": 14,
   "id": "b9f05a8f",
   "metadata": {},
   "outputs": [],
   "source": [
    "comorbid_data = output_folder + file_sep + \"All_Participant_Comorbidities_Summary_\" + version_num + \".xlsx\"\n",
    "comorbid_data = pd.read_excel(comorbid_data, sheet_name=\"Raw_Data\")\n",
    "\n",
    "chronic_data = output_folder + file_sep + \"All_Participant_Chronic_Conditions_Summary_\" + version_num + \".xlsx\"\n",
    "chronic_data = pd.read_excel(chronic_data, sheet_name=\"Raw_Data\")\n",
    "\n",
    "infection_data = output_folder + file_sep + \"All_Participant_Infections_Summary_\" + version_num + \".xlsx\"\n",
    "infection_data = pd.read_excel(infection_data, sheet_name=\"Raw_Data\")"
   ]
  },
  {
   "cell_type": "code",
   "execution_count": 15,
   "id": "21c537f1",
   "metadata": {},
   "outputs": [],
   "source": [
    "comorbid_data[\"Has Cond\"] = comorbid_data[comorbid_data == \" Yes: Participant has Condition\" ].count(axis=1)\n",
    "comorbid_data[\"No Cond\"] = comorbid_data[comorbid_data == \"  No: Does not have Condition\" ].count(axis=1)\n",
    "comorbid_data[\"Ukn Data\"] = comorbid_data[comorbid_data == \" Unknown: Participant is Unsure\"].count(axis=1)\n",
    "comorbid_data[\"Not Reported\"] = comorbid_data[comorbid_data == \"Status not Provided: Not Reported\"].count(axis=1)\n",
    "comorbid_data[\"Other\"] = comorbid_data[\"Not Reported\"] +  comorbid_data[\"Ukn Data\"]\n",
    "\n",
    "chronic_data[\"Has Cond\"] = chronic_data[chronic_data == \" Yes: Participant has Condition\" ].count(axis=1)\n",
    "chronic_data[\"No Cond\"] = chronic_data[chronic_data == \"  No: Does not have Condition\" ].count(axis=1)\n",
    "chronic_data[\"Ukn Data\"] = chronic_data[chronic_data == \" Unknown: Participant is Unsure\"].count(axis=1)\n",
    "chronic_data[\"Not Reported\"] = chronic_data[chronic_data == \"Status not Provided: Not Reported\"].count(axis=1)\n",
    "chronic_data[\"Other\"] = chronic_data[\"Not Reported\"] +  chronic_data[\"Ukn Data\"]\n",
    "\n",
    "\n",
    "infection_data[\"Has Cond\"] = infection_data[infection_data == \" Yes: Participant has Condition\" ].count(axis=1)\n",
    "infection_data[\"No Cond\"] = infection_data[infection_data == \"  No: Does not have Condition\" ].count(axis=1)\n",
    "infection_data[\"Ukn Data\"] = infection_data[infection_data == \" Unknown: Participant is Unsure\"].count(axis=1)\n",
    "infection_data[\"Not Reported\"] = infection_data[infection_data == \"Status not Provided: Not Reported\"].count(axis=1)\n",
    "infection_data[\"Other\"] = infection_data[\"Not Reported\"] +  infection_data[\"Ukn Data\"]"
   ]
  },
  {
   "cell_type": "code",
   "execution_count": 16,
   "id": "5ded804a",
   "metadata": {},
   "outputs": [],
   "source": [
    "comorbid_data[\"No Cond\"] = comorbid_data[\"No Cond\"].astype(str)\n",
    "comorbid_data[\"Has Cond\"] = comorbid_data[\"Has Cond\"].astype(str)\n",
    "comorbid_data[\"Other\"] = comorbid_data[\"Other\"].astype(str)\n",
    "\n",
    "chronic_data[\"No Cond\"] = chronic_data[\"No Cond\"].astype(str)\n",
    "chronic_data[\"Has Cond\"] = chronic_data[\"Has Cond\"].astype(str)\n",
    "chronic_data[\"Other\"] = chronic_data[\"Other\"].astype(str)\n",
    "\n",
    "infection_data[\"No Cond\"] = infection_data[\"No Cond\"].astype(str)\n",
    "infection_data[\"Has Cond\"] = infection_data[\"Has Cond\"].astype(str)\n",
    "infection_data[\"Other\"] = infection_data[\"Other\"].astype(str)"
   ]
  },
  {
   "cell_type": "code",
   "execution_count": 17,
   "id": "ab377ec9",
   "metadata": {},
   "outputs": [],
   "source": [
    "comorbid_data[\"# of Comobididites (Yes / No / No Answer)\"] =  comorbid_data[['Has Cond', 'No Cond', \"Other\"]].agg(' / '.join, axis=1)\n",
    "chronic_data[\"# of Chronic_Conditions (Yes / No / No Answer)\"] =  chronic_data[['Has Cond', 'No Cond', \"Other\"]].agg(' / '.join, axis=1)\n",
    "infection_data[\"# of Infections (Yes / No / No Answer)\"] =  infection_data[['Has Cond', 'No Cond', \"Other\"]].agg(' / '.join, axis=1)"
   ]
  },
  {
   "cell_type": "code",
   "execution_count": 18,
   "id": "142fbe12",
   "metadata": {},
   "outputs": [],
   "source": [
    "demo_data = demo_data.merge(comorbid_data[[\"Seronet_Participant_ID\", \"# of Comobididites (Yes / No / No Answer)\"]], how=\"left\")\n",
    "demo_data = demo_data.merge(chronic_data[[\"Seronet_Participant_ID\", \"# of Chronic_Conditions (Yes / No / No Answer)\"]], how=\"left\")\n",
    "demo_data = demo_data.merge(infection_data[[\"Seronet_Participant_ID\", \"# of Infections (Yes / No / No Answer)\"]], how=\"left\")"
   ]
  },
  {
   "cell_type": "code",
   "execution_count": 19,
   "id": "d8d49500",
   "metadata": {},
   "outputs": [],
   "source": [
    "cancer_data = output_folder + file_sep + \"Participants_in_the_Cancer_Cohort_\" + version_num + \".xlsx\"\n",
    "cancer_data = pd.read_excel(cancer_data, sheet_name=\"All Cancer Information\")"
   ]
  },
  {
   "cell_type": "code",
   "execution_count": 20,
   "id": "93632cdc",
   "metadata": {},
   "outputs": [],
   "source": [
    "cancer_data_filt = cancer_data[[\"Seronet_Participant_ID\", \"SEER Category\"]].drop_duplicates()"
   ]
  },
  {
   "cell_type": "code",
   "execution_count": 21,
   "id": "15edc614",
   "metadata": {},
   "outputs": [],
   "source": [
    "x = cancer_data_filt[\"Seronet_Participant_ID\"].value_counts()\n",
    "x = x.to_frame()\n",
    "x.reset_index(inplace=True)\n",
    "x.columns = ['Seronet_Participant_ID', \"Number of Cancers\"]"
   ]
  },
  {
   "cell_type": "code",
   "execution_count": 22,
   "id": "5b777a86",
   "metadata": {},
   "outputs": [],
   "source": [
    "demo_data = demo_data.merge(x[[\"Seronet_Participant_ID\", \"Number of Cancers\"]], how=\"left\")\n",
    "demo_data[\"Number of Cancers\"].fillna(\"N/A\", inplace=True)"
   ]
  },
  {
   "cell_type": "code",
   "execution_count": 23,
   "id": "430b2282",
   "metadata": {},
   "outputs": [],
   "source": [
    "vacc_data = output_folder + file_sep + \"Vaccination_Data_\" + version_num + \".xlsx\"\n",
    "vacc_data = pd.read_excel(vacc_data, sheet_name=\"All_Vaccination History\")"
   ]
  },
  {
   "cell_type": "code",
   "execution_count": 24,
   "id": "f66bf048",
   "metadata": {},
   "outputs": [],
   "source": [
    "vacc_data = vacc_data[[\"Seronet_Participant_ID\", \"Normalized_Visit\", \"Visit_Vaccine_History\"]]\n",
    "vacc_data = vacc_data.sort_values([\"Seronet_Participant_ID\", \"Normalized_Visit\"])\n",
    "\n",
    "demo_data = demo_data.merge(vacc_data.drop_duplicates([\"Seronet_Participant_ID\"], keep=\"last\"), how=\"left\")"
   ]
  },
  {
   "cell_type": "code",
   "execution_count": 25,
   "id": "cba322dc",
   "metadata": {},
   "outputs": [],
   "source": [
    "demo_data.drop(\"Normalized_Visit_Index\", axis=1, inplace=True)\n",
    "demo_data.rename(columns={\"Visit_Vaccine_History\": \"Complete_Vaccine_History\"}, inplace=True)"
   ]
  },
  {
   "cell_type": "code",
   "execution_count": 26,
   "id": "c17c6360",
   "metadata": {},
   "outputs": [],
   "source": [
    "summary_writer = pd.ExcelWriter(f'{output_folder}{file_sep}{sheet_name}_{version_num}.xlsx')\n",
    "demo_data.to_excel(summary_writer, \"Overall Data Summary\", index=False)\n",
    "summary_writer.close()"
   ]
  },
  {
   "cell_type": "code",
   "execution_count": null,
   "id": "c9c278c9",
   "metadata": {},
   "outputs": [],
   "source": []
  }
 ],
 "metadata": {
  "kernelspec": {
   "display_name": "Python 3 (ipykernel)",
   "language": "python",
   "name": "python3"
  },
  "language_info": {
   "codemirror_mode": {
    "name": "ipython",
    "version": 3
   },
   "file_extension": ".py",
   "mimetype": "text/x-python",
   "name": "python",
   "nbconvert_exporter": "python",
   "pygments_lexer": "ipython3",
   "version": "3.11.5"
  }
 },
 "nbformat": 4,
 "nbformat_minor": 5
}
