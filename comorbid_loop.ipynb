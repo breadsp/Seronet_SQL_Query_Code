{
 "cells": [
  {
   "cell_type": "code",
   "execution_count": 1,
   "id": "ebd1d663",
   "metadata": {},
   "outputs": [],
   "source": [
    "import warnings\n",
    "import mysql.connector as connection\n",
    "import pandas as pd\n",
    "import numpy as np\n",
    "import os\n",
    "import sqlalchemy as sd\n",
    "from tableone import TableOne\n",
    "from openpyxl import load_workbook\n",
    "import papermill as pm\n",
    "\n",
    "warnings.filterwarnings(\"ignore\", category=DeprecationWarning)"
   ]
  },
  {
   "cell_type": "code",
   "execution_count": 2,
   "id": "1cf217f2",
   "metadata": {},
   "outputs": [],
   "source": [
    "pd.options.mode.chained_assignment = None  # default='warn'"
   ]
  },
  {
   "cell_type": "code",
   "execution_count": 3,
   "id": "9a62c92f",
   "metadata": {},
   "outputs": [],
   "source": [
    "'''\n",
    "Create a .env file to store hostname, database, username, and password as environment variables.  \n",
    "The .env file is stored in same folder as notebook.\n",
    "==============\n",
    "Format:\n",
    "HOST=a.b.c.d\n",
    "DB=<my.database>\n",
    "USER=john\n",
    "PWD=abc#123\n",
    "==============\n",
    "Note: no space around the \"=\" sign. Do not put any of the values in quotes.\n",
    "'''\n",
    "\n",
    "env = {}\n",
    "with open(\"test.env\") as f:\n",
    "    for line in f:\n",
    "        (k, v) = line.split(\"=\")\n",
    "        k = k.strip()\n",
    "        env[k] = v.strip()\n",
    "        \n",
    "HOST = env[\"HOST\"]\n",
    "DB = env[\"DB\"]\n",
    "USER = env[\"USER\"]\n",
    "PWD = env[\"PWD\"]\n",
    "\n"
   ]
  },
  {
   "cell_type": "code",
   "execution_count": 4,
   "id": "932d1574",
   "metadata": {},
   "outputs": [],
   "source": [
    "last_edit = '12/16/2024'"
   ]
  },
  {
   "cell_type": "code",
   "execution_count": 5,
   "id": "666a80bf",
   "metadata": {},
   "outputs": [],
   "source": [
    "v4_visits = r\"C:\\Users\\breadsp2\\Documents\\Release_4.0.0\\Participant_Visit_Info_4.0.0.xlsx\"\n",
    "v4_visits = pd.read_excel(v4_visits, sheet_name=\"Detailed_Report\")\n",
    "V4_fitler = False"
   ]
  },
  {
   "cell_type": "code",
   "execution_count": 6,
   "id": "10ed4746",
   "metadata": {},
   "outputs": [],
   "source": [
    "if V4_fitler == True:\n",
    "    version_num = \"4.2.0\"\n",
    "    output_folder = r\"C:\\Users\\breadsp2\\Desktop\\Release_4.2.0\"\n",
    "else: \n",
    "    version_num = \"5.2.0\"\n",
    "    output_folder = r\"C:\\Users\\breadsp2\\Desktop\\Release_5.2.0\"\n",
    "file_sep = os.path.sep\n",
    "release_date = '2024-10-01'"
   ]
  },
  {
   "cell_type": "code",
   "execution_count": 7,
   "id": "ab64caf3",
   "metadata": {},
   "outputs": [],
   "source": [
    "file_name = \"Baseline_Comborbidities\"\n",
    "#file_name = \"Baseline_Infections\"\n",
    "#file_name = \"Baseline_Chronic_list\""
   ]
  },
  {
   "cell_type": "code",
   "execution_count": 8,
   "id": "31248cf9",
   "metadata": {},
   "outputs": [],
   "source": [
    "if file_name == \"Baseline_Comborbidities\":\n",
    "    \n",
    "    list_of_conditions = [\"Diabetes\", \"Hypertension\", \"Cardiovascular_Disease\", \"Acute_Liver_Disease\", \n",
    "                          \"Immunosuppressive_Condition\", \"Autoimmune_Disorder\", \"Inflammatory_Disease\", \"Cancer\"]\n",
    "\n",
    "    sheet_name = \"All_Participant_Comorbidities\"\n",
    "    \n",
    "if file_name == \"Baseline_Infections\":\n",
    "    \n",
    "    list_of_conditions = [\"Viral_Infection\", \"Bacterial_Infection\"]\n",
    "    sheet_name = \"All_Participant_Infections\"\n",
    "    \n",
    "if file_name == \"Baseline_Chronic_list\":\n",
    "    \n",
    "    list_of_conditions = [\"Chronic_Lung_Disease\", \"Chronic_Kidney_Disease\", \"Chronic_Liver_Disease\", \n",
    "                      \"Chronic_Neurological_Condition\", \"Chronic_Oxygen_Requirement\"]\n",
    "    sheet_name = \"All_Participant_Chronic_Conditions\""
   ]
  },
  {
   "cell_type": "code",
   "execution_count": 9,
   "id": "08274931",
   "metadata": {},
   "outputs": [
    {
     "data": {
      "application/vnd.jupyter.widget-view+json": {
       "model_id": "efc18d19eb334d24834f6b7dde2812f8",
       "version_major": 2,
       "version_minor": 0
      },
      "text/plain": [
       "Executing:   0%|          | 0/28 [00:00<?, ?cell/s]"
      ]
     },
     "metadata": {},
     "output_type": "display_data"
    },
    {
     "name": "stdout",
     "output_type": "stream",
     "text": [
      "finished Diabetes\n"
     ]
    },
    {
     "data": {
      "application/vnd.jupyter.widget-view+json": {
       "model_id": "2408ac48ad024010be9615f48bf6703b",
       "version_major": 2,
       "version_minor": 0
      },
      "text/plain": [
       "Executing:   0%|          | 0/28 [00:00<?, ?cell/s]"
      ]
     },
     "metadata": {},
     "output_type": "display_data"
    },
    {
     "name": "stdout",
     "output_type": "stream",
     "text": [
      "finished Hypertension\n"
     ]
    },
    {
     "data": {
      "application/vnd.jupyter.widget-view+json": {
       "model_id": "a0a6c1bd698c4a7782480af21e29fb2f",
       "version_major": 2,
       "version_minor": 0
      },
      "text/plain": [
       "Executing:   0%|          | 0/28 [00:00<?, ?cell/s]"
      ]
     },
     "metadata": {},
     "output_type": "display_data"
    },
    {
     "name": "stdout",
     "output_type": "stream",
     "text": [
      "finished Cardiovascular_Disease\n"
     ]
    },
    {
     "data": {
      "application/vnd.jupyter.widget-view+json": {
       "model_id": "40d4bb282e464f468ed0388adb7f4a13",
       "version_major": 2,
       "version_minor": 0
      },
      "text/plain": [
       "Executing:   0%|          | 0/28 [00:00<?, ?cell/s]"
      ]
     },
     "metadata": {},
     "output_type": "display_data"
    },
    {
     "name": "stdout",
     "output_type": "stream",
     "text": [
      "finished Acute_Liver_Disease\n"
     ]
    },
    {
     "data": {
      "application/vnd.jupyter.widget-view+json": {
       "model_id": "f71a43c5d36140d48b89ad1361a282e4",
       "version_major": 2,
       "version_minor": 0
      },
      "text/plain": [
       "Executing:   0%|          | 0/28 [00:00<?, ?cell/s]"
      ]
     },
     "metadata": {},
     "output_type": "display_data"
    },
    {
     "name": "stdout",
     "output_type": "stream",
     "text": [
      "finished Immunosuppressive_Condition\n"
     ]
    },
    {
     "data": {
      "application/vnd.jupyter.widget-view+json": {
       "model_id": "7799196d864b436a9dffb9faa4c7a102",
       "version_major": 2,
       "version_minor": 0
      },
      "text/plain": [
       "Executing:   0%|          | 0/28 [00:00<?, ?cell/s]"
      ]
     },
     "metadata": {},
     "output_type": "display_data"
    },
    {
     "name": "stdout",
     "output_type": "stream",
     "text": [
      "finished Autoimmune_Disorder\n"
     ]
    },
    {
     "data": {
      "application/vnd.jupyter.widget-view+json": {
       "model_id": "f8b245fa4a4d4ad6a1ed76fa860a8c28",
       "version_major": 2,
       "version_minor": 0
      },
      "text/plain": [
       "Executing:   0%|          | 0/28 [00:00<?, ?cell/s]"
      ]
     },
     "metadata": {},
     "output_type": "display_data"
    },
    {
     "name": "stdout",
     "output_type": "stream",
     "text": [
      "finished Inflammatory_Disease\n"
     ]
    },
    {
     "data": {
      "application/vnd.jupyter.widget-view+json": {
       "model_id": "96747c6208134a89a79e34c9796e8f46",
       "version_major": 2,
       "version_minor": 0
      },
      "text/plain": [
       "Executing:   0%|          | 0/28 [00:00<?, ?cell/s]"
      ]
     },
     "metadata": {},
     "output_type": "display_data"
    },
    {
     "name": "stdout",
     "output_type": "stream",
     "text": [
      "finished Cancer\n"
     ]
    }
   ],
   "source": [
    "for curr_cond in list_of_conditions:\n",
    "    res = pm.execute_notebook('Comorbid_baseline.ipynb',  'Output_file.ipynb',\n",
    "        parameters = dict(Condition=curr_cond, USER=USER, PWD=PWD, HOST=HOST, DB=DB, sheet_1 = sheet_name))\n",
    "    print(f\"finished {curr_cond}\")"
   ]
  },
  {
   "cell_type": "code",
   "execution_count": 10,
   "id": "04c125b7",
   "metadata": {},
   "outputs": [],
   "source": [
    "comorbid_file = output_folder + file_sep + sheet_name + \"_\" + version_num + \".xlsx\"\n",
    "all_data = []\n",
    "\n",
    "for curr_cond in list_of_conditions:\n",
    "    if curr_cond == \"Immunosuppressive_Condition\":\n",
    "        comorbid_data = pd.read_excel(comorbid_file, sheet_name=\"Immunosuppressive_Summary\")\n",
    "    elif curr_cond == \"Chronic_Neurological_Condition\":\n",
    "        comorbid_data = pd.read_excel(comorbid_file, sheet_name=\"Chronic_Neurological_Summary\")\n",
    "    elif curr_cond == \"Chronic_Oxygen_Requirement\":\n",
    "        comorbid_data = pd.read_excel(comorbid_file, sheet_name=\"Chronic_Oxygen_Summary\")\n",
    "    else:\n",
    "        comorbid_data = pd.read_excel(comorbid_file, sheet_name=curr_cond + \"_Summary\")\n",
    "        \n",
    "    comorbid_data = comorbid_data.reset_index(drop=True)\n",
    "        \n",
    "    comorbid_data[curr_cond + \"_Status\"] = \" Yes: Participant has Condition\"   \n",
    "    \n",
    "    x = comorbid_data.query(\"Harmonized_Value == ''\")\n",
    "    comorbid_data.loc[x.index, curr_cond + \"_Status\"] =  \"  Yes: Term Not Harmonized\"  \n",
    "    \n",
    "    x = comorbid_data.query(\"Harmonized_Value == 'Participant does not have Condition (answered No at baseline)'\")\n",
    "    comorbid_data.loc[x.index, curr_cond + \"_Status\"] = \"  No: Does not have Condition\"\n",
    "\n",
    "    x = comorbid_data.query(\"Harmonized_Value == 'Not Cancer'\")\n",
    "    comorbid_data.loc[x.index, curr_cond + \"_Status\"] = \"  No: Does not have Condition\"\n",
    "\n",
    "    x = comorbid_data.query(\"Harmonized_Value == 'Participant did not answer question, Unable to determine if condition exists'\")\n",
    "    comorbid_data[curr_cond + \"_Status\"][x.index] = 'Status not Provided: Not Reported'\n",
    "    \n",
    "    x = comorbid_data.query(\"Harmonized_Value == 'Not Reported'\")\n",
    "    comorbid_data[curr_cond + \"_Status\"][x.index] = 'Status not Provided: Not Reported'\n",
    "    \n",
    "    x = comorbid_data.query(\"Harmonized_Value == 'Participant is unsure if condition exists (answered Unknown Status)'\")\n",
    "    comorbid_data[curr_cond + \"_Status\"][x.index] = ' Unknown: Participant is Unsure'\n",
    "    \n",
    "    x = comorbid_data.query(\"Harmonized_Value == 'Unknown'\")\n",
    "    comorbid_data[curr_cond + \"_Status\"][x.index] = ' Unknown: Participant is Unsure'\n",
    "    \n",
    "    #x = comorbid_data.query(f\"Harmonized_Value in ['Condition Not Described', '{curr_cond}, Type Unspecified']\")\n",
    "    #comorbid_data[curr_cond + \"_Status\"][x.index] = 'Yes: Type Unspecified'\n",
    "    \n",
    "    comorbid_data = comorbid_data[[\"Seronet_Participant_ID\", curr_cond + \"_Status\"]]\n",
    "    if len(all_data) == 0:\n",
    "        all_data = comorbid_data\n",
    "    else:\n",
    "        all_data = all_data.merge(comorbid_data, how=\"outer\") "
   ]
  },
  {
   "cell_type": "code",
   "execution_count": 11,
   "id": "6b9f68e0",
   "metadata": {},
   "outputs": [],
   "source": [
    "creds = {'usr': USER, 'pwd': PWD, 'hst': HOST, \"prt\": 3306, 'dbn': DB}\n",
    "connstr = \"mysql+mysqlconnector://{usr}:{pwd}@{hst}:{prt}/{dbn}\"\n",
    "engine = sd.create_engine(connstr.format(**creds))\n",
    "conn = engine.connect()"
   ]
  },
  {
   "cell_type": "code",
   "execution_count": 12,
   "id": "b763c72f",
   "metadata": {},
   "outputs": [],
   "source": [
    "part_data = pd.read_sql((\"SELECT * FROM Participant;\"), conn)\n",
    "all_data = all_data.merge(part_data, how=\"left\")\n",
    "\n",
    "cohort_data = pd.read_sql((\"SELECT * FROM Participant_Cohort;\"), conn)\n",
    "all_data = all_data.merge(cohort_data, how=\"left\")\n",
    "\n",
    "cohort_data = pd.read_sql((\"SELECT * FROM Normalized_Visit_Info;\"), conn)\n",
    "all_data = all_data.merge(cohort_data, how=\"left\")"
   ]
  },
  {
   "cell_type": "code",
   "execution_count": 13,
   "id": "0145ad5e",
   "metadata": {},
   "outputs": [],
   "source": [
    "all_data = all_data.query(\"Normalized_Visit_Index == 1\")"
   ]
  },
  {
   "cell_type": "code",
   "execution_count": 14,
   "id": "de40d9e0",
   "metadata": {},
   "outputs": [],
   "source": [
    "new_cols = ['Seronet_Participant_ID', 'SeroNet_Cohort',  'Normalized_Visit_Index'] + [i + \"_Status\" for i in list_of_conditions]\n",
    "all_data = all_data[new_cols]\n",
    "\n",
    "all_data.drop_duplicates(inplace = True)"
   ]
  },
  {
   "cell_type": "code",
   "execution_count": 15,
   "id": "6b8ca20e",
   "metadata": {},
   "outputs": [],
   "source": [
    "columns = [i + \"_Status\" for i in list_of_conditions]\n",
    "categorical =  [i + \"_Status\" for i in list_of_conditions]\n",
    "groupby = 'SeroNet_Cohort'"
   ]
  },
  {
   "cell_type": "code",
   "execution_count": 16,
   "id": "fcbbdeea",
   "metadata": {},
   "outputs": [],
   "source": [
    "order_dict = {}\n",
    "order_dict[\"SeroNet_Cohort\"] = [\"Healthy Cohort\", \"Comorbidity Cohort\",  \"Cancer\",   \"IBD\",  \"HIV\", \"Transplant\"]"
   ]
  },
  {
   "cell_type": "code",
   "execution_count": 17,
   "id": "9af005c7",
   "metadata": {},
   "outputs": [],
   "source": [
    "if file_name == \"Baseline_Chronic_list\":\n",
    "    dictionary = pd.read_excel(\"Release_Data_Dictionary_External.xlsx\", sheet_name = \"Chronic_Cond\")\n",
    "elif file_name == \"Baseline_Comborbidities\":\n",
    "    dictionary = pd.read_excel(\"Release_Data_Dictionary_External.xlsx\", sheet_name = \"Comorbids\")\n",
    "elif file_name == \"Baseline_Infections\":\n",
    "    dictionary = pd.read_excel(\"Release_Data_Dictionary_External.xlsx\", sheet_name = \"Infections\")"
   ]
  },
  {
   "cell_type": "code",
   "execution_count": 18,
   "id": "7fedbd11",
   "metadata": {},
   "outputs": [],
   "source": [
    "cond_writer = pd.ExcelWriter(f'{output_folder}{file_sep}{sheet_name}_Summary_{version_num}.xlsx')\n",
    "comorbid_table = TableOne(all_data, columns, categorical, groupby,  order=order_dict, pval=False)\n",
    "comorbid_table.to_excel(cond_writer, 'Summary')\n",
    "all_data.to_excel(cond_writer, 'Raw_Data', index = False)\n",
    "dictionary.to_excel(cond_writer, 'Data_Dictionary', index = False)"
   ]
  },
  {
   "cell_type": "code",
   "execution_count": 19,
   "id": "3f29d67d",
   "metadata": {},
   "outputs": [
    {
     "data": {
      "text/plain": [
       "0"
      ]
     },
     "execution_count": 19,
     "metadata": {},
     "output_type": "execute_result"
    }
   ],
   "source": [
    "workbook = cond_writer.book\n",
    "worksheet = cond_writer.sheets['Summary']\n",
    "column_fmt = workbook.add_format({'font_name': 'Arial', 'font_size': 10, 'align': 'center'})\n",
    "worksheet.set_column(0, 0, 45, column_fmt)  #this is column header names\n",
    "worksheet.set_column(1, 1, 35, column_fmt)  #this is sub column header names\n",
    "worksheet.set_column(2, 3, 12, column_fmt)  #all the data\n",
    "worksheet.set_column(4, 11, 20, column_fmt)  #all the data"
   ]
  },
  {
   "cell_type": "code",
   "execution_count": 20,
   "id": "9931af8f",
   "metadata": {},
   "outputs": [],
   "source": [
    "cond_writer.close()"
   ]
  },
  {
   "cell_type": "code",
   "execution_count": 21,
   "id": "ea53f1c7",
   "metadata": {},
   "outputs": [],
   "source": [
    "#for curr_cond in Chronic_list:\n",
    "#    res = pm.execute_notebook('Comorbid_baseline.ipynb',  'Output_file_2.ipynb',\n",
    "#        parameters = dict(Condition=curr_cond, sheet_1 = \"Baseline_Chronic_Conditions\"))\n",
    "#    print(f\"finished {curr_cond}\")"
   ]
  },
  {
   "cell_type": "code",
   "execution_count": 22,
   "id": "01f563c1",
   "metadata": {},
   "outputs": [],
   "source": [
    "#for curr_cond in Infection_list:\n",
    "#    res = pm.execute_notebook('Comorbid_baseline.ipynb',  'Output_file_3.ipynb',\n",
    "#        parameters = dict(Condition=curr_cond,sheet_1 = \"Baseline_Infections\"))\n",
    "#    print(f\"finished {curr_cond}\")"
   ]
  },
  {
   "cell_type": "code",
   "execution_count": null,
   "id": "24ff3776",
   "metadata": {},
   "outputs": [],
   "source": []
  }
 ],
 "metadata": {
  "celltoolbar": "Tags",
  "kernelspec": {
   "display_name": "Python 3 (ipykernel)",
   "language": "python",
   "name": "python3"
  },
  "language_info": {
   "codemirror_mode": {
    "name": "ipython",
    "version": 3
   },
   "file_extension": ".py",
   "mimetype": "text/x-python",
   "name": "python",
   "nbconvert_exporter": "python",
   "pygments_lexer": "ipython3",
   "version": "3.11.5"
  }
 },
 "nbformat": 4,
 "nbformat_minor": 5
}
