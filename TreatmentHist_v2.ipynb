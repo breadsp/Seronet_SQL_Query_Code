{
 "cells": [
  {
   "cell_type": "markdown",
   "id": "09e0d51d-c4c4-4a59-9750-cc747cb6c1c5",
   "metadata": {},
   "source": [
    "#### Pre-requisites\n",
    "The following packages need to be installed in your notebook environment:\n",
    "1. <a href = https://dev.mysql.com/doc/connector-python/en/>mysql.connector</a>\n",
    "2. <a href = https://pandas.pydata.org/>pandas</a>\n",
    "3. <a href = https://numpy.org/>numpy</a>\n",
    "4. <a href = https://pypi.org/project/tableone/>tableone</a>\n",
    "5. <a href = https://pypi.org/project/openpyxl/>openpyxl</a>\n",
    "\n",
    "Be sure to install these packages in one of the directories in the system path(`print sys.path`) for the notebook environment.\n",
    "\n",
    "You will need access (username and password) to seronet vaccine response database, `seronetdb-Vaccine_Response`, accessible at the AWS endpoint: `seronet-dev-instance.cwe7vdnqsvxr.us-east-1.rds.amazonaws.com`. <br>\n",
    "**Note:** Store all mysql connector parameters in a `.env` file as shown below. <i>The `.env` needs to be in the same directory as the notebooks</i>.\n",
    "\n",
    "Ensure that the Excel workbook <i>Release_Data_Dictionary.xlsx</i> is in the same folder as this notebook. This workbook is also on versioned on GitHub."
   ]
  },
  {
   "cell_type": "markdown",
   "id": "668f41ca-ff12-4e4c-ad88-297411571ef6",
   "metadata": {},
   "source": [
    "#### Post-processing files\n",
    "<u>Summary sheet:</u>\n",
    "1. Remove all borders from Table 1.\n",
    "2. Shade table rows in grey/white.\n",
    "3. Right justify second column.\n",
    "4. Center all columns reporting values.\n",
    "5. Autoformat column widths.\n",
    "6. Highlight all notes in bold.\n",
    "\n",
    "<u>Detailed report sheets:</u>\n",
    "1. All columns left justified.\n",
    "2. Autoformat column widths.\n",
    "3. Fill all empty cells with \"Not Reported\"."
   ]
  },
  {
   "cell_type": "code",
   "execution_count": 1,
   "id": "3cdde2bd-90eb-4578-8c38-ac15ff05a13d",
   "metadata": {},
   "outputs": [],
   "source": [
    "import mysql.connector as connection\n",
    "from collections import Counter\n",
    "import pandas as pd\n",
    "import numpy as np\n",
    "import os\n",
    "from tableone import TableOne\n",
    "from openpyxl import load_workbook, Workbook\n",
    "from openpyxl.styles import Font\n",
    "import sqlalchemy as sd\n",
    "import datetime\n",
    "import icd10"
   ]
  },
  {
   "cell_type": "code",
   "execution_count": 2,
   "id": "be32f7fd",
   "metadata": {},
   "outputs": [],
   "source": [
    "last_edit = '11/20/2024'"
   ]
  },
  {
   "cell_type": "code",
   "execution_count": 3,
   "id": "2ef24d0f",
   "metadata": {},
   "outputs": [],
   "source": [
    "v4_visits = r\"C:\\Users\\breadsp2\\Documents\\Release_4.0.0\\Participant_Visit_Info_4.0.0.xlsx\"\n",
    "v4_visits = pd.read_excel(v4_visits, sheet_name=\"Detailed_Report\")\n",
    "V4_fitler = False"
   ]
  },
  {
   "cell_type": "code",
   "execution_count": 4,
   "id": "6f0fceba",
   "metadata": {},
   "outputs": [],
   "source": [
    "pd.options.mode.chained_assignment = None  # default='warn'"
   ]
  },
  {
   "cell_type": "code",
   "execution_count": 5,
   "id": "9be176e8-0064-431c-9590-aef0a5296242",
   "metadata": {},
   "outputs": [],
   "source": [
    "'''\n",
    "Create a .env file to store hostname, database, username, and password as environment variables.  \n",
    "The .env file is stored in same folder as notebook.\n",
    "==============\n",
    "Format:\n",
    "HOST=a.b.c.d\n",
    "DB=<my.database>\n",
    "USER=john\n",
    "PWD=abc#123\n",
    "==============\n",
    "Note: no space around the \"=\" sign. Do not put any of the values in quotes.\n",
    "'''\n",
    "\n",
    "env = {}\n",
    "with open(\"test.env\") as f:\n",
    "    for line in f:\n",
    "        (k, v) = line.split(\"=\")\n",
    "        k = k.strip()\n",
    "        env[k] = v.strip()\n",
    "        \n",
    "HOST = env[\"HOST\"]\n",
    "DB = env[\"DB\"]\n",
    "USER = env[\"USER\"]\n",
    "PWD = env[\"PWD\"]"
   ]
  },
  {
   "cell_type": "code",
   "execution_count": 6,
   "id": "ab79925c-2b34-4dad-b602-8acf415f5e11",
   "metadata": {},
   "outputs": [],
   "source": [
    "if V4_fitler == True:\n",
    "    version_num = \"4.2.0\"\n",
    "    output_folder = r\"C:\\Users\\breadsp2\\Desktop\\Release_4.2.0\"\n",
    "else: \n",
    "    version_num = \"5.2.0\"\n",
    "    output_folder = r\"C:\\Users\\breadsp2\\Desktop\\Release_5.2.0\"\n",
    "file_sep = os.path.sep\n",
    "release_date = '2024-10-01'"
   ]
  },
  {
   "cell_type": "code",
   "execution_count": 7,
   "id": "86545508-daf0-4914-b41c-12dc37d27166",
   "metadata": {},
   "outputs": [],
   "source": [
    "sheet_name = \"Treatment_History\""
   ]
  },
  {
   "cell_type": "code",
   "execution_count": 8,
   "id": "89aeebfe-f62d-4f1a-bd55-c84c534d6e49",
   "metadata": {},
   "outputs": [],
   "source": [
    "creds = {'usr': USER, 'pwd': PWD, 'hst': HOST, \"prt\": 3306, 'dbn': DB}\n",
    "connstr = \"mysql+mysqlconnector://{usr}:{pwd}@{hst}:{prt}/{dbn}\"\n",
    "engine = sd.create_engine(connstr.format(**creds))\n",
    "conn = engine.connect()"
   ]
  },
  {
   "cell_type": "code",
   "execution_count": 9,
   "id": "059b5e0f",
   "metadata": {},
   "outputs": [],
   "source": [
    "All_Visits = pd.read_sql((\"SELECT p.Seronet_Participant_ID, nv.Research_Participant_ID, nv.Seronet_Cohort, nv.Normalized_Visit_Index, nv.Date_Of_Event, \" +\n",
    "                          \"nv.Visit_Info_ID  From Normalized_Visit_Info as nv \" + \n",
    "                          \"join Participant as p on nv.Research_Participant_ID = p.Research_Participant_ID\"), conn)"
   ]
  },
  {
   "cell_type": "code",
   "execution_count": 10,
   "id": "92b72c66",
   "metadata": {},
   "outputs": [],
   "source": [
    "demo_file = output_folder + file_sep + \"Demographics_\" + version_num + \".xlsx\"\n",
    "demo_data = pd.read_excel(demo_file, sheet_name=\"Detailed_Report\")"
   ]
  },
  {
   "cell_type": "code",
   "execution_count": 11,
   "id": "3ff4b701",
   "metadata": {},
   "outputs": [],
   "source": [
    "curr_visit_file = output_folder + file_sep + \"Participant_Visit_Info_\" + version_num + \".xlsx\"\n",
    "curr_visit_data = pd.read_excel(curr_visit_file, sheet_name=\"Detailed_Report\")"
   ]
  },
  {
   "cell_type": "code",
   "execution_count": 12,
   "id": "e9801535",
   "metadata": {},
   "outputs": [],
   "source": [
    "All_Visits = All_Visits.merge(demo_data[\"Seronet_Participant_ID\"])\n",
    "All_Visits = All_Visits.merge(curr_visit_data[[\"Seronet_Participant_ID\", 'Normalized_Visit_Index']], how=\"right\")"
   ]
  },
  {
   "cell_type": "code",
   "execution_count": 13,
   "id": "b9c19224",
   "metadata": {},
   "outputs": [],
   "source": [
    "treatment_data = pd.read_sql((\"SELECT * FROM Treatment_History\"), conn)"
   ]
  },
  {
   "cell_type": "code",
   "execution_count": 14,
   "id": "5d857e65",
   "metadata": {},
   "outputs": [],
   "source": [
    "treatment_data = All_Visits.merge(treatment_data)"
   ]
  },
  {
   "cell_type": "code",
   "execution_count": 15,
   "id": "8a2bc0a4",
   "metadata": {},
   "outputs": [],
   "source": [
    "'''\n",
    "This block adds a CBC column to dataframe based on the Research_Participant_ID.\n",
    "'''\n",
    "treatment_data['CBC'] = \"Not Reported\"\n",
    "\n",
    "conditions = [\n",
    "    treatment_data['Research_Participant_ID'].str.startswith('14'),\n",
    "    treatment_data['Research_Participant_ID'].str.startswith('27'),\n",
    "    treatment_data['Research_Participant_ID'].str.startswith('41'),\n",
    "    treatment_data['Research_Participant_ID'].str.startswith('32_22'),  #ASU_MidWestern\n",
    "    treatment_data['Research_Participant_ID'].str.startswith('32_33'),  #ASU_Dignity Health\n",
    "    treatment_data['Research_Participant_ID'].str.startswith('32_44'),  #ASU_ValleyWise\n",
    "    treatment_data['Research_Participant_ID'].str.startswith('32_77'),  #ASU_Phoenix Childrens Hospital\n",
    "    treatment_data['Research_Participant_ID'].str.startswith('32_55'),  #ASU_Columbia\n",
    "]\n",
    "\n",
    "values = [\"Mount_Sinai\", \"University of Minnesota\", \"Feinstein_Northwell\", \"ASU: Midwestern\", \"ASU: Dignity Health\",\n",
    "          \"ASU: ValleyWise\", \"ASU: Phoenix Childrens Hospital\", \"Columbia University\"]\n",
    "\n",
    "\n",
    "treatment_data['CBC'] = np.select(conditions, values)"
   ]
  },
  {
   "cell_type": "code",
   "execution_count": 16,
   "id": "6cd3588f",
   "metadata": {},
   "outputs": [],
   "source": [
    "unique_treat = treatment_data[[\"Research_Participant_ID\",\"Health_Condition_Or_Disease\"]]\n",
    "unique_treat = unique_treat.drop_duplicates()\n"
   ]
  },
  {
   "cell_type": "code",
   "execution_count": 17,
   "id": "23e25009",
   "metadata": {},
   "outputs": [],
   "source": [
    "x = pd.DataFrame.from_dict(Counter(unique_treat[\"Health_Condition_Or_Disease\"]),orient='index')\n",
    "\n",
    "x.reset_index(inplace=True)\n",
    "x.columns = [\"Health_Condition_Or_Disease\", \"Frequency\"]"
   ]
  },
  {
   "cell_type": "code",
   "execution_count": 18,
   "id": "09c9e891",
   "metadata": {},
   "outputs": [],
   "source": [
    "x[\"Health_Condition_Or_Disease Frequency\"] = x[\"Health_Condition_Or_Disease\"]\n",
    "\n",
    "for idx in range(0, 6):\n",
    "    y = x.query(f\"Frequency == {idx}\")\n",
    "    x.loc[y.index, \"Health_Condition_Or_Disease Frequency\"] = f\"Condtion only in {idx} participants\"\n",
    "\n",
    "x[\"Health_Condition_Or_Disease Frequency\"].replace(\"Unknown\", \"Unknown Heath Condition\", inplace=True)"
   ]
  },
  {
   "cell_type": "code",
   "execution_count": 19,
   "id": "8eea6455",
   "metadata": {},
   "outputs": [],
   "source": [
    "treatment_data_2 = treatment_data.merge(x, how=\"outer\")"
   ]
  },
  {
   "cell_type": "code",
   "execution_count": 20,
   "id": "c5aea6e4",
   "metadata": {},
   "outputs": [],
   "source": [
    "unique_treat = treatment_data_2.merge(unique_treat)"
   ]
  },
  {
   "cell_type": "code",
   "execution_count": 21,
   "id": "a4a1b533",
   "metadata": {},
   "outputs": [],
   "source": [
    "unique_treat = unique_treat[[\"Research_Participant_ID\", \"Seronet_Cohort\", \"Health_Condition_Or_Disease\", \n",
    "                             \"Health_Condition_Or_Disease Frequency\"]]\n",
    "unique_treat.drop_duplicates(inplace=True)"
   ]
  },
  {
   "cell_type": "code",
   "execution_count": 22,
   "id": "9fbf7069",
   "metadata": {},
   "outputs": [],
   "source": [
    "columns = [\"Health_Condition_Or_Disease Frequency\"]\n",
    "categorical = [\"Health_Condition_Or_Disease Frequency\"]\n",
    "groupby = 'Seronet_Cohort'\n",
    "\n",
    "order_dict = {}\n",
    "\n",
    "order_dict[\"Health_Condition_Or_Disease Frequency\"] = ['Breast Cancer','Crohns Disease','Endometrial Cancer','Hypothyroidism',\n",
    "                                                       'IBD','Multiple Myeloma','HIV','Anemia','Diarrhea','GERD',\n",
    "                                                       'Transplant (induction immunosuppression)','Transplant (maintenance immunosuppression)',\n",
    "'Condtion only in 1 participants','Condtion only in 2 participants','Condtion only in 3 participants',\n",
    "'Condtion only in 4 participants','Condtion only in 5 participants','Unknown Heath Condition']\n"
   ]
  },
  {
   "cell_type": "code",
   "execution_count": 23,
   "id": "cfa62598",
   "metadata": {},
   "outputs": [],
   "source": [
    "baseline_treat_table1 = TableOne(unique_treat, columns, categorical, groupby, order = order_dict)"
   ]
  },
  {
   "cell_type": "code",
   "execution_count": 24,
   "id": "9613a08f",
   "metadata": {},
   "outputs": [],
   "source": [
    "norm_data = pd.read_sql((\"select * from Normalized_Treatment_Visit_Info\"), conn)"
   ]
  },
  {
   "cell_type": "code",
   "execution_count": 25,
   "id": "3dfde21f",
   "metadata": {},
   "outputs": [],
   "source": [
    "treatment_data.rename(columns={\"Treatment\": \"Original Treatment Name\"}, inplace=True)"
   ]
  },
  {
   "cell_type": "code",
   "execution_count": 26,
   "id": "ae8c6f0e",
   "metadata": {},
   "outputs": [],
   "source": [
    "offset_data = pd.read_sql((\"Select * from  Visit_One_Offset_Correction;\"), conn)"
   ]
  },
  {
   "cell_type": "code",
   "execution_count": 27,
   "id": "d990b54a",
   "metadata": {},
   "outputs": [],
   "source": [
    "treatment_data = treatment_data.merge(norm_data, how=\"left\")\n",
    "treatment_data = treatment_data.merge(offset_data, how=\"left\")\n",
    "treatment_data.drop_duplicates(inplace=True)"
   ]
  },
  {
   "cell_type": "code",
   "execution_count": 28,
   "id": "90f7a654",
   "metadata": {},
   "outputs": [],
   "source": [
    "for curr_row in treatment_data.index:\n",
    "    start_dur =  treatment_data.loc[curr_row, \"Start_Date_Duration_From_Index\"]\n",
    "    stop_dur =  treatment_data.loc[curr_row, \"Stop_Date_Duration_From_Index\"]\n",
    "    offset =  treatment_data.loc[curr_row, \"Offset_Value\"]\n",
    "    \n",
    "    if start_dur == \"Ongoing\":\n",
    "        treatment_data.loc[curr_row,\"Start_Duration_From_Baseline\"] = \"Ongoing\"\n",
    "    elif start_dur == \"Not Reported\":\n",
    "        treatment_data.loc[curr_row,\"Start_Duration_From_Baseline\"] = \"Not Reported\"\n",
    "    else:\n",
    "        treatment_data.loc[curr_row,\"Start_Duration_From_Baseline\"] = float(start_dur) - offset\n",
    "        \n",
    "    if stop_dur == \"Ongoing\":\n",
    "        treatment_data.loc[curr_row,\"Stop_Duration_From_Baseline\"] = \"Ongoing\"\n",
    "    elif stop_dur == \"Not Reported\":\n",
    "        treatment_data.loc[curr_row,\"Stop_Duration_From_Baseline\"] = \"Not Reported\"\n",
    "    else:\n",
    "        treatment_data.loc[curr_row,\"Stop_Duration_From_Baseline\"] = float(stop_dur) - offset"
   ]
  },
  {
   "cell_type": "code",
   "execution_count": 29,
   "id": "e20d3140",
   "metadata": {},
   "outputs": [],
   "source": [
    "new_cols = [\"Seronet_Participant_ID\",\"Seronet_Cohort\",  \"Normalized_Visit_Index\",  \"Health_Condition_Or_Disease\",\n",
    "           \"Original Treatment Name\", \"Treatment_Provenance\", \"Harmonized Treatment\",\n",
    "           \"Dosage\", \"Dosage_Units\", \"Dosage_Regimen\", \"Start_Duration_From_Baseline\", \"Stop_Duration_From_Baseline\",\n",
    "            \"Update\", \"Treatment_History_Comments\"]\n",
    "\n",
    "treatment_data = treatment_data[new_cols]"
   ]
  },
  {
   "cell_type": "code",
   "execution_count": 30,
   "id": "c94cf97b",
   "metadata": {},
   "outputs": [],
   "source": [
    "treatment_data[\"Treatment_Provenance\"].fillna(\"Self-Reported\", inplace=True)\n",
    "treatment_data[\"Treatment_Provenance\"] = treatment_data[\"Treatment_Provenance\"].replace(\"N/A\", \"Self-Reported\")\n",
    "treatment_data[\"Treatment_Provenance\"] = treatment_data[\"Treatment_Provenance\"].replace(\"nan\", \"Self-Reported\")"
   ]
  },
  {
   "cell_type": "code",
   "execution_count": 31,
   "id": "2d43341d",
   "metadata": {},
   "outputs": [],
   "source": [
    "#x = treatment_data.query(\"Dosage_Units == 'mg/0.4ml'\")\n",
    "#treatment_data.loc[x,index, \"Dosage\"] = 0.4"
   ]
  },
  {
   "cell_type": "code",
   "execution_count": 32,
   "id": "cbbc038f",
   "metadata": {},
   "outputs": [],
   "source": [
    "treatment_data[\"Dosage_Units\"] = [i.lower() if i not in ['Unknown', 'Not Reported'] else i for i in treatment_data[\"Dosage_Units\"]]\n",
    "unit_dict = {'mg/m2': 'mg/m^2', 'milliGRAM(s)': 'mg',  'gram': 'g', 'mg/0.4ml': 'mg/ml', 'mg/0.5ml': 'mg/ml',\n",
    "             'mg/0.8ml': 'mg/ml', 'mg/1.7ml': 'mg/ml', 'mg/10ml': 'mg/ml', 'mg/20ml': 'mg/ml', 'mg/2ml': 'mg/ml', \n",
    "             'mg/50ml': 'mg/ml'}\n",
    "\n",
    "treatment_data[\"Dosage_Units\"].replace(unit_dict, inplace=True)\n",
    "\n",
    "\n"
   ]
  },
  {
   "cell_type": "code",
   "execution_count": 33,
   "id": "f8acdbba",
   "metadata": {},
   "outputs": [],
   "source": [
    "dictionary_detailed = pd.read_excel(\"Release_Data_Dictionary_External.xlsx\", sheet_name = \"Treatment\")"
   ]
  },
  {
   "cell_type": "code",
   "execution_count": 34,
   "id": "2ad30382",
   "metadata": {},
   "outputs": [],
   "source": [
    "#Note: Be sure to name the file for the ExcelWriter object as Biospecimens.<release_number>.xlsx.\n",
    "treat_writer = pd.ExcelWriter(f'{output_folder}{file_sep}{sheet_name}_{version_num}.xlsx')\n",
    "baseline_treat_table1.to_excel(treat_writer, \"Summary_of_Unique_Conditions\")\n",
    "#baseline_treat_table2.to_excel(treat_writer, \"Summary_of_Treatments\")\n",
    "unique_treat.to_excel(treat_writer, \"Conditions by Participant\", index=False)\n",
    "treatment_data.to_excel(treat_writer, \"All Treatment Data\", index=False)\n",
    "dictionary_detailed.to_excel(treat_writer, 'Data_Dictionary', index = False)\n",
    "\n",
    "\n",
    "#baseline_trans.to_excel(trans_writer, \"Transplant Status at Baseline\")\n",
    "#transplant_data.to_excel(trans_writer, \"All Transplant Visits\")"
   ]
  },
  {
   "cell_type": "code",
   "execution_count": 35,
   "id": "fa2891ec",
   "metadata": {},
   "outputs": [
    {
     "data": {
      "text/plain": [
       "0"
      ]
     },
     "execution_count": 35,
     "metadata": {},
     "output_type": "execute_result"
    }
   ],
   "source": [
    "workbook = treat_writer.book\n",
    "worksheet = treat_writer.sheets['Summary_of_Unique_Conditions']\n",
    "column_fmt = workbook.add_format({'font_name': 'Arial', 'font_size': 10, 'align': 'center'})\n",
    "worksheet.set_column(0, 0, 30, column_fmt)   #this is column header names\n",
    "worksheet.set_column(1, 1, 50, column_fmt)   #this is sub column header names\n",
    "worksheet.set_column(2, 3, 12, column_fmt)   #all the data\n",
    "worksheet.set_column(4, 17, 20, column_fmt)  #all the data\n",
    "\n",
    "row_fmt = workbook.add_format({'text_wrap': True})\n",
    "worksheet.set_row(1, 30, row_fmt)"
   ]
  },
  {
   "cell_type": "code",
   "execution_count": 36,
   "id": "18812378",
   "metadata": {},
   "outputs": [],
   "source": [
    "treat_writer.close()"
   ]
  },
  {
   "cell_type": "code",
   "execution_count": null,
   "id": "87901569",
   "metadata": {},
   "outputs": [],
   "source": []
  },
  {
   "cell_type": "code",
   "execution_count": null,
   "id": "3c50cc4b",
   "metadata": {},
   "outputs": [],
   "source": []
  }
 ],
 "metadata": {
  "kernelspec": {
   "display_name": "Python 3 (ipykernel)",
   "language": "python",
   "name": "python3"
  },
  "language_info": {
   "codemirror_mode": {
    "name": "ipython",
    "version": 3
   },
   "file_extension": ".py",
   "mimetype": "text/x-python",
   "name": "python",
   "nbconvert_exporter": "python",
   "pygments_lexer": "ipython3",
   "version": "3.11.5"
  }
 },
 "nbformat": 4,
 "nbformat_minor": 5
}
