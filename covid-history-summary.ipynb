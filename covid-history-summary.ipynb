{
 "cells": [
  {
   "cell_type": "markdown",
   "metadata": {
    "tags": []
   },
   "source": [
    "#### Objective\n",
    "Gather data and create summary table for Covid_History.xlsx"
   ]
  },
  {
   "cell_type": "markdown",
   "metadata": {},
   "source": [
    "#### Pre-requisites\n",
    "The following packages need to be installed in your notebook environment:\n",
    "1. <a href = https://dev.mysql.com/doc/connector-python/en/>mysql.connector</a>\n",
    "2. <a href = https://pandas.pydata.org/>pandas</a>\n",
    "3. <a href = https://numpy.org/>numpy</a>\n",
    "4. <a href = https://pypi.org/project/tableone/>tableone</a>\n",
    "5. <a href = https://pypi.org/project/openpyxl/>openpyxl</a>\n",
    "\n",
    "Be sure to install these packages in one of the directories in the system path(`print sys.path`) for the notebook environment.\n",
    "\n",
    "You will need access (username and password) to seronet vaccine response database, `seronetdb-Vaccine_Response`, accessible at the AWS endpoint: `seronet-dev-instance.cwe7vdnqsvxr.us-east-1.rds.amazonaws.com`. <br>\n",
    "**Note:** Store all mysql connector parameters in a `.env` file as shown below. <i>The `.env` needs to be in the same directory as the notebooks</i>.\n",
    "\n",
    "Ensure that the Excel workbook <i>Release_Data_Dictionary.xlsx</i> is in the same folder as this notebook. This workbook is also on versioned on GitHub."
   ]
  },
  {
   "cell_type": "markdown",
   "metadata": {},
   "source": [
    "#### Post-processing files\n",
    "<u>Summary sheet:</u>\n",
    "1. Remove all borders from Table 1.\n",
    "2. Shade table rows in grey/white.\n",
    "3. Right justify second column.\n",
    "4. Center all columns reporting values.\n",
    "5. Autoformat column widths.\n",
    "6. Highlight all notes in bold.\n",
    "\n",
    "<u>Detailed report sheets:</u>\n",
    "1. All columns left justified.\n",
    "2. Autoformat column widths.\n",
    "3. Fill all empty cells with \"Not Reported\".\n"
   ]
  },
  {
   "cell_type": "code",
   "execution_count": 1,
   "metadata": {},
   "outputs": [],
   "source": [
    "import mysql.connector as connection\n",
    "import pandas as pd\n",
    "import numpy as np\n",
    "import os\n",
    "from tableone import TableOne\n",
    "from openpyxl import load_workbook, Workbook\n",
    "from openpyxl.styles import Font\n",
    "import sqlalchemy as sd\n",
    "import datetime"
   ]
  },
  {
   "cell_type": "code",
   "execution_count": 2,
   "metadata": {},
   "outputs": [],
   "source": [
    "last_edit = '11/20/2024'"
   ]
  },
  {
   "cell_type": "code",
   "execution_count": 3,
   "metadata": {},
   "outputs": [],
   "source": [
    "v4_visits = r\"C:\\Users\\breadsp2\\Documents\\Release_4.0.0\\Participant_Visit_Info_4.0.0.xlsx\"\n",
    "v4_visits = pd.read_excel(v4_visits, sheet_name=\"Detailed_Report\")\n",
    "V4_fitler = False"
   ]
  },
  {
   "cell_type": "code",
   "execution_count": 4,
   "metadata": {},
   "outputs": [],
   "source": [
    "pd.options.mode.chained_assignment = None  # default='warn'"
   ]
  },
  {
   "cell_type": "code",
   "execution_count": 5,
   "metadata": {},
   "outputs": [],
   "source": [
    "'''\n",
    "Create a .env file to store hostname, database, username, and password as environment variables.  \n",
    "The .env file is stored in same folder as notebook.\n",
    "==============\n",
    "Format:\n",
    "HOST=a.b.c.d\n",
    "DB=<my.database>\n",
    "USER=john\n",
    "PWD=abc#123\n",
    "==============\n",
    "Note: no space around the \"=\" sign. Do not put any of the values in quotes.\n",
    "'''\n",
    "\n",
    "env = {}\n",
    "with open(\"test.env\") as f:\n",
    "    for line in f:\n",
    "        (k, v) = line.split(\"=\")\n",
    "        k = k.strip()\n",
    "        env[k] = v.strip()\n",
    "        \n",
    "HOST = env[\"HOST\"]\n",
    "DB = env[\"DB\"]\n",
    "USER = env[\"USER\"]\n",
    "PWD = env[\"PWD\"]"
   ]
  },
  {
   "cell_type": "code",
   "execution_count": 6,
   "metadata": {},
   "outputs": [],
   "source": [
    "if V4_fitler == True:\n",
    "    version_num = \"4.2.0\"\n",
    "    output_folder = r\"C:\\Users\\breadsp2\\Desktop\\Release_4.2.0\"\n",
    "else: \n",
    "    version_num = \"5.2.0\"\n",
    "    output_folder = r\"C:\\Users\\breadsp2\\Desktop\\Release_5.2.0\"\n",
    "file_sep = os.path.sep\n",
    "release_date = '2025-01-01'"
   ]
  },
  {
   "cell_type": "code",
   "execution_count": 7,
   "metadata": {},
   "outputs": [],
   "source": [
    "sheet_name = \"Covid_History\""
   ]
  },
  {
   "cell_type": "code",
   "execution_count": 8,
   "metadata": {},
   "outputs": [],
   "source": [
    "pd.options.mode.chained_assignment = None  # default='warn'\n",
    "mydb = connection.connect(host = HOST, database = DB ,user= USER, passwd = PWD,use_pure = True)"
   ]
  },
  {
   "cell_type": "code",
   "execution_count": 9,
   "metadata": {},
   "outputs": [],
   "source": [
    "creds = {'usr': USER, 'pwd': PWD, 'hst': HOST, \"prt\": 3306, 'dbn': DB}\n",
    "connstr = \"mysql+mysqlconnector://{usr}:{pwd}@{hst}:{prt}/{dbn}\"\n",
    "engine = sd.create_engine(connstr.format(**creds))\n",
    "conn = engine.connect()"
   ]
  },
  {
   "cell_type": "code",
   "execution_count": 10,
   "metadata": {},
   "outputs": [],
   "source": [
    "All_Visits = pd.read_sql((\"SELECT p.Seronet_Participant_ID, nv.Research_Participant_ID, nv.Seronet_Cohort, nv.Normalized_Visit_Index,  \" +\n",
    "                          \"nv.Visit_Info_ID  From Normalized_Visit_Info as nv \" + \n",
    "                          \"join Participant as p on nv.Research_Participant_ID = p.Research_Participant_ID\"), conn)"
   ]
  },
  {
   "cell_type": "code",
   "execution_count": 11,
   "metadata": {},
   "outputs": [],
   "source": [
    "#All_Visits[\"Primary_Cohort\"].replace(\"IBD\", \"Autoimmune\", inplace=True)\n",
    "#All_Visits[\"Primary_Cohort\"].replace(\"Convalescent\", \"Healthy Control\", inplace=True)\n",
    "#All_Visits[\"Primary_Cohort\"].replace(\"Inflammatory\", \"Healthy Control\", inplace=True)\n",
    "#All_Visits[\"Primary_Cohort\"].replace(\"Chronic Conditions\", \"Healthy Control\", inplace=True)"
   ]
  },
  {
   "cell_type": "code",
   "execution_count": 12,
   "metadata": {},
   "outputs": [],
   "source": [
    "demo_file = output_folder + file_sep + \"Demographics_\" + version_num + \".xlsx\"\n",
    "demo_data = pd.read_excel(demo_file, sheet_name=\"Detailed_Report\")"
   ]
  },
  {
   "cell_type": "code",
   "execution_count": 13,
   "metadata": {},
   "outputs": [],
   "source": [
    "curr_visit_file = output_folder + file_sep + \"Participant_Visit_Info_\" + version_num + \".xlsx\"\n",
    "curr_visit_data = pd.read_excel(curr_visit_file, sheet_name=\"Detailed_Report\")"
   ]
  },
  {
   "cell_type": "code",
   "execution_count": 14,
   "metadata": {},
   "outputs": [],
   "source": [
    "All_Visits= All_Visits.merge(demo_data[\"Seronet_Participant_ID\"])\n",
    "All_Visits= All_Visits.merge(curr_visit_data[[\"Seronet_Participant_ID\", 'Normalized_Visit_Index']], how=\"right\")"
   ]
  },
  {
   "cell_type": "code",
   "execution_count": 15,
   "metadata": {},
   "outputs": [],
   "source": [
    "query1  = (\"SELECT * FROM Covid_History as ch \" +\n",
    "           \"where ch.COVID_Status not in ('No COVID event reported', 'No COVID data collected')\")"
   ]
  },
  {
   "cell_type": "code",
   "execution_count": 16,
   "metadata": {},
   "outputs": [],
   "source": [
    "offset = pd.read_sql((\"SELECT * FROM Visit_One_Offset_Correction\"), conn)"
   ]
  },
  {
   "cell_type": "code",
   "execution_count": 17,
   "metadata": {},
   "outputs": [],
   "source": [
    "covid_history = pd.read_sql(query1, conn)"
   ]
  },
  {
   "cell_type": "code",
   "execution_count": 18,
   "metadata": {},
   "outputs": [],
   "source": [
    "covid_history = All_Visits.merge(covid_history, how=\"left\")"
   ]
  },
  {
   "cell_type": "code",
   "execution_count": 19,
   "metadata": {},
   "outputs": [],
   "source": [
    "covid_history = covid_history.merge(offset, how=\"left\")"
   ]
  },
  {
   "cell_type": "code",
   "execution_count": 20,
   "metadata": {},
   "outputs": [],
   "source": [
    "'''\n",
    "This block adds a CBC column to dataframe based on the Research_Participant_ID.\n",
    "'''\n",
    "covid_history['CBC'] = \"Not Reported\"\n",
    "\n",
    "conditions = [\n",
    "    covid_history['Research_Participant_ID'].str.startswith('14'),\n",
    "    covid_history['Research_Participant_ID'].str.startswith('27'),\n",
    "    covid_history['Research_Participant_ID'].str.startswith('41'),\n",
    "    covid_history['Research_Participant_ID'].str.startswith('32'),\n",
    "]\n",
    "\n",
    "values = [\"Mount_Sinai\", \"UMN\", \"Feinstein_Northwell\", \"ASU\"]\n",
    "\n",
    "covid_history['CBC'] = np.select(conditions, values)"
   ]
  },
  {
   "cell_type": "code",
   "execution_count": 21,
   "metadata": {},
   "outputs": [],
   "source": [
    "covid_visits = pd.DataFrame(columns=[\"Seronet_Participant_ID\" ,\"Seronet_Cohort\", \"Normalized_Visit_Index\",  \"COVID_Status\"])"
   ]
  },
  {
   "cell_type": "code",
   "execution_count": 22,
   "metadata": {},
   "outputs": [],
   "source": [
    "uni_visit = list(set(covid_history[\"Visit_Info_ID\"]))\n",
    "filt_covid_history = covid_history[[\"Visit_Info_ID\", \"Seronet_Participant_ID\" ,\"Seronet_Cohort\", \"Normalized_Visit_Index\",  \"COVID_Status\"]]"
   ]
  },
  {
   "cell_type": "code",
   "execution_count": 23,
   "metadata": {},
   "outputs": [],
   "source": [
    "for curr_visit in uni_visit:\n",
    "    x = filt_covid_history.query(\"Visit_Info_ID == @curr_visit\")\n",
    "    covid_list = x[\"COVID_Status\"].tolist()\n",
    "    x.drop_duplicates([\"Visit_Info_ID\", \"Seronet_Participant_ID\" ,\"Seronet_Cohort\", \"Normalized_Visit_Index\",  \"COVID_Status\"], inplace=True)\n",
    "    if covid_list == [np.nan]:\n",
    "        covid_list = [\"No Covid Event Reported\"]\n",
    "    try:\n",
    "        covid_list.sort()\n",
    "        x[\"COVID_Status\"] = (\" | \").join(covid_list)\n",
    "    except Exception as e:\n",
    "        print(covid_list)\n",
    "        break\n",
    "    finally:\n",
    "        covid_visits = pd.concat([covid_visits, x])"
   ]
  },
  {
   "cell_type": "code",
   "execution_count": 24,
   "metadata": {},
   "outputs": [],
   "source": [
    "covid_visits.reset_index(drop=True, inplace=True)"
   ]
  },
  {
   "cell_type": "code",
   "execution_count": 25,
   "metadata": {},
   "outputs": [],
   "source": [
    "rapid_test =  covid_visits[\"COVID_Status\"].str.contains(\"Positive by Rapid Antigen Test\")\n",
    "pcr_test =    covid_visits[\"COVID_Status\"].str.contains(\"Positive by PCR\")\n",
    "anti_test =   covid_visits[\"COVID_Status\"].str.contains(\"Positive by Antibody Test\")\n",
    "\n",
    "z = pd.DataFrame(columns = [\"PCR\", \"Rapid_Antigen\", \"Antibody\"],data = list(zip(pcr_test, rapid_test, anti_test)))\n",
    "\n",
    "#covid_visits[\"Covid Test Summary\"] = [i.find('Positive') for i in covid_visits[\"COVID_Status\"]]"
   ]
  },
  {
   "cell_type": "code",
   "execution_count": 26,
   "metadata": {},
   "outputs": [],
   "source": [
    "covid_visits[\"Covid Test Summary\"] = \"Negative Test\""
   ]
  },
  {
   "cell_type": "code",
   "execution_count": 27,
   "metadata": {},
   "outputs": [],
   "source": [
    "x = z.query(\"PCR == True and Rapid_Antigen == False and Antibody == False\")\n",
    "covid_visits[\"Covid Test Summary\"][x.index] = \"Positive by PCR Test\"\n",
    "\n",
    "x = z.query(\"PCR == False and Rapid_Antigen == True and Antibody == False\")\n",
    "covid_visits[\"Covid Test Summary\"][x.index] = \"Positive by Rapid Antigen Test\"\n",
    "\n",
    "x = z.query(\"PCR == False and Rapid_Antigen == False and Antibody == True\")\n",
    "covid_visits[\"Covid Test Summary\"][x.index] = \"Positive by Antibody Test\"\n",
    "\n",
    "no_test = covid_visits.query(\"COVID_Status == 'Likely COVID Positive'\")\n",
    "covid_visits[\"Covid Test Summary\"][no_test.index] = \"No Test, self reported: Likely COVID Positive\""
   ]
  },
  {
   "cell_type": "code",
   "execution_count": 28,
   "metadata": {},
   "outputs": [],
   "source": [
    "z[\"all_tests\"] =  z.sum(axis=1)\n",
    "x = z.query(\"all_tests > 1\")\n",
    "covid_visits[\"Covid Test Summary\"][x.index] = \"Two or More Positive Tests\""
   ]
  },
  {
   "cell_type": "code",
   "execution_count": 29,
   "metadata": {},
   "outputs": [],
   "source": [
    "no_test = covid_visits.query(\"COVID_Status == 'No Covid Event Reported'\")\n",
    "covid_visits[\"Covid Test Summary\"][no_test.index] = \"No Covid Event Reported\""
   ]
  },
  {
   "cell_type": "code",
   "execution_count": 30,
   "metadata": {},
   "outputs": [],
   "source": [
    "columns = ['Covid Test Summary']\n",
    "categorical = ['Covid Test Summary']\n",
    "groupby = 'Seronet_Cohort'\n",
    "\n",
    "order_dict = {}\n",
    "\n",
    "order_dict['Covid Test Summary'] = [\n",
    "'No Covid Event Reported',\n",
    "'No Test, self reported: Likely COVID Positive',\n",
    "'Negative Test',\n",
    "'Positive by Antibody Test',\n",
    "'Positive by PCR Test',\n",
    "'Positive by Rapid Antigen Test',\n",
    "'Two or More Positive Tests']\n",
    "\n",
    "order_dict[\"SeroNet_Cohort\"] = [\"Healthy Cohort\", \"Comorbidity Cohort\",  \"Cancer\",   \"IBD\",  \"HIV\", \"Transplant\"]\n"
   ]
  },
  {
   "cell_type": "code",
   "execution_count": 31,
   "metadata": {},
   "outputs": [],
   "source": [
    "covid_history[\"PCR_Duration_Normalized\"] = [np.nan if a == \"N/A\" else a-b  for a,b in zip(covid_history[\"PCR_Test_Date_Duration_From_Index\"],covid_history[\"Offset_Value\"])]\n",
    "covid_history[\"Rapid_Antigen_Duration_Normalized\"] = [np.nan if a == \"N/A\" else a-b  for a,b in zip(covid_history[\"Rapid_Antigen_Test_Date_Duration_From_Index\"],covid_history[\"Offset_Value\"])]\n",
    "covid_history[\"Antibody_Duration_Normalized\"] = [np.nan if a == \"N/A\" else a-b  for a,b in zip(covid_history[\"Antibody_Test_Date_Duration_From_Index\"],covid_history[\"Offset_Value\"])]"
   ]
  },
  {
   "cell_type": "code",
   "execution_count": 32,
   "metadata": {},
   "outputs": [],
   "source": [
    "col_names = [\"Seronet_Participant_ID\", \"Seronet_Cohort\", \"Normalized_Visit_Index\", \"COVID_Status\",\n",
    "             \"PCR_Duration_Normalized\", \"Rapid_Antigen_Duration_Normalized\", \"Antibody_Duration_Normalized\",\n",
    "             \"Breakthrough_COVID\", \"Symptomatic_COVID\", \"Recovered_From_COVID\", \"Duration_of_Disease\", \"Recovery_Date_Duration_From_Index\", \"Disease_Severity\",\n",
    "             \"Level_Of_Care\", \"Symptoms\", \"Other_Symptoms\", \"COVID_complications\", \"Long_COVID_symptoms\", \"Other_Long_COVID_symptoms\", \"COVID_Therapy\",\n",
    "             \"Covid_History_Comments\"]\n",
    "\n",
    "covid_history = covid_history[col_names]"
   ]
  },
  {
   "cell_type": "code",
   "execution_count": 33,
   "metadata": {},
   "outputs": [],
   "source": [
    "covid_visits.drop([\"Visit_Info_ID\"], axis=1, inplace=True)"
   ]
  },
  {
   "cell_type": "code",
   "execution_count": 34,
   "metadata": {},
   "outputs": [],
   "source": [
    "covid_history[\"COVID_Status\"].fillna(\"No Covid Event Reported\", inplace=True)\n",
    "covid_history[\"COVID_Summary\"] = [i.find('Positive') for i in covid_history[\"COVID_Status\"]]\n",
    "pos_covid_visits = covid_history.query(\"COVID_Summary >= 0\")\n",
    "\n",
    "covid_history.drop(\"COVID_Summary\", axis=1, inplace=True)"
   ]
  },
  {
   "cell_type": "code",
   "execution_count": 35,
   "metadata": {},
   "outputs": [],
   "source": [
    "covid_visits.drop_duplicates(inplace=True)\n",
    "covid_history.drop_duplicates(inplace=True)"
   ]
  },
  {
   "cell_type": "code",
   "execution_count": 36,
   "metadata": {},
   "outputs": [
    {
     "name": "stderr",
     "output_type": "stream",
     "text": [
      "C:\\ProgramData\\anaconda3\\Lib\\site-packages\\tableone\\tableone.py:1449: UserWarning: Order variable not found: SeroNet_Cohort\n",
      "  warnings.warn(\"Order variable not found: {}\".format(k))\n"
     ]
    }
   ],
   "source": [
    "covid_history_table1 = TableOne(covid_visits, columns, categorical, groupby, order = order_dict)"
   ]
  },
  {
   "cell_type": "code",
   "execution_count": 37,
   "metadata": {},
   "outputs": [],
   "source": [
    "pos_covid_visits[\"Symptoms\"].fillna(\"No symptoms reported\", inplace=True)\n",
    "pos_covid_visits[\"Symptoms\"].replace(\"N/A\", \"No symptoms reported\", inplace=True)\n",
    "\n",
    "pos_covid_visits[\"Other_Symptoms\"].fillna(\"N/A\", inplace=True)\n",
    "\n",
    "pos_covid_visits[\"all_symptoms\"] = list(zip([i.split(\"|\") for i in pos_covid_visits[\"Symptoms\"]] , [i.split(\"|\") for i in pos_covid_visits[\"Other_Symptoms\"]]))\n",
    "\n",
    "pos_covid_visits[\"all_symptoms\"] = [[x for xs in i for x in xs] for i in  pos_covid_visits[\"all_symptoms\"]]\n",
    "pos_covid_visits[\"all_symptoms\"] = [list(filter(lambda x: x not in [\"N/A\", \"Other\", \"No symptoms reported\"], i )) for i in pos_covid_visits[\"all_symptoms\"] ]\n",
    "\n",
    "pos_covid_visits[\"Number_Of_Symptoms\"] = [len(i) for i in pos_covid_visits[\"all_symptoms\"]]\n",
    "\n",
    "pos_covid_visits.drop([\"COVID_Summary\", \"all_symptoms\"], axis=1, inplace=True)"
   ]
  },
  {
   "cell_type": "code",
   "execution_count": 38,
   "metadata": {},
   "outputs": [],
   "source": [
    "pos_covid_visits[\"Harmonized Therapy Name\"] =  pos_covid_visits[\"COVID_Therapy\"].replace({\n",
    "'N/A': 'N/A', 'Not Reported' : 'Not Reported','Paxlovid oral antiviral':'paxlovid',\n",
    "'Paxlovid':'paxlovid','Remdesivir':'remdesivir','Azithromycin':'azithromycin','No treatment or therapy':'No Therapy',\n",
    "'Molnupiravir':'molnupiravir','Monoclonal antibodies':'monoclonal antibody therapy, not specified','Aspirin':'aspirin',\n",
    "'Paxlovid|Molnupiravir':'molnupiravir | paxlovid',\n",
    "'Bamlanivimab':'bamlanivimab','Dulera and Albuterol inhalers':'albuterol | mometasone furoate and formoterol fumarate dihydrate',\n",
    "'Sotrovimab':'sotrovimab', 'Hydroxychloroquine':'hydroxychloroquine','Convalescent serum/plasma':'convalescent plasma',\n",
    "'Monoclonal antibodies, unspecified':'monoclonal antibody therapy, not specified','Unknown':'Unknown',\n",
    "'Monoclonal infusion':'monoclonal antibody therapy, not specified',\n",
    "'Monoclonal antibody therapy':'monoclonal antibody therapy, not specified',\n",
    "'Remdesivir|Molnupiravir|Hydroxychloriquine':'hydroxychloriquine | molnupiravir | remdesivir',\n",
    "'Remdesivir|Dexamethasone':'dexamethasone | remdesivir',\n",
    "'steroids for COVID-19 related tightening of chest and history of asthma':'steroids, not specified',\n",
    "'Hydroxychloroquine,Azithromycin':'azithromycin | hydroxychloroquine',\n",
    "'Azithromycin,Other (specify)':'azithromycin | Other',\n",
    "'Prednisone and cough medicine':'cough medicine, not specified | prednisone',\n",
    "'Other COVID-19 treatment':'Other',\n",
    "'Bebtelovimab':'bebtelovimab',\n",
    "'NyQuil and DayQuil':'acetaminophen, dextromethorphan, and doxylamine |  acetaminophen, dextromethorphan, and pseudoephedrine',\n",
    "'Hydroxychloroquine,Azithromycin,Aspirin,Blood Thinners':'azithromycin | aspirin | blood thinners, not specified | hydroxychloroquine',\n",
    "'Paxlovid|prednisone':'paxlovid | prednisone',\n",
    "'Monoclonoantibody infusion':'monoclonal antibody therapy, not specified',\n",
    "'Molnupiravir|Monoclonal antibodies mAb':'molnupiravir | monoclonal antibody therapy, not specified'})\n"
   ]
  },
  {
   "cell_type": "code",
   "execution_count": 39,
   "metadata": {},
   "outputs": [],
   "source": [
    "'''\n",
    "Ensure that the Release_Data_Dictionary.xlsx workbook is stored in the same folder as this notebook.\n",
    "'''\n",
    "dictionary = pd.read_excel(\"Release_Data_Dictionary_External.xlsx\", sheet_name = \"Covid_History_Dictionary\")"
   ]
  },
  {
   "cell_type": "code",
   "execution_count": null,
   "metadata": {},
   "outputs": [],
   "source": []
  },
  {
   "cell_type": "code",
   "execution_count": 40,
   "metadata": {},
   "outputs": [],
   "source": [
    "#Note: Be sure to name the file for the ExcelWriter object as Covid_History.<release_number>.xlsx.\n",
    "covid_history_writer= pd.ExcelWriter(f'{output_folder}{file_sep}{sheet_name}_{version_num}.xlsx')\n",
    "\n",
    "covid_history_table1.to_excel(covid_history_writer, \"Summary\")\n",
    "covid_visits.to_excel(covid_history_writer, 'Covid Test All Visit', index = False)\n",
    "pos_covid_visits.to_excel(covid_history_writer, 'Positive Covid Visits', index = False)\n",
    "dictionary.to_excel(covid_history_writer, 'Data_Dictionary', index = False)"
   ]
  },
  {
   "cell_type": "code",
   "execution_count": 41,
   "metadata": {},
   "outputs": [
    {
     "data": {
      "text/plain": [
       "0"
      ]
     },
     "execution_count": 41,
     "metadata": {},
     "output_type": "execute_result"
    }
   ],
   "source": [
    "workbook = covid_history_writer.book\n",
    "worksheet = covid_history_writer.sheets['Summary']\n",
    "column_fmt = workbook.add_format({'font_name': 'Arial', 'font_size': 10, 'align': 'center'})\n",
    "worksheet.set_column(0, 0, 30, column_fmt)  #this is column header names\n",
    "worksheet.set_column(1, 1, 42, column_fmt)  #this is sub column header names\n",
    "worksheet.set_column(2, 3, 12, column_fmt)  #all the data\n",
    "worksheet.set_column(4, 17, 20, column_fmt)  #all the data"
   ]
  },
  {
   "cell_type": "code",
   "execution_count": 42,
   "metadata": {},
   "outputs": [],
   "source": [
    "covid_history_writer.close()"
   ]
  },
  {
   "cell_type": "code",
   "execution_count": 43,
   "metadata": {},
   "outputs": [],
   "source": [
    "\n",
    "wb = load_workbook(f'{output_folder}{file_sep}{sheet_name}_{version_num}.xlsx')\n",
    "sheet = wb['Summary']\n",
    "note0 = [\"\"]\n",
    "note1 = [\"Note: Likely COVID Positive means the participant was not tested, but was around Positive Individuals\"]\n",
    "sheet.append(note0)\n",
    "sheet.append(note1)\n",
    "wb.save(filename = f'{output_folder}{file_sep}{sheet_name}_{version_num}.xlsx')"
   ]
  },
  {
   "cell_type": "code",
   "execution_count": null,
   "metadata": {},
   "outputs": [],
   "source": []
  }
 ],
 "metadata": {
  "kernelspec": {
   "display_name": "Python 3 (ipykernel)",
   "language": "python",
   "name": "python3"
  },
  "language_info": {
   "codemirror_mode": {
    "name": "ipython",
    "version": 3
   },
   "file_extension": ".py",
   "mimetype": "text/x-python",
   "name": "python",
   "nbconvert_exporter": "python",
   "pygments_lexer": "ipython3",
   "version": "3.11.5"
  }
 },
 "nbformat": 4,
 "nbformat_minor": 4
}
