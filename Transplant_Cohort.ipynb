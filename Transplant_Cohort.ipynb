{
 "cells": [
  {
   "cell_type": "markdown",
   "id": "09e0d51d-c4c4-4a59-9750-cc747cb6c1c5",
   "metadata": {},
   "source": [
    "#### Pre-requisites\n",
    "The following packages need to be installed in your notebook environment:\n",
    "1. <a href = https://dev.mysql.com/doc/connector-python/en/>mysql.connector</a>\n",
    "2. <a href = https://pandas.pydata.org/>pandas</a>\n",
    "3. <a href = https://numpy.org/>numpy</a>\n",
    "4. <a href = https://pypi.org/project/tableone/>tableone</a>\n",
    "5. <a href = https://pypi.org/project/openpyxl/>openpyxl</a>\n",
    "\n",
    "Be sure to install these packages in one of the directories in the system path(`print sys.path`) for the notebook environment.\n",
    "\n",
    "You will need access (username and password) to seronet vaccine response database, `seronetdb-Vaccine_Response`, accessible at the AWS endpoint: `seronet-dev-instance.cwe7vdnqsvxr.us-east-1.rds.amazonaws.com`. <br>\n",
    "**Note:** Store all mysql connector parameters in a `.env` file as shown below. <i>The `.env` needs to be in the same directory as the notebooks</i>.\n",
    "\n",
    "Ensure that the Excel workbook <i>Release_Data_Dictionary.xlsx</i> is in the same folder as this notebook. This workbook is also on versioned on GitHub."
   ]
  },
  {
   "cell_type": "markdown",
   "id": "668f41ca-ff12-4e4c-ad88-297411571ef6",
   "metadata": {},
   "source": [
    "#### Post-processing files\n",
    "<u>Summary sheet:</u>\n",
    "1. Remove all borders from Table 1.\n",
    "2. Shade table rows in grey/white.\n",
    "3. Right justify second column.\n",
    "4. Center all columns reporting values.\n",
    "5. Autoformat column widths.\n",
    "6. Highlight all notes in bold.\n",
    "\n",
    "<u>Detailed report sheets:</u>\n",
    "1. All columns left justified.\n",
    "2. Autoformat column widths.\n",
    "3. Fill all empty cells with \"Not Reported\"."
   ]
  },
  {
   "cell_type": "code",
   "execution_count": 1,
   "id": "3cdde2bd-90eb-4578-8c38-ac15ff05a13d",
   "metadata": {},
   "outputs": [],
   "source": [
    "import mysql.connector as connection\n",
    "import pandas as pd\n",
    "import numpy as np\n",
    "import os\n",
    "from tableone import TableOne\n",
    "from openpyxl import load_workbook, Workbook\n",
    "from openpyxl.styles import Font\n",
    "import sqlalchemy as sd\n",
    "import datetime\n",
    "import icd10"
   ]
  },
  {
   "cell_type": "code",
   "execution_count": 2,
   "id": "2a0a561b",
   "metadata": {},
   "outputs": [],
   "source": [
    "last_edit = '12/13/2024'"
   ]
  },
  {
   "cell_type": "code",
   "execution_count": 3,
   "id": "8a5c97c3",
   "metadata": {},
   "outputs": [],
   "source": [
    "v4_visits = r\"C:\\Users\\breadsp2\\Documents\\Release_4.0.0\\Participant_Visit_Info_4.0.0.xlsx\"\n",
    "v4_visits = pd.read_excel(v4_visits, sheet_name=\"Detailed_Report\")\n",
    "V4_fitler = False"
   ]
  },
  {
   "cell_type": "code",
   "execution_count": 4,
   "id": "6f0fceba",
   "metadata": {},
   "outputs": [],
   "source": [
    "pd.options.mode.chained_assignment = None  # default='warn'"
   ]
  },
  {
   "cell_type": "code",
   "execution_count": 5,
   "id": "9be176e8-0064-431c-9590-aef0a5296242",
   "metadata": {},
   "outputs": [],
   "source": [
    "'''\n",
    "Create a .env file to store hostname, database, username, and password as environment variables.  \n",
    "The .env file is stored in same folder as notebook.\n",
    "==============\n",
    "Format:\n",
    "HOST=a.b.c.d\n",
    "DB=<my.database>\n",
    "USER=john\n",
    "PWD=abc#123\n",
    "==============\n",
    "Note: no space around the \"=\" sign. Do not put any of the values in quotes.\n",
    "'''\n",
    "\n",
    "env = {}\n",
    "with open(\"test.env\") as f:\n",
    "    for line in f:\n",
    "        (k, v) = line.split(\"=\")\n",
    "        k = k.strip()\n",
    "        env[k] = v.strip()\n",
    "        \n",
    "HOST = env[\"HOST\"]\n",
    "DB = env[\"DB\"]\n",
    "USER = env[\"USER\"]\n",
    "PWD = env[\"PWD\"]"
   ]
  },
  {
   "cell_type": "code",
   "execution_count": 6,
   "id": "ab79925c-2b34-4dad-b602-8acf415f5e11",
   "metadata": {},
   "outputs": [],
   "source": [
    "if V4_fitler == True:\n",
    "    version_num = \"4.2.0\"\n",
    "    output_folder = r\"C:\\Users\\breadsp2\\Desktop\\Release_4.2.0\"\n",
    "else: \n",
    "    version_num = \"5.2.0\"\n",
    "    output_folder = r\"C:\\Users\\breadsp2\\Desktop\\Release_5.2.0\"\n",
    "file_sep = os.path.sep\n",
    "release_date = '2024-10-01'"
   ]
  },
  {
   "cell_type": "code",
   "execution_count": 7,
   "id": "86545508-daf0-4914-b41c-12dc37d27166",
   "metadata": {},
   "outputs": [],
   "source": [
    "sheet_name = \"Participants_in_the_Transplant_Cohort\""
   ]
  },
  {
   "cell_type": "code",
   "execution_count": 8,
   "id": "89aeebfe-f62d-4f1a-bd55-c84c534d6e49",
   "metadata": {},
   "outputs": [],
   "source": [
    "creds = {'usr': USER, 'pwd': PWD, 'hst': HOST, \"prt\": 3306, 'dbn': DB}\n",
    "connstr = \"mysql+mysqlconnector://{usr}:{pwd}@{hst}:{prt}/{dbn}\"\n",
    "engine = sd.create_engine(connstr.format(**creds))\n",
    "conn = engine.connect()"
   ]
  },
  {
   "cell_type": "code",
   "execution_count": 9,
   "id": "059b5e0f",
   "metadata": {},
   "outputs": [],
   "source": [
    "All_Visits = pd.read_sql((\"SELECT p.Seronet_Participant_ID, nv.Research_Participant_ID, nv.Seronet_Cohort, nv.Normalized_Visit_Index,  \" +\n",
    "                          \"nv.Visit_Info_ID  From Normalized_Visit_Info as nv \" + \n",
    "                          \"join Participant as p on nv.Research_Participant_ID = p.Research_Participant_ID\"), conn)"
   ]
  },
  {
   "cell_type": "code",
   "execution_count": 10,
   "id": "92b72c66",
   "metadata": {},
   "outputs": [],
   "source": [
    "demo_file = output_folder + file_sep + \"Demographics_\" + version_num + \".xlsx\"\n",
    "demo_data = pd.read_excel(demo_file, sheet_name=\"Detailed_Report\")"
   ]
  },
  {
   "cell_type": "code",
   "execution_count": 11,
   "id": "38d84a46",
   "metadata": {},
   "outputs": [],
   "source": [
    "curr_visit_file = output_folder + file_sep + \"Participant_Visit_Info_\" + version_num + \".xlsx\"\n",
    "curr_visit_data = pd.read_excel(curr_visit_file, sheet_name=\"Detailed_Report\")"
   ]
  },
  {
   "cell_type": "code",
   "execution_count": 12,
   "id": "e9801535",
   "metadata": {},
   "outputs": [],
   "source": [
    "All_Visits = All_Visits.merge(demo_data[\"Seronet_Participant_ID\"])\n",
    "All_Visits = All_Visits.merge(curr_visit_data[[\"Seronet_Participant_ID\", 'Normalized_Visit_Index']], how=\"right\")"
   ]
  },
  {
   "cell_type": "code",
   "execution_count": 13,
   "id": "45a27f08",
   "metadata": {},
   "outputs": [],
   "source": [
    "#tranplant_data = pd.read_sql((\"SELECT Visit_Info_ID, Organ_Transplant_Description_Or_ICD10_codes FROM Participant_Other_Condition_Names\"), conn)"
   ]
  },
  {
   "cell_type": "code",
   "execution_count": 14,
   "id": "f130f1d3",
   "metadata": {},
   "outputs": [],
   "source": [
    "#All_Visits = All_Visits.merge(tranplant_data)"
   ]
  },
  {
   "cell_type": "code",
   "execution_count": 15,
   "id": "b9c19224",
   "metadata": {},
   "outputs": [],
   "source": [
    "cohort_data = pd.read_sql((\"SELECT * FROM Organ_Transplant_Cohort\"), conn)"
   ]
  },
  {
   "cell_type": "code",
   "execution_count": 16,
   "id": "c56b19b0",
   "metadata": {},
   "outputs": [],
   "source": [
    "transplant_data = All_Visits.merge(cohort_data)"
   ]
  },
  {
   "cell_type": "code",
   "execution_count": 17,
   "id": "8a2bc0a4",
   "metadata": {},
   "outputs": [],
   "source": [
    "'''\n",
    "This block adds a CBC column to dataframe based on the Research_Participant_ID.\n",
    "'''\n",
    "transplant_data['CBC'] = \"Not Reported\"\n",
    "\n",
    "conditions = [\n",
    "    transplant_data['Research_Participant_ID'].str.startswith('14'),\n",
    "    transplant_data['Research_Participant_ID'].str.startswith('27'),\n",
    "    transplant_data['Research_Participant_ID'].str.startswith('41'),\n",
    "    transplant_data['Research_Participant_ID'].str.startswith('32_22'),  #ASU_Midwestern\n",
    "    transplant_data['Research_Participant_ID'].str.startswith('32_33'),  #ASU_Dignity Health\n",
    "    transplant_data['Research_Participant_ID'].str.startswith('32_44'),  #ASU_ValleyWise\n",
    "    transplant_data['Research_Participant_ID'].str.startswith('32_77'),  #ASU_Phoenix Childrens Hospital\n",
    "    transplant_data['Research_Participant_ID'].str.startswith('32_55'),  #ASU_Columbia\n",
    "\n",
    "]\n",
    "\n",
    "values = [\"Mount_Sinai\", \"University of Minnesota\", \"Feinstein_Northwell\", \"ASU: Midwestern\", \"ASU: Dignity Health\",\n",
    "          \"ASU: ValleyWise\", \"ASU: Phoenix Childrens Hospital\", \"Columbia University\"]\n",
    "\n",
    "transplant_data['CBC'] = np.select(conditions, values)"
   ]
  },
  {
   "cell_type": "code",
   "execution_count": 18,
   "id": "5544634e",
   "metadata": {},
   "outputs": [],
   "source": [
    "baseline_trans = transplant_data.query(\"Normalized_Visit_Index == 1\")"
   ]
  },
  {
   "cell_type": "code",
   "execution_count": 19,
   "id": "e1e72199",
   "metadata": {},
   "outputs": [],
   "source": [
    "baseline_trans[\"Organ Transplant\"].fillna(\"No Data\", inplace=True)\n",
    "baseline_trans[\"Organ_Transplant_Other\"].fillna(\"No Data\", inplace=True)"
   ]
  },
  {
   "cell_type": "code",
   "execution_count": 20,
   "id": "fec15a09",
   "metadata": {},
   "outputs": [],
   "source": [
    "#baseline_trans[\"Organ_Transplant_Description_Or_ICD10_codes\"] = [i.split(\"|\") for i in baseline_trans[\"Organ_Transplant_Description_Or_ICD10_codes\"]] \n",
    "baseline_trans[\"Organ Transplant\"] = [i.split(\"|\") for i in baseline_trans[\"Organ Transplant\"]] \n",
    "baseline_trans[\"Organ_Transplant_Other\"] = [i.split(\"|\") for i in baseline_trans[\"Organ_Transplant_Other\"]] "
   ]
  },
  {
   "cell_type": "code",
   "execution_count": 21,
   "id": "3f44fd30",
   "metadata": {},
   "outputs": [],
   "source": [
    "baseline_trans[\"All Organ Transplants\"] = baseline_trans[\"Organ Transplant\"] + baseline_trans[\"Organ_Transplant_Other\"]"
   ]
  },
  {
   "cell_type": "code",
   "execution_count": 22,
   "id": "abd5e9c0",
   "metadata": {},
   "outputs": [
    {
     "data": {
      "text/html": [
       "<div>\n",
       "<style scoped>\n",
       "    .dataframe tbody tr th:only-of-type {\n",
       "        vertical-align: middle;\n",
       "    }\n",
       "\n",
       "    .dataframe tbody tr th {\n",
       "        vertical-align: top;\n",
       "    }\n",
       "\n",
       "    .dataframe thead th {\n",
       "        text-align: right;\n",
       "    }\n",
       "</style>\n",
       "<table border=\"1\" class=\"dataframe\">\n",
       "  <thead>\n",
       "    <tr style=\"text-align: right;\">\n",
       "      <th></th>\n",
       "      <th>Seronet_Participant_ID</th>\n",
       "      <th>Research_Participant_ID</th>\n",
       "      <th>Seronet_Cohort</th>\n",
       "      <th>Normalized_Visit_Index</th>\n",
       "      <th>Visit_Info_ID</th>\n",
       "      <th>Organ Transplant</th>\n",
       "      <th>Organ_Transplant_Other</th>\n",
       "      <th>Number_of_Hematopoietic_Cell_Transplants</th>\n",
       "      <th>Number_Of_Solid_Organ_Transplants</th>\n",
       "      <th>Date_of_Latest_Hematopoietic_Cell_Transplant_Duration_From_Index</th>\n",
       "      <th>Date_of_Latest_Solid_Organ_Transplant_Duration_From_Index</th>\n",
       "      <th>Update</th>\n",
       "      <th>Organ_Transplant_Cohort_Comments</th>\n",
       "      <th>CBC</th>\n",
       "      <th>All Organ Transplants</th>\n",
       "    </tr>\n",
       "  </thead>\n",
       "  <tbody>\n",
       "    <tr>\n",
       "      <th>233</th>\n",
       "      <td>SN796387</td>\n",
       "      <td>14_T66411</td>\n",
       "      <td>Transplant</td>\n",
       "      <td>1</td>\n",
       "      <td>14_T66411 : B01</td>\n",
       "      <td>[Other]</td>\n",
       "      <td>[Trachea]</td>\n",
       "      <td>0</td>\n",
       "      <td>1</td>\n",
       "      <td>N/A</td>\n",
       "      <td>-229</td>\n",
       "      <td>Baseline Information</td>\n",
       "      <td></td>\n",
       "      <td>Mount_Sinai</td>\n",
       "      <td>[Other, Trachea]</td>\n",
       "    </tr>\n",
       "  </tbody>\n",
       "</table>\n",
       "</div>"
      ],
      "text/plain": [
       "    Seronet_Participant_ID Research_Participant_ID Seronet_Cohort  \\\n",
       "233               SN796387               14_T66411     Transplant   \n",
       "\n",
       "     Normalized_Visit_Index    Visit_Info_ID Organ Transplant  \\\n",
       "233                       1  14_T66411 : B01          [Other]   \n",
       "\n",
       "    Organ_Transplant_Other Number_of_Hematopoietic_Cell_Transplants  \\\n",
       "233              [Trachea]                                        0   \n",
       "\n",
       "    Number_Of_Solid_Organ_Transplants  \\\n",
       "233                                 1   \n",
       "\n",
       "    Date_of_Latest_Hematopoietic_Cell_Transplant_Duration_From_Index  \\\n",
       "233                                                N/A                 \n",
       "\n",
       "    Date_of_Latest_Solid_Organ_Transplant_Duration_From_Index  \\\n",
       "233                                               -229          \n",
       "\n",
       "                   Update Organ_Transplant_Cohort_Comments          CBC  \\\n",
       "233  Baseline Information                                   Mount_Sinai   \n",
       "\n",
       "    All Organ Transplants  \n",
       "233      [Other, Trachea]  "
      ]
     },
     "execution_count": 22,
     "metadata": {},
     "output_type": "execute_result"
    }
   ],
   "source": [
    "baseline_trans.query(\"Seronet_Participant_ID == 'SN796387'\")"
   ]
  },
  {
   "cell_type": "code",
   "execution_count": 23,
   "id": "6d8b3107",
   "metadata": {},
   "outputs": [],
   "source": [
    "baseline_trans[\"All Organ Transplants\"] = [list(set(i)) for i in baseline_trans[\"All Organ Transplants\"]]\n",
    "\n",
    "[i.remove('Other') if 'Other' in i else i for i in baseline_trans[\"All Organ Transplants\"]]\n",
    "[i.remove('N/A')   if 'N/A'   in i else i for i in baseline_trans[\"All Organ Transplants\"]]\n",
    "[i.remove('Not Reported') if 'Not Reported' in i else i for i in baseline_trans[\"All Organ Transplants\"]]\n",
    "[i.remove('No Data') if 'No Data' in i else i for i in baseline_trans[\"All Organ Transplants\"]]\n",
    "baseline_trans[\"All Organ Transplants\"] = [\" | \".join(i) for i in baseline_trans[\"All Organ Transplants\"]] \n"
   ]
  },
  {
   "cell_type": "code",
   "execution_count": 24,
   "id": "e891ae23",
   "metadata": {},
   "outputs": [],
   "source": [
    "baseline_trans[\"Number_of_Hematopoietic_Cell_Transplants\"].fillna(\"Not Repoted\", inplace=True)\n",
    "baseline_trans[\"Number_Of_Solid_Organ_Transplants\"].fillna(\"Not Repoted\", inplace=True)\n",
    "baseline_trans[\"Date_of_Latest_Hematopoietic_Cell_Transplant_Duration_From_Index\"].fillna(\"Not Repoted\", inplace=True)\n",
    "baseline_trans[\"Date_of_Latest_Solid_Organ_Transplant_Duration_From_Index\"].fillna(\"Not Repoted\", inplace=True)"
   ]
  },
  {
   "cell_type": "code",
   "execution_count": 25,
   "id": "828c2f92",
   "metadata": {},
   "outputs": [],
   "source": [
    "baseline_trans = baseline_trans.query(\"`All Organ Transplants` != ''\")"
   ]
  },
  {
   "cell_type": "code",
   "execution_count": 26,
   "id": "38bfbb60",
   "metadata": {},
   "outputs": [],
   "source": [
    "new_cols = [\n",
    "\"Seronet_Participant_ID\", \"Seronet_Cohort\", \"Normalized_Visit_Index\", \"All Organ Transplants\",\n",
    "    \"Number_of_Hematopoietic_Cell_Transplants\", \"Number_Of_Solid_Organ_Transplants\", \n",
    "    \"Date_of_Latest_Hematopoietic_Cell_Transplant_Duration_From_Index\", \"Date_of_Latest_Solid_Organ_Transplant_Duration_From_Index\"]\n",
    "baseline_trans = baseline_trans[new_cols]"
   ]
  },
  {
   "cell_type": "code",
   "execution_count": 27,
   "id": "9fbf7069",
   "metadata": {},
   "outputs": [],
   "source": [
    "columns = [\"Number_of_Hematopoietic_Cell_Transplants\", \"Number_Of_Solid_Organ_Transplants\", \"All Organ Transplants\"]\n",
    "categorical = [\"Number_of_Hematopoietic_Cell_Transplants\", \"Number_Of_Solid_Organ_Transplants\",\"All Organ Transplants\"]\n",
    "groupby = 'Seronet_Cohort'"
   ]
  },
  {
   "cell_type": "code",
   "execution_count": 28,
   "id": "cfa62598",
   "metadata": {},
   "outputs": [],
   "source": [
    "baseline_trans_table1 = TableOne(baseline_trans, columns, categorical, groupby)"
   ]
  },
  {
   "cell_type": "code",
   "execution_count": 29,
   "id": "92ad63f9",
   "metadata": {},
   "outputs": [],
   "source": [
    "dictionary = pd.read_excel(\"Release_Data_Dictionary_External.xlsx\", sheet_name = \"Organ_Transplant_Dictionary\")"
   ]
  },
  {
   "cell_type": "code",
   "execution_count": 30,
   "id": "2ad30382",
   "metadata": {},
   "outputs": [],
   "source": [
    "#Note: Be sure to name the file for the ExcelWriter object as Biospecimens.<release_number>.xlsx.\n",
    "trans_writer = pd.ExcelWriter(f'{output_folder}{file_sep}{sheet_name}_{version_num}.xlsx')\n",
    "baseline_trans_table1.to_excel(trans_writer, \"Summary\")\n",
    "baseline_trans.to_excel(trans_writer, \"Transplant Status at Baseline\", index = False)\n",
    "dictionary.to_excel(trans_writer, 'Data_Dictionary', index = False)"
   ]
  },
  {
   "cell_type": "code",
   "execution_count": 31,
   "id": "fa2891ec",
   "metadata": {},
   "outputs": [
    {
     "data": {
      "text/plain": [
       "0"
      ]
     },
     "execution_count": 31,
     "metadata": {},
     "output_type": "execute_result"
    }
   ],
   "source": [
    "workbook = trans_writer.book\n",
    "worksheet = trans_writer.sheets['Summary']\n",
    "column_fmt = workbook.add_format({'font_name': 'Arial', 'font_size': 10, 'align': 'center'})\n",
    "worksheet.set_column(0, 0, 47, column_fmt)   #this is column header names\n",
    "worksheet.set_column(1, 1, 50, column_fmt)   #this is sub column header names\n",
    "worksheet.set_column(2, 3, 12, column_fmt)   #all the data\n",
    "worksheet.set_column(4, 17, 20, column_fmt)  #all the data\n",
    "\n",
    "row_fmt = workbook.add_format({'text_wrap': True})\n",
    "worksheet.set_row(1, 30, row_fmt)"
   ]
  },
  {
   "cell_type": "code",
   "execution_count": 32,
   "id": "18812378",
   "metadata": {},
   "outputs": [],
   "source": [
    "trans_writer.close()"
   ]
  },
  {
   "cell_type": "code",
   "execution_count": null,
   "id": "87901569",
   "metadata": {},
   "outputs": [],
   "source": []
  },
  {
   "cell_type": "code",
   "execution_count": null,
   "id": "ce25e4eb",
   "metadata": {},
   "outputs": [],
   "source": []
  }
 ],
 "metadata": {
  "kernelspec": {
   "display_name": "Python 3 (ipykernel)",
   "language": "python",
   "name": "python3"
  },
  "language_info": {
   "codemirror_mode": {
    "name": "ipython",
    "version": 3
   },
   "file_extension": ".py",
   "mimetype": "text/x-python",
   "name": "python",
   "nbconvert_exporter": "python",
   "pygments_lexer": "ipython3",
   "version": "3.11.5"
  }
 },
 "nbformat": 4,
 "nbformat_minor": 5
}
