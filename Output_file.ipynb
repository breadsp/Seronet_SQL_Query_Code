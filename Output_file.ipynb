{
 "cells": [
  {
   "cell_type": "code",
   "execution_count": 1,
   "id": "382e27f9",
   "metadata": {
    "execution": {
     "iopub.execute_input": "2024-12-23T13:35:16.919454Z",
     "iopub.status.busy": "2024-12-23T13:35:16.919454Z",
     "iopub.status.idle": "2024-12-23T13:35:18.221822Z",
     "shell.execute_reply": "2024-12-23T13:35:18.221822Z"
    },
    "papermill": {
     "duration": 1.302368,
     "end_time": "2024-12-23T13:35:18.221822",
     "exception": false,
     "start_time": "2024-12-23T13:35:16.919454",
     "status": "completed"
    },
    "tags": []
   },
   "outputs": [],
   "source": [
    "import mysql.connector as connection\n",
    "import pandas as pd\n",
    "import numpy as np\n",
    "import os\n",
    "import sqlalchemy as sd\n",
    "from tableone import TableOne\n",
    "from openpyxl import load_workbook"
   ]
  },
  {
   "cell_type": "code",
   "execution_count": 2,
   "id": "36197024",
   "metadata": {
    "execution": {
     "iopub.execute_input": "2024-12-23T13:35:18.242156Z",
     "iopub.status.busy": "2024-12-23T13:35:18.242156Z",
     "iopub.status.idle": "2024-12-23T13:35:18.245625Z",
     "shell.execute_reply": "2024-12-23T13:35:18.245625Z"
    },
    "papermill": {
     "duration": 0.026825,
     "end_time": "2024-12-23T13:35:18.248647",
     "exception": false,
     "start_time": "2024-12-23T13:35:18.221822",
     "status": "completed"
    },
    "tags": []
   },
   "outputs": [],
   "source": [
    "last_edit = '11/20/2024'"
   ]
  },
  {
   "cell_type": "code",
   "execution_count": 3,
   "id": "5d1fb002",
   "metadata": {
    "execution": {
     "iopub.execute_input": "2024-12-23T13:35:18.270639Z",
     "iopub.status.busy": "2024-12-23T13:35:18.270639Z",
     "iopub.status.idle": "2024-12-23T13:35:18.273681Z",
     "shell.execute_reply": "2024-12-23T13:35:18.273187Z"
    },
    "papermill": {
     "duration": 0.017942,
     "end_time": "2024-12-23T13:35:18.276518",
     "exception": false,
     "start_time": "2024-12-23T13:35:18.258576",
     "status": "completed"
    },
    "tags": []
   },
   "outputs": [],
   "source": [
    "pd.options.mode.chained_assignment = None  # default='warn'"
   ]
  },
  {
   "cell_type": "code",
   "execution_count": 4,
   "id": "6e682ff2",
   "metadata": {
    "execution": {
     "iopub.execute_input": "2024-12-23T13:35:18.299498Z",
     "iopub.status.busy": "2024-12-23T13:35:18.298522Z",
     "iopub.status.idle": "2024-12-23T13:35:18.305544Z",
     "shell.execute_reply": "2024-12-23T13:35:18.304521Z"
    },
    "papermill": {
     "duration": 0.019228,
     "end_time": "2024-12-23T13:35:18.307298",
     "exception": false,
     "start_time": "2024-12-23T13:35:18.288070",
     "status": "completed"
    },
    "tags": [
     "parameters"
    ]
   },
   "outputs": [],
   "source": [
    "Condition = \"Diabetes\"\n",
    "USER = 'USER'\n",
    "PWD = 'PWD'\n",
    "HOST ='HOST'\n",
    "DB = 'DB'\n",
    "sheet_1 = 'sheet_1'"
   ]
  },
  {
   "cell_type": "code",
   "execution_count": 5,
   "id": "0ebdf21a",
   "metadata": {
    "execution": {
     "iopub.execute_input": "2024-12-23T13:35:18.322339Z",
     "iopub.status.busy": "2024-12-23T13:35:18.322339Z",
     "iopub.status.idle": "2024-12-23T13:35:18.326077Z",
     "shell.execute_reply": "2024-12-23T13:35:18.326077Z"
    },
    "papermill": {
     "duration": 0.018779,
     "end_time": "2024-12-23T13:35:18.326077",
     "exception": false,
     "start_time": "2024-12-23T13:35:18.307298",
     "status": "completed"
    },
    "tags": [
     "injected-parameters"
    ]
   },
   "outputs": [],
   "source": [
    "# Parameters\n",
    "Condition = \"Cancer\"\n",
    "USER = \"seronet-datauser4\"\n",
    "PWD = \"1ebe65925b6bc578f93a43ccdb2ff972\"\n",
    "HOST = \"seronet-dev-instance.cwe7vdnqsvxr.us-east-1.rds.amazonaws.com\"\n",
    "DB = \"seronetdb-Vaccine_Response_v2\"\n",
    "sheet_1 = \"All_Participant_Comorbidities\"\n"
   ]
  },
  {
   "cell_type": "code",
   "execution_count": 6,
   "id": "267d430e",
   "metadata": {
    "execution": {
     "iopub.execute_input": "2024-12-23T13:35:18.344498Z",
     "iopub.status.busy": "2024-12-23T13:35:18.343195Z",
     "iopub.status.idle": "2024-12-23T13:35:19.342537Z",
     "shell.execute_reply": "2024-12-23T13:35:19.342537Z"
    },
    "papermill": {
     "duration": 1.018546,
     "end_time": "2024-12-23T13:35:19.344623",
     "exception": false,
     "start_time": "2024-12-23T13:35:18.326077",
     "status": "completed"
    },
    "tags": []
   },
   "outputs": [],
   "source": [
    "v4_visits = r\"C:\\Users\\breadsp2\\Documents\\Release_4.0.0\\Participant_Visit_Info_4.0.0.xlsx\"\n",
    "v4_visits = pd.read_excel(v4_visits, sheet_name=\"Detailed_Report\")\n",
    "V4_fitler = False"
   ]
  },
  {
   "cell_type": "code",
   "execution_count": 7,
   "id": "49b7eb02",
   "metadata": {
    "execution": {
     "iopub.execute_input": "2024-12-23T13:35:19.360375Z",
     "iopub.status.busy": "2024-12-23T13:35:19.360375Z",
     "iopub.status.idle": "2024-12-23T13:35:19.372421Z",
     "shell.execute_reply": "2024-12-23T13:35:19.372421Z"
    },
    "papermill": {
     "duration": 0.031925,
     "end_time": "2024-12-23T13:35:19.376548",
     "exception": false,
     "start_time": "2024-12-23T13:35:19.344623",
     "status": "completed"
    },
    "tags": []
   },
   "outputs": [],
   "source": [
    "\n",
    "#env = {}\n",
    "#with open(\"test.env\") as f:\n",
    "#    for line in f:\n",
    "#        (k, v) = line.split(\"=\")\n",
    "#        k = k.strip()\n",
    "#        env[k] = v.strip()\n",
    "        \n",
    "#HOST = env[\"HOST\"]\n",
    "#DB = env[\"DB\"]\n",
    "#USER = env[\"USER\"]\n",
    "#PWD = env[\"PWD\"]\n"
   ]
  },
  {
   "cell_type": "code",
   "execution_count": 8,
   "id": "f29d401c",
   "metadata": {
    "execution": {
     "iopub.execute_input": "2024-12-23T13:35:19.408352Z",
     "iopub.status.busy": "2024-12-23T13:35:19.408352Z",
     "iopub.status.idle": "2024-12-23T13:35:20.467138Z",
     "shell.execute_reply": "2024-12-23T13:35:20.467138Z"
    },
    "papermill": {
     "duration": 1.082547,
     "end_time": "2024-12-23T13:35:20.467138",
     "exception": false,
     "start_time": "2024-12-23T13:35:19.384591",
     "status": "completed"
    },
    "tags": []
   },
   "outputs": [],
   "source": [
    "creds = {'usr': USER, 'pwd': PWD, 'hst': HOST, \"prt\": 3306, 'dbn': DB}\n",
    "connstr = \"mysql+mysqlconnector://{usr}:{pwd}@{hst}:{prt}/{dbn}\"\n",
    "engine = sd.create_engine(connstr.format(**creds))\n",
    "conn = engine.connect()"
   ]
  },
  {
   "cell_type": "code",
   "execution_count": 9,
   "id": "ba5136cb",
   "metadata": {
    "execution": {
     "iopub.execute_input": "2024-12-23T13:35:20.498756Z",
     "iopub.status.busy": "2024-12-23T13:35:20.498756Z",
     "iopub.status.idle": "2024-12-23T13:35:20.504700Z",
     "shell.execute_reply": "2024-12-23T13:35:20.503615Z"
    },
    "papermill": {
     "duration": 0.032057,
     "end_time": "2024-12-23T13:35:20.509311",
     "exception": false,
     "start_time": "2024-12-23T13:35:20.477254",
     "status": "completed"
    },
    "tags": []
   },
   "outputs": [],
   "source": [
    "mode='a'\n",
    "if Condition in [\"Diabetes\", \"Chronic_Lung_Disease\",\"Viral_Infection\"]:  #first terms in list, create the sheet\n",
    "    mode = 'w'"
   ]
  },
  {
   "cell_type": "code",
   "execution_count": 10,
   "id": "126e84d4",
   "metadata": {
    "execution": {
     "iopub.execute_input": "2024-12-23T13:35:20.534500Z",
     "iopub.status.busy": "2024-12-23T13:35:20.534500Z",
     "iopub.status.idle": "2024-12-23T13:35:20.537659Z",
     "shell.execute_reply": "2024-12-23T13:35:20.537659Z"
    },
    "papermill": {
     "duration": 0.018962,
     "end_time": "2024-12-23T13:35:20.541098",
     "exception": false,
     "start_time": "2024-12-23T13:35:20.522136",
     "status": "completed"
    },
    "tags": []
   },
   "outputs": [],
   "source": [
    "if V4_fitler == True:\n",
    "    version_num = \"4.2.0\"\n",
    "    output_folder = r\"C:\\Users\\breadsp2\\Desktop\\Release_4.2.0\"\n",
    "else: \n",
    "    version_num = \"5.2.0\"\n",
    "    output_folder = r\"C:\\Users\\breadsp2\\Desktop\\Release_5.2.0\"\n",
    "file_sep = os.path.sep\n",
    "release_date = '2024-10-01'"
   ]
  },
  {
   "cell_type": "code",
   "execution_count": 11,
   "id": "32c45373",
   "metadata": {
    "execution": {
     "iopub.execute_input": "2024-12-23T13:35:20.557806Z",
     "iopub.status.busy": "2024-12-23T13:35:20.557806Z",
     "iopub.status.idle": "2024-12-23T13:35:22.752653Z",
     "shell.execute_reply": "2024-12-23T13:35:22.752653Z"
    },
    "papermill": {
     "duration": 2.19953,
     "end_time": "2024-12-23T13:35:22.752653",
     "exception": false,
     "start_time": "2024-12-23T13:35:20.553123",
     "status": "completed"
    },
    "tags": []
   },
   "outputs": [],
   "source": [
    "cond_writer = pd.ExcelWriter(f'{output_folder}{file_sep}{sheet_1}_{version_num}.xlsx', mode=mode,  engine=\"openpyxl\")"
   ]
  },
  {
   "cell_type": "code",
   "execution_count": 12,
   "id": "e736e005",
   "metadata": {
    "execution": {
     "iopub.execute_input": "2024-12-23T13:35:22.779328Z",
     "iopub.status.busy": "2024-12-23T13:35:22.779259Z",
     "iopub.status.idle": "2024-12-23T13:35:24.180066Z",
     "shell.execute_reply": "2024-12-23T13:35:24.180066Z"
    },
    "papermill": {
     "duration": 1.415792,
     "end_time": "2024-12-23T13:35:24.180066",
     "exception": false,
     "start_time": "2024-12-23T13:35:22.764274",
     "status": "completed"
    },
    "tags": []
   },
   "outputs": [],
   "source": [
    "norm_data = pd.read_sql((\"Select Research_Participant_ID, Visit_Info_ID, SeroNet_Cohort, Normalized_Visit_Index from Normalized_Visit_Info\"), conn)\n",
    "\n",
    "if Condition == 'Cancer':\n",
    "    cn_status = pd.read_sql((f\"Select Visit_Info_ID, `Original Cancer Name` as 'Original_Names (Unique)', 'Not Reported' as 'ICD10 CODE',  \" + \n",
    "                             \"`Harmonized Cancer Name` as 'Harmonized_Value'  from Normalized_Cancer_Names\"), conn)\n",
    "    cn_status[\"Comorbidity\"] = \"Cancer\"\n",
    " \n",
    "else:\n",
    "    cn_status = pd.read_sql((f\"Select * from Normalized_Comorbidity_Visits\"), conn)"
   ]
  },
  {
   "cell_type": "code",
   "execution_count": 13,
   "id": "7f686d61",
   "metadata": {
    "execution": {
     "iopub.execute_input": "2024-12-23T13:35:24.201328Z",
     "iopub.status.busy": "2024-12-23T13:35:24.200239Z",
     "iopub.status.idle": "2024-12-23T13:35:24.465145Z",
     "shell.execute_reply": "2024-12-23T13:35:24.465145Z"
    },
    "papermill": {
     "duration": 0.285079,
     "end_time": "2024-12-23T13:35:24.465145",
     "exception": false,
     "start_time": "2024-12-23T13:35:24.180066",
     "status": "completed"
    },
    "tags": []
   },
   "outputs": [],
   "source": [
    "part_data = pd.read_sql((\"SELECT Research_Participant_ID, Seronet_Participant_ID FROM Participant\"), conn)\n",
    "norm_data = norm_data.merge(part_data)                    "
   ]
  },
  {
   "cell_type": "code",
   "execution_count": 14,
   "id": "12696700",
   "metadata": {
    "execution": {
     "iopub.execute_input": "2024-12-23T13:35:24.489349Z",
     "iopub.status.busy": "2024-12-23T13:35:24.489349Z",
     "iopub.status.idle": "2024-12-23T13:35:24.509021Z",
     "shell.execute_reply": "2024-12-23T13:35:24.506765Z"
    },
    "papermill": {
     "duration": 0.042264,
     "end_time": "2024-12-23T13:35:24.512457",
     "exception": false,
     "start_time": "2024-12-23T13:35:24.470193",
     "status": "completed"
    },
    "tags": []
   },
   "outputs": [],
   "source": [
    "cn_status = cn_status.query(f\"Comorbidity == '{Condition}'\") "
   ]
  },
  {
   "cell_type": "code",
   "execution_count": 15,
   "id": "005041fb",
   "metadata": {
    "execution": {
     "iopub.execute_input": "2024-12-23T13:35:24.542008Z",
     "iopub.status.busy": "2024-12-23T13:35:24.540606Z",
     "iopub.status.idle": "2024-12-23T13:35:24.575221Z",
     "shell.execute_reply": "2024-12-23T13:35:24.575221Z"
    },
    "papermill": {
     "duration": 0.048614,
     "end_time": "2024-12-23T13:35:24.575221",
     "exception": false,
     "start_time": "2024-12-23T13:35:24.526607",
     "status": "completed"
    },
    "tags": []
   },
   "outputs": [],
   "source": [
    "diabetes_data = cn_status.merge(norm_data, how=\"outer\")"
   ]
  },
  {
   "cell_type": "code",
   "execution_count": 16,
   "id": "d3b3a95b",
   "metadata": {
    "execution": {
     "iopub.execute_input": "2024-12-23T13:35:24.595333Z",
     "iopub.status.busy": "2024-12-23T13:35:24.595333Z",
     "iopub.status.idle": "2024-12-23T13:35:24.612543Z",
     "shell.execute_reply": "2024-12-23T13:35:24.611029Z"
    },
    "papermill": {
     "duration": 0.041343,
     "end_time": "2024-12-23T13:35:24.616564",
     "exception": false,
     "start_time": "2024-12-23T13:35:24.575221",
     "status": "completed"
    },
    "tags": []
   },
   "outputs": [],
   "source": [
    "diabetes_data = diabetes_data.query(\"Normalized_Visit_Index == 1\")"
   ]
  },
  {
   "cell_type": "code",
   "execution_count": 17,
   "id": "1097729a",
   "metadata": {
    "execution": {
     "iopub.execute_input": "2024-12-23T13:35:24.639539Z",
     "iopub.status.busy": "2024-12-23T13:35:24.639539Z",
     "iopub.status.idle": "2024-12-23T13:35:41.791769Z",
     "shell.execute_reply": "2024-12-23T13:35:41.789756Z"
    },
    "papermill": {
     "duration": 17.168229,
     "end_time": "2024-12-23T13:35:41.795781",
     "exception": false,
     "start_time": "2024-12-23T13:35:24.627552",
     "status": "completed"
    },
    "tags": []
   },
   "outputs": [
    {
     "name": "stdout",
     "output_type": "stream",
     "text": [
      "         Visit_Info_ID Original_Names (Unique) ICD10 CODE Harmonized_Value  \\\n",
      "16942  14_P19313 : B01                     NaN        NaN              NaN   \n",
      "\n",
      "      Comorbidity Research_Participant_ID      SeroNet_Cohort  \\\n",
      "16942         NaN               14_P19313  Comorbidity Cohort   \n",
      "\n",
      "       Normalized_Visit_Index Seronet_Participant_ID  \n",
      "16942                       1               SN319494  \n"
     ]
    }
   ],
   "source": [
    "if Condition == 'Cancer':\n",
    "    uni_visit = list(set(diabetes_data[\"Visit_Info_ID\"]))\n",
    "    for curr_visit in uni_visit:\n",
    "        try:\n",
    "            test = diabetes_data.query(f\"Visit_Info_ID == '{curr_visit}'\")\n",
    "            new_val = \" | \".join(test[\"Harmonized_Value\"])\n",
    "            diabetes_data.loc[test.index, \"Harmonized_Value\"] = new_val\n",
    "        except Exception as e:\n",
    "            print(test)\n",
    "    diabetes_data.drop_duplicates(inplace=True)"
   ]
  },
  {
   "cell_type": "code",
   "execution_count": 18,
   "id": "7f70def2",
   "metadata": {
    "execution": {
     "iopub.execute_input": "2024-12-23T13:35:41.821861Z",
     "iopub.status.busy": "2024-12-23T13:35:41.821861Z",
     "iopub.status.idle": "2024-12-23T13:35:42.610795Z",
     "shell.execute_reply": "2024-12-23T13:35:42.610795Z"
    },
    "papermill": {
     "duration": 0.804072,
     "end_time": "2024-12-23T13:35:42.612843",
     "exception": false,
     "start_time": "2024-12-23T13:35:41.808771",
     "status": "completed"
    },
    "tags": []
   },
   "outputs": [],
   "source": [
    "demo_file = output_folder + file_sep + \"Demographics_\" + version_num + \".xlsx\"\n",
    "demo_data = pd.read_excel(demo_file, sheet_name=\"Detailed_Report\")"
   ]
  },
  {
   "cell_type": "code",
   "execution_count": 19,
   "id": "470f7167",
   "metadata": {
    "execution": {
     "iopub.execute_input": "2024-12-23T13:35:42.632752Z",
     "iopub.status.busy": "2024-12-23T13:35:42.631704Z",
     "iopub.status.idle": "2024-12-23T13:35:43.603929Z",
     "shell.execute_reply": "2024-12-23T13:35:43.603929Z"
    },
    "papermill": {
     "duration": 0.986989,
     "end_time": "2024-12-23T13:35:43.605939",
     "exception": false,
     "start_time": "2024-12-23T13:35:42.618950",
     "status": "completed"
    },
    "tags": []
   },
   "outputs": [],
   "source": [
    "curr_visit_file = output_folder + file_sep + \"Participant_Visit_Info_\" + version_num + \".xlsx\"\n",
    "curr_visit_data = pd.read_excel(curr_visit_file, sheet_name=\"Detailed_Report\")"
   ]
  },
  {
   "cell_type": "code",
   "execution_count": 20,
   "id": "71762ef8",
   "metadata": {
    "execution": {
     "iopub.execute_input": "2024-12-23T13:35:43.619979Z",
     "iopub.status.busy": "2024-12-23T13:35:43.619979Z",
     "iopub.status.idle": "2024-12-23T13:35:43.652801Z",
     "shell.execute_reply": "2024-12-23T13:35:43.651750Z"
    },
    "papermill": {
     "duration": 0.043377,
     "end_time": "2024-12-23T13:35:43.656316",
     "exception": false,
     "start_time": "2024-12-23T13:35:43.612939",
     "status": "completed"
    },
    "tags": []
   },
   "outputs": [],
   "source": [
    "diabetes_data = diabetes_data.merge(demo_data[\"Seronet_Participant_ID\"])\n",
    "diabetes_data = diabetes_data.merge(curr_visit_data[[\"Seronet_Participant_ID\", 'Normalized_Visit_Index']], how=\"right\")"
   ]
  },
  {
   "cell_type": "code",
   "execution_count": 21,
   "id": "6e84c91e",
   "metadata": {
    "execution": {
     "iopub.execute_input": "2024-12-23T13:35:43.680862Z",
     "iopub.status.busy": "2024-12-23T13:35:43.679890Z",
     "iopub.status.idle": "2024-12-23T13:35:43.692261Z",
     "shell.execute_reply": "2024-12-23T13:35:43.691243Z"
    },
    "papermill": {
     "duration": 0.028485,
     "end_time": "2024-12-23T13:35:43.696357",
     "exception": false,
     "start_time": "2024-12-23T13:35:43.667872",
     "status": "completed"
    },
    "tags": []
   },
   "outputs": [],
   "source": [
    "col_list = ['Seronet_Participant_ID', 'SeroNet_Cohort', 'Normalized_Visit_Index', 'Comorbidity', \n",
    "            'Original_Names (Unique)', 'ICD10 CODE', 'Harmonized_Value']\n",
    "diabetes_data  = diabetes_data[col_list]"
   ]
  },
  {
   "cell_type": "code",
   "execution_count": 22,
   "id": "4e661681",
   "metadata": {
    "execution": {
     "iopub.execute_input": "2024-12-23T13:35:43.718387Z",
     "iopub.status.busy": "2024-12-23T13:35:43.718387Z",
     "iopub.status.idle": "2024-12-23T13:35:43.730350Z",
     "shell.execute_reply": "2024-12-23T13:35:43.728839Z"
    },
    "papermill": {
     "duration": 0.024024,
     "end_time": "2024-12-23T13:35:43.732378",
     "exception": false,
     "start_time": "2024-12-23T13:35:43.708354",
     "status": "completed"
    },
    "tags": []
   },
   "outputs": [],
   "source": [
    "diabetes_data  = diabetes_data.query(\"Normalized_Visit_Index == 1\")"
   ]
  },
  {
   "cell_type": "code",
   "execution_count": 23,
   "id": "e02e91e6",
   "metadata": {
    "execution": {
     "iopub.execute_input": "2024-12-23T13:35:43.755424Z",
     "iopub.status.busy": "2024-12-23T13:35:43.755424Z",
     "iopub.status.idle": "2024-12-23T13:35:43.760672Z",
     "shell.execute_reply": "2024-12-23T13:35:43.759610Z"
    },
    "papermill": {
     "duration": 0.018254,
     "end_time": "2024-12-23T13:35:43.762651",
     "exception": false,
     "start_time": "2024-12-23T13:35:43.744397",
     "status": "completed"
    },
    "tags": []
   },
   "outputs": [],
   "source": [
    "#diabetes_data.to_csv(\"diabetes_data.csv\")"
   ]
  },
  {
   "cell_type": "code",
   "execution_count": 24,
   "id": "ee81097e",
   "metadata": {
    "execution": {
     "iopub.execute_input": "2024-12-23T13:35:43.788666Z",
     "iopub.status.busy": "2024-12-23T13:35:43.787745Z",
     "iopub.status.idle": "2024-12-23T13:35:43.793865Z",
     "shell.execute_reply": "2024-12-23T13:35:43.792856Z"
    },
    "papermill": {
     "duration": 0.022208,
     "end_time": "2024-12-23T13:35:43.796873",
     "exception": false,
     "start_time": "2024-12-23T13:35:43.774665",
     "status": "completed"
    },
    "tags": []
   },
   "outputs": [],
   "source": [
    "#diabetes_data = diabetes_data.query(\"Normalized_Visit_Index == 1\")\n",
    "#diabetes_data.drop([\"Comorbid_Name\", \"Orgional_Description_Or_ICD10_codes\"], axis=1, inplace=True)\n",
    "#diabetes_data.drop_duplicates([\"Research_Participant_ID\", \"Visit_Info_ID\", \"Harmonized_Value\"], inplace=True)"
   ]
  },
  {
   "cell_type": "code",
   "execution_count": 25,
   "id": "c50452cb",
   "metadata": {
    "execution": {
     "iopub.execute_input": "2024-12-23T13:35:43.823002Z",
     "iopub.status.busy": "2024-12-23T13:35:43.821921Z",
     "iopub.status.idle": "2024-12-23T13:35:43.829751Z",
     "shell.execute_reply": "2024-12-23T13:35:43.828739Z"
    },
    "papermill": {
     "duration": 0.02417,
     "end_time": "2024-12-23T13:35:43.833039",
     "exception": false,
     "start_time": "2024-12-23T13:35:43.808869",
     "status": "completed"
    },
    "tags": []
   },
   "outputs": [],
   "source": [
    "if Condition == \"Immunosuppressive_Condition\":\n",
    "    Condition = \"Immunosuppressive\"\n",
    "    \n",
    "if Condition == \"Chronic_Neurological_Condition\":\n",
    "    Condition = \"Chronic_Neurological\"\n",
    "    \n",
    "if Condition == \"Chronic_Oxygen_Requirement\":\n",
    "    Condition = \"Chronic_Oxygen\"\n",
    "    "
   ]
  },
  {
   "cell_type": "code",
   "execution_count": 26,
   "id": "9ecc6d7c",
   "metadata": {
    "execution": {
     "iopub.execute_input": "2024-12-23T13:35:43.857943Z",
     "iopub.status.busy": "2024-12-23T13:35:43.857943Z",
     "iopub.status.idle": "2024-12-23T13:35:44.192374Z",
     "shell.execute_reply": "2024-12-23T13:35:44.191363Z"
    },
    "papermill": {
     "duration": 0.348374,
     "end_time": "2024-12-23T13:35:44.194418",
     "exception": false,
     "start_time": "2024-12-23T13:35:43.846044",
     "status": "completed"
    },
    "tags": []
   },
   "outputs": [],
   "source": [
    "diabetes_data.to_excel(cond_writer, Condition +'_Summary', index = False)"
   ]
  },
  {
   "cell_type": "code",
   "execution_count": 27,
   "id": "007a2f13",
   "metadata": {
    "execution": {
     "iopub.execute_input": "2024-12-23T13:35:44.212375Z",
     "iopub.status.busy": "2024-12-23T13:35:44.211377Z",
     "iopub.status.idle": "2024-12-23T13:35:47.075931Z",
     "shell.execute_reply": "2024-12-23T13:35:47.074801Z"
    },
    "papermill": {
     "duration": 2.876543,
     "end_time": "2024-12-23T13:35:47.077917",
     "exception": false,
     "start_time": "2024-12-23T13:35:44.201374",
     "status": "completed"
    },
    "tags": []
   },
   "outputs": [],
   "source": [
    "cond_writer.close()"
   ]
  },
  {
   "cell_type": "code",
   "execution_count": null,
   "id": "7312f630",
   "metadata": {
    "papermill": {
     "duration": 0.012942,
     "end_time": "2024-12-23T13:35:47.097864",
     "exception": false,
     "start_time": "2024-12-23T13:35:47.084922",
     "status": "completed"
    },
    "tags": []
   },
   "outputs": [],
   "source": []
  }
 ],
 "metadata": {
  "celltoolbar": "Tags",
  "kernelspec": {
   "display_name": "Python 3 (ipykernel)",
   "language": "python",
   "name": "python3"
  },
  "language_info": {
   "codemirror_mode": {
    "name": "ipython",
    "version": 3
   },
   "file_extension": ".py",
   "mimetype": "text/x-python",
   "name": "python",
   "nbconvert_exporter": "python",
   "pygments_lexer": "ipython3",
   "version": "3.11.5"
  },
  "papermill": {
   "default_parameters": {},
   "duration": 32.690833,
   "end_time": "2024-12-23T13:35:47.794313",
   "environment_variables": {},
   "exception": null,
   "input_path": "Comorbid_baseline.ipynb",
   "output_path": "Output_file.ipynb",
   "parameters": {
    "Condition": "Cancer",
    "DB": "seronetdb-Vaccine_Response_v2",
    "HOST": "seronet-dev-instance.cwe7vdnqsvxr.us-east-1.rds.amazonaws.com",
    "PWD": "1ebe65925b6bc578f93a43ccdb2ff972",
    "USER": "seronet-datauser4",
    "sheet_1": "All_Participant_Comorbidities"
   },
   "start_time": "2024-12-23T13:35:15.103480",
   "version": "2.6.0"
  }
 },
 "nbformat": 4,
 "nbformat_minor": 5
}