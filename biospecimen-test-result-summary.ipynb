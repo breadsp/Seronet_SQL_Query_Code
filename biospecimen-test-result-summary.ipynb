{
 "cells": [
  {
   "cell_type": "markdown",
   "metadata": {},
   "source": [
    "#### Objective\n",
    "Gather data and create summary table for Biospecimen_Test_Result.xlsx"
   ]
  },
  {
   "cell_type": "markdown",
   "metadata": {},
   "source": [
    "#### Pre-requisites\n",
    "The following packages need to be installed in your notebook environment:\n",
    "1. <a href = https://dev.mysql.com/doc/connector-python/en/>mysql.connector</a>\n",
    "2. <a href = https://pandas.pydata.org/>pandas</a>\n",
    "3. <a href = https://numpy.org/>numpy</a>\n",
    "4. <a href = https://pypi.org/project/tableone/>tableone</a>\n",
    "5. <a href = https://pypi.org/project/openpyxl/>openpyxl</a>\n",
    "\n",
    "Be sure to install these packages in one of the directories in the system path(`print sys.path`) for the notebook environment.\n",
    "\n",
    "You will need access (username and password) to seronet vaccine response database, `seronetdb-Vaccine_Response`, accessible at the AWS endpoint: `seronet-dev-instance.cwe7vdnqsvxr.us-east-1.rds.amazonaws.com`. <br>\n",
    "**Note:** Store all mysql connector parameters in a `.env` file as shown below. <i>The `.env` needs to be in the same directory as the notebooks</i>.\n",
    "\n",
    "Ensure that the Excel workbook <i>Release_Data_Dictionary.xlsx</i> is in the same folder as this notebook. This workbook is also on versioned on GitHub."
   ]
  },
  {
   "cell_type": "markdown",
   "metadata": {},
   "source": [
    "#### Post-processing files\n",
    "<u>Summary sheet:</u>\n",
    "1. Remove all borders from Table 1.\n",
    "2. Shade table rows in grey/white.\n",
    "3. Right justify second column.\n",
    "4. Center all columns reporting values.\n",
    "5. Autoformat column widths.\n",
    "6. Highlight all notes in bold.\n",
    "\n",
    "<u>Detailed report sheets:</u>\n",
    "1. All columns left justified.\n",
    "2. Autoformat column widths.\n",
    "3. Fill all empty cells with \"Not Reported\"."
   ]
  },
  {
   "cell_type": "code",
   "execution_count": 1,
   "metadata": {},
   "outputs": [],
   "source": [
    "import mysql.connector as connection\n",
    "import pandas as pd\n",
    "import numpy as np\n",
    "import os\n",
    "from tableone import TableOne\n",
    "from openpyxl import load_workbook, Workbook\n",
    "from openpyxl.styles import Font\n",
    "import sqlalchemy as sd\n",
    "import datetime"
   ]
  },
  {
   "cell_type": "code",
   "execution_count": 2,
   "metadata": {},
   "outputs": [],
   "source": [
    "last_edit = '11/20/2024'"
   ]
  },
  {
   "cell_type": "code",
   "execution_count": 3,
   "metadata": {},
   "outputs": [],
   "source": [
    "v4_visits = r\"C:\\Users\\breadsp2\\Documents\\Release_4.0.0\\Participant_Visit_Info_4.0.0.xlsx\"\n",
    "v4_visits = pd.read_excel(v4_visits, sheet_name=\"Detailed_Report\")\n",
    "V4_fitler = False"
   ]
  },
  {
   "cell_type": "code",
   "execution_count": 4,
   "metadata": {},
   "outputs": [],
   "source": [
    "pd.options.mode.chained_assignment = None  # default='warn'"
   ]
  },
  {
   "cell_type": "code",
   "execution_count": 5,
   "metadata": {},
   "outputs": [],
   "source": [
    "'''\n",
    "Create a .env file to store hostname, database, username, and password as environment variables.  \n",
    "The .env file is stored in the same folder as the notebook.\n",
    "==============\n",
    "Format:\n",
    "HOST=a.b.c.d\n",
    "DB=<my.database>\n",
    "USER=john\n",
    "PWD=abc#123\n",
    "==============\n",
    "Note: no space around the \"=\" sign. Do not put any of the values in quotes.\n",
    "'''\n",
    "\n",
    "env = {}\n",
    "with open(\"test.env\") as f:\n",
    "    for line in f:\n",
    "        (k, v) = line.split(\"=\")\n",
    "        k = k.strip()\n",
    "        env[k] = v.strip()\n",
    "        \n",
    "HOST = env[\"HOST\"]\n",
    "DB = env[\"DB\"]\n",
    "USER = env[\"USER\"]\n",
    "PWD = env[\"PWD\"]"
   ]
  },
  {
   "cell_type": "code",
   "execution_count": 6,
   "metadata": {},
   "outputs": [],
   "source": [
    "if V4_fitler == True:\n",
    "    version_num = \"4.2.0\"\n",
    "    output_folder = r\"C:\\Users\\breadsp2\\Desktop\\Release_4.2.0\"\n",
    "else: \n",
    "    version_num = \"5.2.0\"\n",
    "    output_folder = r\"C:\\Users\\breadsp2\\Desktop\\Release_5.2.0\"\n",
    "file_sep = os.path.sep\n",
    "sheet_name = \"Biospecimen_Test_Results\"\n",
    "release_date = '2024-01-01'"
   ]
  },
  {
   "cell_type": "code",
   "execution_count": 7,
   "metadata": {},
   "outputs": [],
   "source": [
    "creds = {'usr': USER, 'pwd': PWD, 'hst': HOST, \"prt\": 3306, 'dbn': DB}\n",
    "connstr = \"mysql+mysqlconnector://{usr}:{pwd}@{hst}:{prt}/{dbn}\"\n",
    "engine = sd.create_engine(connstr.format(**creds))\n",
    "conn = engine.connect()"
   ]
  },
  {
   "cell_type": "code",
   "execution_count": 8,
   "metadata": {},
   "outputs": [],
   "source": [
    "curr_visit_file = output_folder + file_sep + \"Participant_Visit_Info_\" + version_num + \".xlsx\"\n",
    "curr_visit_data = pd.read_excel(curr_visit_file, sheet_name=\"Detailed_Report\")"
   ]
  },
  {
   "cell_type": "code",
   "execution_count": 9,
   "metadata": {},
   "outputs": [],
   "source": [
    "#curr_visit_data = curr_visit_data.query(\"`Visit Purpose` in ['Baseline Visit : Blood Draw','Follow_up Visit: Blood Draw', \" + \n",
    "#                                        \"' Pre_Baseline: Blood Draw']\")"
   ]
  },
  {
   "cell_type": "code",
   "execution_count": 10,
   "metadata": {},
   "outputs": [],
   "source": [
    "demo_file = output_folder + file_sep + \"Demographics_\" + version_num + \".xlsx\"\n",
    "demo_data = pd.read_excel(demo_file, sheet_name=\"Detailed_Report\")"
   ]
  },
  {
   "cell_type": "code",
   "execution_count": 11,
   "metadata": {},
   "outputs": [],
   "source": [
    "All_Visits = pd.read_sql((\"SELECT p.Seronet_Participant_ID,  nv.Research_Participant_ID, nv.SeroNet_Cohort, nv.Normalized_Visit_Index, \" +\n",
    "                          \"nv.`SARS-CoV-2_Vaccine_Type`, nv.Vaccination_Status, nv.Duration_Between_Vaccine_and_Visit, nv.Date_Of_Event, \" +\n",
    "                          \"nv.Visit_Info_ID  From Normalized_Visit_Info as nv \" + \n",
    "                          \"join Participant as p on nv.Research_Participant_ID = p.Research_Participant_ID\"), conn)"
   ]
  },
  {
   "cell_type": "code",
   "execution_count": 12,
   "metadata": {},
   "outputs": [],
   "source": [
    "All_Visits = All_Visits.merge(demo_data[\"Seronet_Participant_ID\"])\n",
    "All_Visits = All_Visits.merge(curr_visit_data[[\"Seronet_Participant_ID\", 'Normalized_Visit_Index']], how=\"right\")"
   ]
  },
  {
   "cell_type": "code",
   "execution_count": 13,
   "metadata": {},
   "outputs": [],
   "source": [
    "All_Visits.to_csv(\"All_Visits.csv\")"
   ]
  },
  {
   "cell_type": "code",
   "execution_count": 14,
   "metadata": {},
   "outputs": [
    {
     "name": "stdout",
     "output_type": "stream",
     "text": [
      "15518\n"
     ]
    }
   ],
   "source": [
    "print(len(All_Visits))"
   ]
  },
  {
   "cell_type": "code",
   "execution_count": 15,
   "metadata": {},
   "outputs": [],
   "source": [
    "bio_test = pd.read_sql((\"select * FROM Biospecimen_Test_Results as bt \"),conn)"
   ]
  },
  {
   "cell_type": "code",
   "execution_count": 16,
   "metadata": {},
   "outputs": [],
   "source": [
    "bio_test[\"Research_Participant_ID\"] = [i[:9] for i in bio_test[\"Visit_Info_ID\"]]\n",
    "bio_test[\"Harmonized_Interpretation\"] = bio_test[\"Interpretation\"]\n",
    "bio_test[\"Harmonized_Interpretation\"].replace(dict.fromkeys(['Strong Positive', 'Moderate Positive','Weak Positive','Reactive'], \"Positive\"), inplace=True)\n",
    "bio_test[\"Harmonized_Interpretation\"].replace(dict.fromkeys(['negative'], \"Negative\"), inplace=True)"
   ]
  },
  {
   "cell_type": "code",
   "execution_count": 17,
   "metadata": {},
   "outputs": [],
   "source": [
    "old_col_names = bio_test.columns\n",
    "old_col_names = old_col_names.to_list()\n",
    "old_col_names.remove(\"Research_Participant_ID\")"
   ]
  },
  {
   "cell_type": "code",
   "execution_count": 18,
   "metadata": {},
   "outputs": [],
   "source": [
    "bio_test = bio_test.merge(All_Visits[[\"Seronet_Participant_ID\",\"Research_Participant_ID\", \"SeroNet_Cohort\",\n",
    "                                      \"Normalized_Visit_Index\", \"Visit_Info_ID\"]], how=\"outer\", indicator=\"Has_Serology\")\n",
    "bio_test.drop_duplicates(inplace=True)"
   ]
  },
  {
   "cell_type": "code",
   "execution_count": 19,
   "metadata": {},
   "outputs": [],
   "source": [
    "samp_data = pd.read_sql((\"Select * from Biospecimen\"), conn)\n",
    "bio_test = bio_test.merge(samp_data[\"Visit_Info_ID\"], how=\"outer\", indicator=\"Has Specimen\")\n",
    "bio_test.drop_duplicates(inplace=True)"
   ]
  },
  {
   "cell_type": "code",
   "execution_count": 20,
   "metadata": {},
   "outputs": [],
   "source": [
    "bio_test = bio_test.merge(All_Visits[[\"Seronet_Participant_ID\", 'Normalized_Visit_Index']])"
   ]
  },
  {
   "cell_type": "code",
   "execution_count": 21,
   "metadata": {},
   "outputs": [
    {
     "data": {
      "text/html": [
       "<div>\n",
       "<style scoped>\n",
       "    .dataframe tbody tr th:only-of-type {\n",
       "        vertical-align: middle;\n",
       "    }\n",
       "\n",
       "    .dataframe tbody tr th {\n",
       "        vertical-align: top;\n",
       "    }\n",
       "\n",
       "    .dataframe thead th {\n",
       "        text-align: right;\n",
       "    }\n",
       "</style>\n",
       "<table border=\"1\" class=\"dataframe\">\n",
       "  <thead>\n",
       "    <tr style=\"text-align: right;\">\n",
       "      <th>Has Specimen</th>\n",
       "      <th>left_only</th>\n",
       "      <th>both</th>\n",
       "    </tr>\n",
       "    <tr>\n",
       "      <th>Has_Serology</th>\n",
       "      <th></th>\n",
       "      <th></th>\n",
       "    </tr>\n",
       "  </thead>\n",
       "  <tbody>\n",
       "    <tr>\n",
       "      <th>right_only</th>\n",
       "      <td>1065</td>\n",
       "      <td>1737</td>\n",
       "    </tr>\n",
       "    <tr>\n",
       "      <th>both</th>\n",
       "      <td>552</td>\n",
       "      <td>12164</td>\n",
       "    </tr>\n",
       "  </tbody>\n",
       "</table>\n",
       "</div>"
      ],
      "text/plain": [
       "Has Specimen  left_only   both\n",
       "Has_Serology                  \n",
       "right_only         1065   1737\n",
       "both                552  12164"
      ]
     },
     "execution_count": 21,
     "metadata": {},
     "output_type": "execute_result"
    }
   ],
   "source": [
    "samp_data = bio_test[[\"Visit_Info_ID\",\"Has_Serology\",\"Has Specimen\"]]\n",
    "samp_data.drop_duplicates(inplace=True)            \n",
    "pd.crosstab(samp_data[\"Has_Serology\"], samp_data[\"Has Specimen\"])"
   ]
  },
  {
   "cell_type": "code",
   "execution_count": 22,
   "metadata": {},
   "outputs": [],
   "source": [
    "bio_test[\"Serology Status\"] = \"Missing\"\n",
    "\n",
    "x = bio_test.query(\"`Has_Serology` == 'both' and `Has Specimen` == 'both'\")\n",
    "bio_test.loc[x.index, \"Serology Status\"] = \"Sample Data Submitted and Has Serology Data\"\n",
    "\n",
    "x = bio_test.query(\"`Has_Serology` == 'right_only' and `Has Specimen` == 'both'\")\n",
    "bio_test.loc[x.index, \"Serology Status\"] = \"Sample Data Submitted, but no Serology Data\"\n",
    "\n",
    "x = bio_test.query(\"`Has_Serology` == 'both' and `Has Specimen` == 'left_only'\")\n",
    "bio_test.loc[x.index, \"Serology Status\"] = \"No Sample Data, but Has Serology Data\"\n",
    "\n",
    "x = bio_test.query(\"`Has_Serology` == 'right_only' and `Has Specimen` == 'left_only'\")\n",
    "bio_test.loc[x.index, \"Serology Status\"] = \"No Sample Data, and No Serology Data\""
   ]
  },
  {
   "cell_type": "code",
   "execution_count": 23,
   "metadata": {},
   "outputs": [],
   "source": [
    "bio_test[\"Assay_Target_Organism\"].replace(\"SARS-CoV-2\", 'SARS-CoV-2 Virus', inplace=True)\n",
    "bio_test[\"Assay_Target\"].replace('Spike antigen', \"Spike\", inplace=True)\n",
    "bio_test[\"Assay_Target\"].replace('spike protein', \"Spike\", inplace=True)\n",
    "bio_test[\"Assay_Target\"].replace('Full Length Spike', \"Spike\", inplace=True)\n",
    "bio_test[\"Assay_Target\"].replace('Nucleocapsid (N) antigen', \"Nucleocapsid\", inplace=True)\n",
    "bio_test[\"Assay_Target_Sub_Region\"].replace(\"spike protein receptor-binding domain\", \"RBD\", inplace=True)\n",
    "bio_test[\"Assay_Target_Sub_Region\"].replace(\"Nucleocapsid (N) antigen\", \"N/A\", inplace=True)"
   ]
  },
  {
   "cell_type": "code",
   "execution_count": 24,
   "metadata": {},
   "outputs": [],
   "source": [
    "#col_names = [\"Research_Participant_ID\", \"SeroNet_Cohort\", \"Normalized_Visit_Index\"] + old_col_names\n",
    "#bio_test = bio_test[col_names]"
   ]
  },
  {
   "cell_type": "code",
   "execution_count": 25,
   "metadata": {},
   "outputs": [],
   "source": [
    "\n",
    "\n",
    "\n",
    "#negative\t54\n",
    "#same day\t7076\n",
    "#same week\t9783\n",
    "#same month\t1235\n",
    "#over a month\t5\n"
   ]
  },
  {
   "cell_type": "code",
   "execution_count": 26,
   "metadata": {},
   "outputs": [],
   "source": [
    "col_list = ['Seronet_Participant_ID', 'SeroNet_Cohort', 'Normalized_Visit_Index', 'Visit_Info_ID', \"Assay_ID\", \"Serology Status\",\n",
    "            \"Assay_Target\", \"Measurand_Antibody\", \"Harmonized_Interpretation\", \"Biospecimen_Collection_to_Test_Duration\"]\n",
    "visit_data = bio_test[col_list]"
   ]
  },
  {
   "cell_type": "code",
   "execution_count": 27,
   "metadata": {},
   "outputs": [],
   "source": [
    "visit_data[\"Total Assays Run\"] = 0\n",
    "x = visit_data.query(\"Harmonized_Interpretation == 'Positive'\")\n",
    "visit_data.loc[x.index, \"Total Assays Run\"] = 1 "
   ]
  },
  {
   "cell_type": "code",
   "execution_count": 28,
   "metadata": {},
   "outputs": [],
   "source": [
    "x = visit_data.groupby(\"Visit_Info_ID\").agg({\"Total Assays Run\": 'count', \"Serology Status\": 'max'})\n",
    "x.reset_index(inplace=True)\n",
    "#x = x[[\"Visit_Info_ID\", \"Total Assays Run\", \"Serology Status\"]]"
   ]
  },
  {
   "cell_type": "code",
   "execution_count": 29,
   "metadata": {},
   "outputs": [],
   "source": [
    "visit_data = visit_data.query(\"Assay_ID == Assay_ID\")"
   ]
  },
  {
   "cell_type": "code",
   "execution_count": 30,
   "metadata": {},
   "outputs": [],
   "source": [
    "assay_table = pd.crosstab(visit_data[\"Visit_Info_ID\"],visit_data[\"Assay_Target\"] + [': ']*len(visit_data) + visit_data[\"Measurand_Antibody\"],\n",
    "                          values = visit_data[\"Total Assays Run\"], aggfunc = sum)\n",
    "assay_table.reset_index(inplace=True)\n",
    "\n",
    "#assay_table_2 = pd.crosstab(visit_data[\"Visit_Info_ID\"],visit_data[\"Assay_ID\"],\n",
    "#                          values = visit_data[\"Biospecimen_Collection_to_Test_Duration\"], aggfunc = min)\n",
    "#assay_table_2.reset_index(inplace=True)"
   ]
  },
  {
   "cell_type": "code",
   "execution_count": 31,
   "metadata": {},
   "outputs": [],
   "source": [
    "assay_table.fillna(-1, inplace=True )"
   ]
  },
  {
   "cell_type": "code",
   "execution_count": 32,
   "metadata": {},
   "outputs": [],
   "source": [
    "assay_table.replace(-1, \"Test Not Run\", inplace=True)\n",
    "assay_table.replace(0, \"Negative Result\", inplace=True)\n",
    "assay_table.replace(1, \"Positive Result\", inplace=True)\n",
    "assay_table.replace(2, \"Positive Result\", inplace=True)\n",
    "assay_table.replace(3, \"Positive Result\", inplace=True)\n",
    "assay_table.replace(4, \"Positive Result\", inplace=True)"
   ]
  },
  {
   "cell_type": "code",
   "execution_count": 33,
   "metadata": {},
   "outputs": [],
   "source": [
    "#assay_table = assay_table.merge(assay_table_2, how=\"right\")\n",
    "#assay_table = assay_table.merge(All_Visits[[\"Visit_Info_ID\", \"SeroNet_Cohort\"]], how=\"right\")\n",
    "assay_table = assay_table.merge(All_Visits, how=\"right\")\n",
    "\n",
    "\n",
    "assay_table.drop_duplicates(inplace=True)"
   ]
  },
  {
   "cell_type": "code",
   "execution_count": null,
   "metadata": {},
   "outputs": [],
   "source": []
  },
  {
   "cell_type": "code",
   "execution_count": 34,
   "metadata": {},
   "outputs": [],
   "source": [
    "assay_table = assay_table.merge(x, how=\"left\")"
   ]
  },
  {
   "cell_type": "code",
   "execution_count": 35,
   "metadata": {},
   "outputs": [],
   "source": [
    "new_cols = ['Seronet_Participant_ID', 'SeroNet_Cohort', 'Normalized_Visit_Index', \"Serology Status\",\n",
    "            'Spike: IgM', 'Spike: IgG', 'Spike: Total antibodies',   'Nucleocapsid: Total antibodies', 'Total Assays Run']\n",
    "assay_table = assay_table[new_cols]"
   ]
  },
  {
   "cell_type": "code",
   "execution_count": 36,
   "metadata": {},
   "outputs": [],
   "source": [
    "assay_table[\"Total Assays Run\"].fillna(0, inplace=True)\n",
    "assay_table = assay_table.query(\"`Total Assays Run` > 0\")"
   ]
  },
  {
   "cell_type": "code",
   "execution_count": 37,
   "metadata": {},
   "outputs": [],
   "source": [
    "bio_test_writer = pd.ExcelWriter(f'{output_folder}{file_sep}{sheet_name}_{version_num}.xlsx')"
   ]
  },
  {
   "cell_type": "code",
   "execution_count": 38,
   "metadata": {},
   "outputs": [],
   "source": [
    "#if V4_fitler == False:\n",
    "#    columns = [\"Total Assays Run\", \"Spike: IgM\", \"Spike: IgG\", \"Spike: Total antibodies\", \"Nucleocapsid: IgG\", \"Nucleocapsid: Total antibodies\"]\n",
    "#    categorical =  [\"Total Assays Run\", \"Spike: IgM\", \"Spike: IgG\", \"Spike: Total antibodies\", \"Nucleocapsid: IgG\", \"Nucleocapsid: Total antibodies\"]\n",
    "\n",
    "#elif V4_fitler == True:\n",
    "columns = [\"Serology Status\", \"Total Assays Run\", \"Spike: IgM\", \"Spike: IgG\", \"Spike: Total antibodies\", \"Nucleocapsid: Total antibodies\"]\n",
    "categorical =  [\"Serology Status\", \"Total Assays Run\", \"Spike: IgM\", \"Spike: IgG\", \"Spike: Total antibodies\", \"Nucleocapsid: Total antibodies\"]\n",
    "\n",
    "groupby = 'SeroNet_Cohort'"
   ]
  },
  {
   "cell_type": "code",
   "execution_count": 39,
   "metadata": {},
   "outputs": [],
   "source": [
    "order_dict = {}\n",
    "order_dict[\"SeroNet_Cohort\"] = [\"Healthy Cohort\", \"Comorbidity Cohort\",  \"Cancer\",   \"IBD\",  \"HIV\", \"Transplant\"]"
   ]
  },
  {
   "cell_type": "code",
   "execution_count": 40,
   "metadata": {},
   "outputs": [],
   "source": [
    "bio_data_table1 = TableOne(assay_table, columns, categorical, groupby,  order=order_dict, pval=False)"
   ]
  },
  {
   "cell_type": "code",
   "execution_count": 41,
   "metadata": {},
   "outputs": [],
   "source": [
    "'''\n",
    "This section of code is not working. Have to solve.\n",
    "'''\n",
    "bio_test['Derived_Result'].replace(to_replace = r\"NaN\", value = \"Not Reported\", inplace = True)\n",
    "bio_test['Derived_Result_Units'].replace(to_replace = r\"\", value = \"Not Reported\", inplace = True)\n",
    "bio_test['Raw_Result'].replace(to_replace = r\"\", value = \"Not Reported\", inplace = True)\n",
    "bio_test['Raw_Result_Units'].replace(to_replace = r\"\", value = \"Not Reported\", inplace = True)\n",
    "bio_test['Positive_Control_Reading'].replace(to_replace = r\"\", value = \"Not Reported\", inplace = True)\n",
    "bio_test['Negative_Control_Reading'].replace(to_replace = r\"\", value = \"Not Reported\", inplace = True)"
   ]
  },
  {
   "cell_type": "code",
   "execution_count": 42,
   "metadata": {},
   "outputs": [],
   "source": [
    "bio_test.sort_values([\"Seronet_Participant_ID\", \"Normalized_Visit_Index\"], inplace=True)"
   ]
  },
  {
   "cell_type": "code",
   "execution_count": 43,
   "metadata": {},
   "outputs": [],
   "source": [
    "bio_test[\"Collection_To_Test_Interval\"] = \"Unknown\"\n",
    "\n",
    "x = bio_test.query(\"Biospecimen_Collection_to_Test_Duration < 0\")\n",
    "bio_test.loc[x.index, \"Collection_To_Test_Interval\"] = \"Negative Test Duration\"\n",
    "\n",
    "x = bio_test.query(\"Biospecimen_Collection_to_Test_Duration >= 0 and Biospecimen_Collection_to_Test_Duration <= 24\")\n",
    "bio_test.loc[x.index, \"Collection_To_Test_Interval\"] = \"Tested Same Day (0 to 24 hours)\"\n",
    "\n",
    "x = bio_test.query(\"Biospecimen_Collection_to_Test_Duration > 24 and Biospecimen_Collection_to_Test_Duration <= 48\")\n",
    "bio_test.loc[x.index, \"Collection_To_Test_Interval\"] = \"Tested Next  Day (24 to 48 hours)\"\n",
    "\n",
    "x = bio_test.query(\"Biospecimen_Collection_to_Test_Duration > 48 and Biospecimen_Collection_to_Test_Duration <= 168\")\n",
    "bio_test.loc[x.index, \"Collection_To_Test_Interval\"] = \"Tested with in a week (3 to 7 days)\"\n",
    "\n",
    "x = bio_test.query(\"Biospecimen_Collection_to_Test_Duration > 168\")\n",
    "bio_test.loc[x.index, \"Collection_To_Test_Interval\"] = \"Tested after week (over 7 days)\""
   ]
  },
  {
   "cell_type": "code",
   "execution_count": 44,
   "metadata": {},
   "outputs": [],
   "source": [
    "assay_convert = pd.read_sql((\"SELECT * FROM `seronetdb-Vaccine_Response_v2`.Assay_ID_Convernt;\"), conn)\n",
    "bio_test = bio_test.merge(assay_convert)"
   ]
  },
  {
   "cell_type": "code",
   "execution_count": 45,
   "metadata": {},
   "outputs": [
    {
     "data": {
      "text/plain": [
       "Index(['Visit_Info_ID', 'Assay_ID', 'Instrument_ID', 'Test_Operator_Initials',\n",
       "       'Assay_Kit_Lot_Number', 'Test_Batch_ID',\n",
       "       'Biospecimen_Collection_to_Test_Duration', 'Assay_Target_Organism',\n",
       "       'Assay_Target', 'Assay_Target_Sub_Region', 'Measurand_Antibody',\n",
       "       'Assay_Replicate', 'Sample_Type', 'Sample_Dilution', 'Interpretation',\n",
       "       'Derived_Result', 'Derived_Result_Units', 'Raw_Result',\n",
       "       'Raw_Result_Units', 'Positive_Control_Reading',\n",
       "       'Negative_Control_Reading', 'Biospecimen_Test_Results_Comments',\n",
       "       'Research_Participant_ID', 'Harmonized_Interpretation',\n",
       "       'Seronet_Participant_ID', 'SeroNet_Cohort', 'Normalized_Visit_Index',\n",
       "       'Has_Serology', 'Has Specimen', 'Serology Status',\n",
       "       'Collection_To_Test_Interval', 'Seronet_Assay_ID'],\n",
       "      dtype='object')"
      ]
     },
     "execution_count": 45,
     "metadata": {},
     "output_type": "execute_result"
    }
   ],
   "source": [
    "bio_test.columns"
   ]
  },
  {
   "cell_type": "code",
   "execution_count": 46,
   "metadata": {},
   "outputs": [],
   "source": [
    "new_cols = [\"Seronet_Participant_ID\", \"SeroNet_Cohort\", \"Normalized_Visit_Index\", \"Instrument_ID\", \n",
    "            \"Assay_Kit_Lot_Number\", \"Test_Batch_ID\", \"Biospecimen_Collection_to_Test_Duration\", \"Collection_To_Test_Interval\",\n",
    "            \"Seronet_Assay_ID\",\n",
    "            \"Assay_Target_Organism\", \"Assay_Target\", \"Assay_Target_Sub_Region\", \"Measurand_Antibody\", \"Assay_Replicate\", \n",
    "            \"Sample_Type\", \"Sample_Dilution\", \"Interpretation\", \"Harmonized_Interpretation\" ,\"Derived_Result\", \n",
    "            \"Derived_Result_Units\", \"Raw_Result\", \"Raw_Result_Units\", \"Positive_Control_Reading\", \"Negative_Control_Reading\",\n",
    "            \"Biospecimen_Test_Results_Comments\"]\n",
    "bio_test  = bio_test[new_cols]"
   ]
  },
  {
   "cell_type": "code",
   "execution_count": 47,
   "metadata": {},
   "outputs": [],
   "source": [
    "#bio_test = bio_test.drop([\"Assay_ID\", \"Visit_Info_ID\", \"Research_Participant_ID\"], axis=1)"
   ]
  },
  {
   "cell_type": "code",
   "execution_count": 48,
   "metadata": {},
   "outputs": [],
   "source": [
    "columns = [\"Seronet_Assay_ID\",\"Collection_To_Test_Interval\"]\n",
    "categorical =  [\"Seronet_Assay_ID\",\"Collection_To_Test_Interval\"]\n",
    "groupby = 'SeroNet_Cohort'"
   ]
  },
  {
   "cell_type": "code",
   "execution_count": 49,
   "metadata": {},
   "outputs": [],
   "source": [
    "order_dict = {}\n",
    "order_dict[\"Seronet_Assay_ID\"] = list(set(bio_test[\"Seronet_Assay_ID\"]))\n",
    "order_dict[\"Seronet_Assay_ID\"].sort()\n",
    "order_dict[\"SeroNet_Cohort\"] = [\"Healthy Cohort\", \"Comorbidity Cohort\",  \"Cancer\",   \"IBD\",  \"HIV\", \"Transplant\"]\n",
    "\n",
    "order_dict[\"Collection_To_Test_Interval\"] = ['Negative Test Duration', 'Tested Same Day (0 to 24 hours)', 'Tested Next  Day (24 to 48 hours)',\n",
    "                                            'Tested with in a week (3 to 7 days)', 'Tested after week (over 7 days)']"
   ]
  },
  {
   "cell_type": "code",
   "execution_count": 50,
   "metadata": {},
   "outputs": [],
   "source": [
    "bio_test[\"Positive_Control_Reading\"].fillna(\"Not Reported\", inplace=True)\n",
    "bio_test[\"Negative_Control_Reading\"].fillna(\"Not Reported\", inplace=True)\n",
    "bio_test[\"Biospecimen_Test_Results_Comments\"].fillna(\"N/A\", inplace=True)\n",
    "bio_test[\"Biospecimen_Test_Results_Comments\"] = bio_test[\"Biospecimen_Test_Results_Comments\"].replace(\"\", \"N/A\")"
   ]
  },
  {
   "cell_type": "code",
   "execution_count": 51,
   "metadata": {},
   "outputs": [],
   "source": [
    "bio_test = bio_test.query(\"Biospecimen_Collection_to_Test_Duration >= 0\")"
   ]
  },
  {
   "cell_type": "code",
   "execution_count": 52,
   "metadata": {},
   "outputs": [
    {
     "name": "stderr",
     "output_type": "stream",
     "text": [
      "C:\\ProgramData\\anaconda3\\Lib\\site-packages\\tableone\\tableone.py:1457: UserWarning: Order value not found: Collection_To_Test_Interval: ['Negative Test Duration']\n",
      "  warnings.warn((\"Order value not found: \"\n"
     ]
    }
   ],
   "source": [
    "bio_data_table2 = TableOne(bio_test, columns, categorical, groupby, order=order_dict)"
   ]
  },
  {
   "cell_type": "code",
   "execution_count": 53,
   "metadata": {},
   "outputs": [],
   "source": [
    "bio_data_table1.to_excel(bio_test_writer, 'Assays_Results_Summary')\n",
    "assay_table.to_excel(bio_test_writer, \"Assays by Visit\", index = False)\n",
    "bio_data_table2.to_excel(bio_test_writer, \"Individal Assay Summary\")\n",
    "bio_test.to_excel(bio_test_writer, \"Test Result Data\", index = False)"
   ]
  },
  {
   "cell_type": "code",
   "execution_count": 54,
   "metadata": {},
   "outputs": [
    {
     "data": {
      "text/plain": [
       "0"
      ]
     },
     "execution_count": 54,
     "metadata": {},
     "output_type": "execute_result"
    }
   ],
   "source": [
    "workbook = bio_test_writer.book\n",
    "worksheet = bio_test_writer.sheets['Assays_Results_Summary']\n",
    "column_fmt = workbook.add_format({'font_name': 'Arial', 'font_size': 10, 'align': 'center'})\n",
    "worksheet.set_column(0, 0, 35, column_fmt)   #this is column header names\n",
    "worksheet.set_column(1, 1, 45, column_fmt)   #this is sub column header names\n",
    "worksheet.set_column(2, 3, 12, column_fmt)   #all the data\n",
    "worksheet.set_column(4, 17, 20, column_fmt)  #all the data\n",
    "\n",
    "row_fmt = workbook.add_format({'text_wrap': True})\n",
    "worksheet.set_row(1, 30, row_fmt)"
   ]
  },
  {
   "cell_type": "code",
   "execution_count": 55,
   "metadata": {
    "scrolled": true
   },
   "outputs": [
    {
     "data": {
      "text/plain": [
       "0"
      ]
     },
     "execution_count": 55,
     "metadata": {},
     "output_type": "execute_result"
    }
   ],
   "source": [
    "workbook = bio_test_writer.book\n",
    "worksheet = bio_test_writer.sheets['Individal Assay Summary']\n",
    "column_fmt = workbook.add_format({'font_name': 'Arial', 'font_size': 10, 'align': 'center'})\n",
    "worksheet.set_column(0, 0, 35, column_fmt)   #this is column header names\n",
    "worksheet.set_column(1, 1, 35, column_fmt)   #this is sub column header names\n",
    "worksheet.set_column(2, 3, 12, column_fmt)   #all the data\n",
    "worksheet.set_column(4, 17, 20, column_fmt)  #all the data\n",
    "\n",
    "row_fmt = workbook.add_format({'text_wrap': True})\n",
    "worksheet.set_row(1, 30, row_fmt)"
   ]
  },
  {
   "cell_type": "code",
   "execution_count": 56,
   "metadata": {},
   "outputs": [],
   "source": [
    "#biospecimen_test_results = bio_test.merge(assay_summary[[\"Visit_Info_ID\", \"Normalized_Visit_Index\", 'Seronet_Cohort']])"
   ]
  },
  {
   "cell_type": "code",
   "execution_count": 57,
   "metadata": {},
   "outputs": [],
   "source": [
    "'''\n",
    "Ensure that the Release_Data_Dictionary.xlsx workbook is stored in the same folder as this notebook.\n",
    "'''\n",
    "dictionary = pd.read_excel(\"Release_Data_Dictionary_External.xlsx\", sheet_name = \"Testing_Dictionary\")"
   ]
  },
  {
   "cell_type": "code",
   "execution_count": 58,
   "metadata": {},
   "outputs": [],
   "source": [
    "dictionary.to_excel(bio_test_writer, 'Data_Dictionary', index = False)"
   ]
  },
  {
   "cell_type": "code",
   "execution_count": 59,
   "metadata": {},
   "outputs": [],
   "source": [
    "bio_test_writer.close()"
   ]
  },
  {
   "cell_type": "code",
   "execution_count": 60,
   "metadata": {},
   "outputs": [],
   "source": [
    "'''\n",
    "Open the workbook to add additional notes to the Summary page.\n",
    "Each note shoud be on a separate line. Add note as a single value array: noteX = ['noteX: This is a sample note.']\n",
    "Append note to sheet.\n",
    "Save workbook.\n",
    "'''\n",
    "wb = load_workbook(f'{output_folder}{file_sep}{sheet_name}_{version_num}.xlsx')\n",
    "sheet = wb['Assays_Results_Summary']\n",
    "note0 = ['']\n",
    "note1 = ['Note1: There are 2,289 visits not shown']\n",
    "note2 = ['                 There are 1,737 visits with samples, but no serology data was submitted']\n",
    "note3 = ['                 There are 1,065 visits with no samples and no serology data was submitted']\n",
    "sheet.append(note0)\n",
    "sheet.append(note1)\n",
    "sheet.append(note2)\n",
    "sheet.append(note3)\n",
    "wb.save(filename = f'{output_folder}{file_sep}{sheet_name}_{version_num}.xlsx')"
   ]
  },
  {
   "cell_type": "code",
   "execution_count": null,
   "metadata": {},
   "outputs": [],
   "source": []
  },
  {
   "cell_type": "code",
   "execution_count": null,
   "metadata": {},
   "outputs": [],
   "source": []
  },
  {
   "cell_type": "code",
   "execution_count": null,
   "metadata": {},
   "outputs": [],
   "source": []
  }
 ],
 "metadata": {
  "kernelspec": {
   "display_name": "Python 3 (ipykernel)",
   "language": "python",
   "name": "python3"
  },
  "language_info": {
   "codemirror_mode": {
    "name": "ipython",
    "version": 3
   },
   "file_extension": ".py",
   "mimetype": "text/x-python",
   "name": "python",
   "nbconvert_exporter": "python",
   "pygments_lexer": "ipython3",
   "version": "3.11.5"
  }
 },
 "nbformat": 4,
 "nbformat_minor": 4
}
