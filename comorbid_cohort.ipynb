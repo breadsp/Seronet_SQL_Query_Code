{
 "cells": [
  {
   "cell_type": "code",
   "execution_count": 1,
   "id": "82a134f5",
   "metadata": {},
   "outputs": [],
   "source": [
    "import mysql.connector as connection\n",
    "import pandas as pd\n",
    "import numpy as np\n",
    "import os\n",
    "from tableone import TableOne\n",
    "from openpyxl import load_workbook, Workbook\n",
    "from openpyxl.styles import Font\n",
    "import sqlalchemy as sd\n",
    "import datetime\n",
    "import icd10"
   ]
  },
  {
   "cell_type": "code",
   "execution_count": 2,
   "id": "6a9a1679",
   "metadata": {},
   "outputs": [],
   "source": [
    "last_edit = '11/20/2024'"
   ]
  },
  {
   "cell_type": "code",
   "execution_count": 3,
   "id": "9e4cbd0b",
   "metadata": {},
   "outputs": [],
   "source": [
    "v4_visits = r\"C:\\Users\\breadsp2\\Documents\\Release_4.0.0\\Participant_Visit_Info_4.0.0.xlsx\"\n",
    "v4_visits = pd.read_excel(v4_visits, sheet_name=\"Detailed_Report\")\n",
    "V4_fitler = False"
   ]
  },
  {
   "cell_type": "code",
   "execution_count": 4,
   "id": "93b61187",
   "metadata": {},
   "outputs": [],
   "source": [
    "pd.options.mode.chained_assignment = None  # default='warn'"
   ]
  },
  {
   "cell_type": "code",
   "execution_count": 5,
   "id": "acccf4ff",
   "metadata": {},
   "outputs": [],
   "source": [
    "'''\n",
    "Create a .env file to store hostname, database, username, and password as environment variables.  \n",
    "The .env file is stored in same folder as notebook.\n",
    "==============\n",
    "Format:\n",
    "HOST=a.b.c.d\n",
    "DB=<my.database>\n",
    "USER=john\n",
    "PWD=abc#123\n",
    "==============\n",
    "Note: no space around the \"=\" sign. Do not put any of the values in quotes.\n",
    "'''\n",
    "\n",
    "env = {}\n",
    "with open(\"test.env\") as f:\n",
    "    for line in f:\n",
    "        (k, v) = line.split(\"=\")\n",
    "        k = k.strip()\n",
    "        env[k] = v.strip()\n",
    "        \n",
    "HOST = env[\"HOST\"]\n",
    "DB = env[\"DB\"]\n",
    "USER = env[\"USER\"]\n",
    "PWD = env[\"PWD\"]"
   ]
  },
  {
   "cell_type": "code",
   "execution_count": 6,
   "id": "f5aa2f8b",
   "metadata": {},
   "outputs": [],
   "source": [
    "if V4_fitler == True:\n",
    "    version_num = \"4.2.0\"\n",
    "    output_folder = r\"C:\\Users\\breadsp2\\Desktop\\Release_4.2.0\"\n",
    "else: \n",
    "    version_num = \"5.2.0\"\n",
    "    output_folder = r\"C:\\Users\\breadsp2\\Desktop\\Release_5.2.0\"\n",
    "file_sep = os.path.sep\n",
    "release_date = '2024-10-01'"
   ]
  },
  {
   "cell_type": "code",
   "execution_count": 7,
   "id": "482a874c",
   "metadata": {},
   "outputs": [],
   "source": [
    "sheet_name = \"Participants_in_the_Comorbidity_Cohort\""
   ]
  },
  {
   "cell_type": "code",
   "execution_count": 8,
   "id": "981059ef",
   "metadata": {},
   "outputs": [],
   "source": [
    "creds = {'usr': USER, 'pwd': PWD, 'hst': HOST, \"prt\": 3306, 'dbn': DB}\n",
    "connstr = \"mysql+mysqlconnector://{usr}:{pwd}@{hst}:{prt}/{dbn}\"\n",
    "engine = sd.create_engine(connstr.format(**creds))\n",
    "conn = engine.connect()"
   ]
  },
  {
   "cell_type": "code",
   "execution_count": 9,
   "id": "191705b5",
   "metadata": {},
   "outputs": [],
   "source": [
    "cohort_data = pd.read_sql((\"SELECT p.Seronet_Participant_ID, nv.SeroNet_Cohort, nv.Research_Participant_ID, nv.Normalized_Visit_Index, nv.Visit_Info_ID,  ncv.Comorbidity, ncv.`Original_Names (Unique)`,  Harmonized_Value   \" + \n",
    "                           \"FROM Normalized_Comorbidity_Visits as ncv left join Normalized_Visit_Info as nv   \" + \n",
    "                           \"on ncv.Visit_Info_ID = nv.Visit_Info_ID left join Participant as p on nv.Research_Participant_ID = p.Research_Participant_ID \" +\n",
    "                           \"where nv.SeroNet_Cohort = 'Comorbidity Cohort' \" + \n",
    "                           \" Union \" + \n",
    "                           \"SELECT p.Seronet_Participant_ID, nv.SeroNet_Cohort, nv.Research_Participant_ID, nv.Normalized_Visit_Index, nv.Visit_Info_ID, 'Cancer' as 'Comorbidity', `Original Cancer Name` as 'Original_Names (Unique)',  `Harmonized Cancer Name` as Harmonized_Value  \" + \n",
    "                           \" FROM Normalized_Cancer_Names as cancer left join Normalized_Visit_Info as nv on cancer.Visit_Info_ID = nv.Visit_Info_ID   \" + \n",
    "                           \" left join Participant as p on nv.Research_Participant_ID = p.Research_Participant_ID \" +\n",
    "                           \" where nv.SeroNet_Cohort = 'Comorbidity Cohort'\" + \n",
    "                           \" Union  \" + \n",
    "                           \"SELECT p.Seronet_Participant_ID, nv.SeroNet_Cohort, nv.Research_Participant_ID, nv.Normalized_Visit_Index, nv.Visit_Info_ID, 'Transplant' as 'Comorbidity', `Organ_Transplant_Description_Or_ICD10_codes` as 'Original_Names (Unique)',  `Organ_Transplant_Description_Or_ICD10_codes` as Harmonized_Value  \" + \n",
    "                           \"FROM Participant_Other_Condition_Names as trans left join Normalized_Visit_Info as nv on trans.Visit_Info_ID = nv.Visit_Info_ID   \" + \n",
    "                           \" left join Participant as p on nv.Research_Participant_ID = p.Research_Participant_ID \" +\n",
    "                           \"where nv.SeroNet_Cohort = 'Comorbidity Cohort'\"), conn)"
   ]
  },
  {
   "cell_type": "code",
   "execution_count": 10,
   "id": "9b178b5a",
   "metadata": {},
   "outputs": [],
   "source": [
    "demo_file = output_folder + file_sep + \"Demographics_\" + version_num + \".xlsx\"\n",
    "demo_data = pd.read_excel(demo_file, sheet_name=\"Detailed_Report\")"
   ]
  },
  {
   "cell_type": "code",
   "execution_count": 11,
   "id": "5c9d502b",
   "metadata": {},
   "outputs": [],
   "source": [
    "curr_visit_file = output_folder + file_sep + \"Participant_Visit_Info_\" + version_num + \".xlsx\"\n",
    "curr_visit_data = pd.read_excel(curr_visit_file, sheet_name=\"Detailed_Report\")"
   ]
  },
  {
   "cell_type": "code",
   "execution_count": 12,
   "id": "8ee28da7",
   "metadata": {},
   "outputs": [],
   "source": [
    "cohort_data = cohort_data.merge(demo_data[\"Seronet_Participant_ID\"])\n",
    "cohort_data = cohort_data.merge(curr_visit_data[[\"Seronet_Participant_ID\", 'Normalized_Visit_Index']], how=\"right\")"
   ]
  },
  {
   "cell_type": "code",
   "execution_count": 13,
   "id": "eb8aaafd",
   "metadata": {},
   "outputs": [],
   "source": [
    "cohort_data = cohort_data.query(\"Harmonized_Value not in ('Participant is unsure if condition exists (answered Unknown Status)', \" + \n",
    "                                \"'Participant did not answer question, Unable to determine if condition exists', \" + \n",
    "                                \"'Participant does not have Condition (answered No at baseline)', 'N/A', 'Not Reported')\")"
   ]
  },
  {
   "cell_type": "code",
   "execution_count": 14,
   "id": "f8f1a91d",
   "metadata": {},
   "outputs": [],
   "source": [
    "cohort_data = cohort_data.query(\"Comorbidity not in ['Bacterial_Infection', 'Viral_Infection']\")\n",
    "cohort_data = cohort_data.query(\"`Original_Names (Unique)` not in ['N/A', 'Not Reported', 'Unknown']\")"
   ]
  },
  {
   "cell_type": "code",
   "execution_count": 15,
   "id": "b208a09b",
   "metadata": {},
   "outputs": [],
   "source": [
    "cohort_data.drop([\"Research_Participant_ID\", \"Visit_Info_ID\"], axis=1, inplace=True)"
   ]
  },
  {
   "cell_type": "code",
   "execution_count": 16,
   "id": "b557dc2d",
   "metadata": {},
   "outputs": [],
   "source": [
    "cohort_data.sort_values([\"Seronet_Participant_ID\", \"SeroNet_Cohort\", \"Normalized_Visit_Index\"], inplace=True)"
   ]
  },
  {
   "cell_type": "code",
   "execution_count": 17,
   "id": "9eea6e8e",
   "metadata": {},
   "outputs": [],
   "source": [
    "cohort_data = cohort_data.query(\"SeroNet_Cohort == SeroNet_Cohort\")"
   ]
  },
  {
   "cell_type": "code",
   "execution_count": 18,
   "id": "913e0be8",
   "metadata": {},
   "outputs": [],
   "source": [
    "part_list = cohort_data[['Seronet_Participant_ID', 'Comorbidity']].drop_duplicates()"
   ]
  },
  {
   "cell_type": "code",
   "execution_count": 19,
   "id": "df74fcb9",
   "metadata": {},
   "outputs": [],
   "source": [
    "comorbid_table = pd.crosstab(part_list['Seronet_Participant_ID'],part_list['Comorbidity'])"
   ]
  },
  {
   "cell_type": "code",
   "execution_count": 20,
   "id": "5a068b3a",
   "metadata": {},
   "outputs": [],
   "source": [
    "comorbid_table.reset_index(inplace=True)\n",
    "comorbid_table['Comorbidity Count'] = comorbid_table[comorbid_table.columns[1:]].sum(axis=1)\n",
    "comorbid_table[\"SeroNet_Cohort\"] = 'Comorbidity Cohort'"
   ]
  },
  {
   "cell_type": "code",
   "execution_count": 21,
   "id": "ca8c7836",
   "metadata": {},
   "outputs": [],
   "source": [
    "new_cols = [\"Seronet_Participant_ID\",\"SeroNet_Cohort\", \"Comorbidity Count\",\n",
    "            \"Acute_Liver_Disease\", \"Autoimmune_Disorder\", \"Cancer\", \"Cardiovascular_Disease\", \n",
    "            \"Chronic_Kidney_Disease\", \"Chronic_Liver_Disease\", \"Chronic_Lung_Disease\", \"Chronic_Neurological_Condition\", \n",
    "            \"Chronic_Oxygen_Requirement\", \"Diabetes\", \"Hypertension\", \"Immunosuppressive_Condition\", \"Inflammatory_Disease\",\n",
    "            \"Transplant\"]\n",
    "comorbid_table = comorbid_table[new_cols]"
   ]
  },
  {
   "cell_type": "code",
   "execution_count": 22,
   "id": "9efb72a2",
   "metadata": {},
   "outputs": [],
   "source": [
    "columns = ['Comorbidity Count']\n",
    "categorical =  ['Comorbidity Count']\n",
    "groupby = 'SeroNet_Cohort'"
   ]
  },
  {
   "cell_type": "code",
   "execution_count": 23,
   "id": "34c6b38f",
   "metadata": {},
   "outputs": [],
   "source": [
    "comorbid_table = pd.DataFrame(comorbid_table.values, columns=comorbid_table.columns.tolist())"
   ]
  },
  {
   "cell_type": "code",
   "execution_count": 24,
   "id": "7bee21d4",
   "metadata": {},
   "outputs": [],
   "source": [
    "base_table1 = TableOne(comorbid_table, columns, categorical, groupby)\n"
   ]
  },
  {
   "cell_type": "code",
   "execution_count": 25,
   "id": "14df38a0",
   "metadata": {},
   "outputs": [],
   "source": [
    "dictionary = pd.read_excel(\"Release_Data_Dictionary_External.xlsx\", sheet_name = \"comorbid_cohort\")"
   ]
  },
  {
   "cell_type": "code",
   "execution_count": 26,
   "id": "b938ff67",
   "metadata": {},
   "outputs": [],
   "source": [
    "comorbid_writer = pd.ExcelWriter(f'{output_folder}{file_sep}{sheet_name}_{version_num}.xlsx')\n",
    "base_table1.to_excel(comorbid_writer, \"Comorbidity Conditions Counts\")\n",
    "comorbid_table.to_excel(comorbid_writer, \"Summary_of_Conditions\", index = False)\n",
    "cohort_data.to_excel(comorbid_writer, \"All Comorbidities\", index = False)\n",
    "dictionary.to_excel(comorbid_writer, 'Data_Dictionary', index = False)"
   ]
  },
  {
   "cell_type": "code",
   "execution_count": 27,
   "id": "d4ad8869",
   "metadata": {},
   "outputs": [
    {
     "data": {
      "text/plain": [
       "0"
      ]
     },
     "execution_count": 27,
     "metadata": {},
     "output_type": "execute_result"
    }
   ],
   "source": [
    "workbook = comorbid_writer.book\n",
    "worksheet = comorbid_writer.sheets['Comorbidity Conditions Counts']\n",
    "column_fmt = workbook.add_format({'font_name': 'Arial', 'font_size': 10, 'align': 'center'})\n",
    "worksheet.set_column(0, 0, 25, column_fmt)   #this is column header names\n",
    "worksheet.set_column(1, 1, 12, column_fmt)   #this is sub column header names\n",
    "worksheet.set_column(2, 3, 12, column_fmt)   #all the data\n",
    "worksheet.set_column(4, 17, 20, column_fmt)  #all the data\n",
    "\n",
    "row_fmt = workbook.add_format({'text_wrap': True})\n",
    "worksheet.set_row(1, 30, row_fmt)"
   ]
  },
  {
   "cell_type": "code",
   "execution_count": 28,
   "id": "18240e1a",
   "metadata": {},
   "outputs": [],
   "source": [
    "comorbid_writer.close()"
   ]
  },
  {
   "cell_type": "code",
   "execution_count": 29,
   "id": "87151bf1",
   "metadata": {},
   "outputs": [],
   "source": [
    "'''\n",
    "Open the workbook to add additional notes to the Summary page.\n",
    "Each note shoud be on a separate line. Add note as a single value array: noteX = ['noteX: This is a sample note.']\n",
    "Append note to sheet.\n",
    "Save workbook.\n",
    "'''\n",
    "wb = load_workbook(f'{output_folder}{file_sep}{sheet_name}_{version_num}.xlsx')\n",
    "sheet = wb['Comorbidity Conditions Counts']\n",
    "note0 = ['']\n",
    "note1 = ['Note1: Counts represent unique comorbidity categories.']\n",
    "note2 = ['Note2: A Participant can have multiple conditions for a single category (i.e multiple autoimmune conditions)']\n",
    "note3 = ['Note3: Sheeet: All Comorbidities has all reported conditions for this cohort']\n",
    "\n",
    "sheet.append(note0)\n",
    "sheet.append(note1)\n",
    "sheet.append(note2)\n",
    "wb.save(filename = f'{output_folder}{file_sep}{sheet_name}_{version_num}.xlsx')"
   ]
  },
  {
   "cell_type": "code",
   "execution_count": null,
   "id": "23123c31",
   "metadata": {},
   "outputs": [],
   "source": []
  }
 ],
 "metadata": {
  "kernelspec": {
   "display_name": "Python 3 (ipykernel)",
   "language": "python",
   "name": "python3"
  },
  "language_info": {
   "codemirror_mode": {
    "name": "ipython",
    "version": 3
   },
   "file_extension": ".py",
   "mimetype": "text/x-python",
   "name": "python",
   "nbconvert_exporter": "python",
   "pygments_lexer": "ipython3",
   "version": "3.11.5"
  }
 },
 "nbformat": 4,
 "nbformat_minor": 5
}
